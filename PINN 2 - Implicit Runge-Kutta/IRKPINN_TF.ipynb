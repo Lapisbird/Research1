{
 "cells": [
  {
   "cell_type": "markdown",
   "metadata": {},
   "source": [
    "Reattempting the model in Tensorflow, because autograd.grad can only return the gradient after it has summed all the values, but I need them individually.\n",
    "Built off of the structure of the original PyTorch code.\n",
    "\n",
    "Just like mentioned before, I should really be using object-oriented programming. I didn't here because I am mainly just swapping out the PyTorch code for Tensorflow piece by piece."
   ]
  },
  {
   "cell_type": "markdown",
   "metadata": {},
   "source": [
    "Import Statements"
   ]
  },
  {
   "cell_type": "code",
   "execution_count": 204,
   "metadata": {},
   "outputs": [],
   "source": [
    "import os\n",
    "import numpy as np\n",
    "import pandas as pd\n",
    "import matplotlib.pyplot as plt\n",
    "import math\n",
    "from mpl_toolkits.mplot3d import Axes3D\n",
    "import scipy.io\n",
    "\n",
    "import tensorflow as tf\n",
    "from tensorflow.keras import Sequential\n",
    "from tensorflow.keras.layers import Dense"
   ]
  },
  {
   "cell_type": "markdown",
   "metadata": {},
   "source": [
    "Some Variables"
   ]
  },
  {
   "cell_type": "code",
   "execution_count": 205,
   "metadata": {},
   "outputs": [],
   "source": [
    "#number of intermediate steps\n",
    "q = 500\n",
    "\n",
    "#step size\n",
    "h = 0.8\n",
    "\n",
    "#start and end location\n",
    "start_t = 0.1\n",
    "end_t = start_t + h\n",
    "\n",
    "N = 100 #number of x values for training"
   ]
  },
  {
   "cell_type": "markdown",
   "metadata": {},
   "source": [
    "Import Data"
   ]
  },
  {
   "cell_type": "code",
   "execution_count": 206,
   "metadata": {},
   "outputs": [
    {
     "data": {
      "text/plain": [
       "\"\\ndata = scipy.io.loadmat('./data/burgers_shock.mat')\\n\\nt_points = data['t'].flatten()[:,None] # T x 1\\nx_points = data['x'].flatten()[:,None] # N x 1\\nExact = np.real(data['usol']).T # T x N\\n\\n#get data labels at t = 0.9 \\nindex = np.where(t_points == end_t)[0][0]\\nend_labels = Exact[index, :]\""
      ]
     },
     "execution_count": 206,
     "metadata": {},
     "output_type": "execute_result"
    }
   ],
   "source": [
    "#CREDIT TO https://github.com/maziarraissi/PINNs/blob/master/appendix/discrete_time_inference%20(Burgers)/Burgers_systematic.py FOR THE BELOW CODE TO IMPORT IRK WEIGHTS AND THE LABEL DATA (AND FOR THE DATA ITSELF)\n",
    "\n",
    "tmp = np.float32(np.loadtxt('./data/Butcher_IRK%d.txt' % (q), ndmin = 2))\n",
    "IRK_weights = np.reshape(tmp[0:q**2+q], (q+1,q)) #presume the first q rows and q columns represent a_{ij} values, and the final row represents the b_j values\n",
    "IRK_times = tmp[q**2+q:] #not sure what this is used for\n",
    "\n",
    "\n",
    "#I may choose to generate my own data once more...\n",
    "'''\n",
    "data = scipy.io.loadmat('./data/burgers_shock.mat')\n",
    "\n",
    "t_points = data['t'].flatten()[:,None] # T x 1\n",
    "x_points = data['x'].flatten()[:,None] # N x 1\n",
    "Exact = np.real(data['usol']).T # T x N\n",
    "\n",
    "#get data labels at t = 0.9 \n",
    "index = np.where(t_points == end_t)[0][0]\n",
    "end_labels = Exact[index, :]'''"
   ]
  },
  {
   "cell_type": "markdown",
   "metadata": {},
   "source": [
    "Generate Data"
   ]
  },
  {
   "cell_type": "code",
   "execution_count": 207,
   "metadata": {},
   "outputs": [],
   "source": [
    "input = np.random.rand(N) * 2 - 1 #x values between -1 and 1\n",
    "\n",
    "initial_vals = -np.sin(input * np.pi) #initial values at t = 0"
   ]
  },
  {
   "cell_type": "markdown",
   "metadata": {},
   "source": [
    "Define Network"
   ]
  },
  {
   "cell_type": "code",
   "execution_count": 208,
   "metadata": {},
   "outputs": [],
   "source": [
    "pinn = Sequential([\n",
    "    Dense(50, activation = 'tanh', input_shape=(1,)),\n",
    "    Dense(50, activation = 'tanh'),\n",
    "    Dense(50, activation = 'tanh'),\n",
    "    Dense(50, activation = 'tanh'),\n",
    "    Dense(50, activation = 'tanh'),\n",
    "    Dense(50, activation = 'tanh'),\n",
    "    Dense(q + 1)\n",
    "])"
   ]
  },
  {
   "cell_type": "markdown",
   "metadata": {},
   "source": [
    "Helper Methods"
   ]
  },
  {
   "cell_type": "code",
   "execution_count": 209,
   "metadata": {},
   "outputs": [],
   "source": [
    "#Nonelinear Burgers' Operator\n",
    "#@tf.function\n",
    "def NLO(input, outputs): #outputs is of the form N x q. Inputs is of form N x 1 and was used to get outputs\n",
    "\n",
    "\n",
    "\n",
    "    with tf.GradientTape(persistent=True) as tape:\n",
    "        tape.watch(input)\n",
    "        u = outputs\n",
    "\n",
    "    u_x = tape.batch_jacobian(u, input)\n",
    "    u_x = tf.squeeze(u_x, axis=-1)\n",
    "\n",
    "    u_xx = tape.batch_jacobian(u_x, input)\n",
    "    u_xx = tf.squeeze(u_xx, axis=-1)\n",
    "\n",
    "    del tape\n",
    "\n",
    "    #print(\"begin\")\n",
    "    #tf.print(\"u\", tf.shape(u))\n",
    "    #tf.print(\"u_x\", tf.shape(u_x))\n",
    "    #tf.print(\"u_xx\", tf.shape(u_xx))\n",
    "    #print(\"end\")\n",
    "\n",
    "\n",
    "    return u * u_x - (0.01/math.pi)*u_xx\n",
    "    \n",
    "    \n",
    "\n",
    "\n",
    "#Implicit Runge-Kutta Calculation (Combine Intermediate Terms with Butcher Tableau Coefficients)\n",
    "#@tf.function\n",
    "def IRK(input, outputs, initial_vals, coefficients): #outputs is tensor of size Nx(q+1), represnting q stages for N x-values and the final n+1 prediction. coefficients is a tensor of size (q+1) x q representing the Butcher Tableau. Input and initial_vals are size (N)\n",
    "\n",
    "    global N\n",
    "    global q\n",
    "    global h\n",
    "\n",
    "    outputs_truncated = outputs[:, :-1] #get all but last row\n",
    "\n",
    "    NLO_outputs = NLO(input, outputs_truncated) #perform non-linear operation on each of the outputs_truncated. Shape is still (N, q)\n",
    "\n",
    "\n",
    "    N_coefficients = tf.tile(tf.expand_dims(coefficients, 0), [N, 1, 1]) #stack N coefficients tensors on top of each other\n",
    "    NLO_outputs = tf.expand_dims(NLO_outputs, axis=-1) #reshape NLO_outputs_reshaped into shape (N, q, 1) for matrix multiplication\n",
    "\n",
    "    coefficients_applied = tf.linalg.matmul(N_coefficients, NLO_outputs) #perform matrix multiplication. This represents applying the coefficients a_{ij} (and b_i for n+1 prediction) from the Butcher Tableau to every element in NLO_outputs and THEN recombining them to make every new value which will go on to form the \"calculated\" outputs (intermediate stage values). Has shape (N, q+1, 1), since N_coefficients has shape (N, q+1, q) and NLO_outputs has shape (N, q, 1). For each layer in N, the matrix mulitplcaion (q+1, q) x (q, 1) takes place, resulting in a vector of shape (q+1, 1). N of these makes (N, q+1, 1)\n",
    "    coefficients_applied = tf.reshape(coefficients_applied, [N, -1]) #now shape (N, q + 1)\n",
    "\n",
    "    coefficients_applied = -h * coefficients_applied #apply the -h (-\\delta t) to each element in coefficients_applied\n",
    "    initial_vals = tf.reshape(initial_vals, [-1, 1]) #reshape initial_vals from (N) to (N, 1)\n",
    "\n",
    "\n",
    "\n",
    "    result = coefficients_applied + initial_vals #Every element in coefficients_applied has a value added to it which is the element from initial_vals on the same layer. We can add the shapes (N, q+1) and (N, 1) due to \"broadcasting\", which effectively stretches the shape of the vector\n",
    "\n",
    "    return result #returns a result which is the same shape as \"outputs\" and represents the same intermediate values, except these are the \"calculated\" versions and not the \"direct predictions\"\n",
    "\n"
   ]
  },
  {
   "cell_type": "markdown",
   "metadata": {},
   "source": [
    "Loss Functions"
   ]
  },
  {
   "cell_type": "code",
   "execution_count": 210,
   "metadata": {},
   "outputs": [],
   "source": [
    "#@tf.function\n",
    "def SSE_n(input, outputs, initial_vals, coefficients):\n",
    "\n",
    "    calculated_outputs = IRK(input, outputs, initial_vals, coefficients)\n",
    "\n",
    "    SSE_n_loss = tf.reduce_sum(tf.square(calculated_outputs - outputs))\n",
    "\n",
    "    return SSE_n_loss\n",
    "\n",
    "\n",
    "#@tf.function\n",
    "def SSE_b(model):\n",
    "    boundary_points = tf.constant([-1, 1], shape=(2,1))\n",
    "    boundary_results = model(boundary_points) #get all intermediary points and the n+1 prediction for x = -1 and 1\n",
    "    return tf.reduce_sum(tf.square(boundary_results)) #square results and sum them\n",
    "\n",
    "\n",
    "#@tf.function\n",
    "def SSE(input, outputs, initial_vals, coefficients, model):\n",
    "    SSE_n_loss = SSE_n(input, outputs, initial_vals, coefficients)\n",
    "    SSE_b_loss = SSE_b(model)\n",
    "    return SSE_n_loss + SSE_b_loss, SSE_n_loss, SSE_b_loss"
   ]
  },
  {
   "cell_type": "markdown",
   "metadata": {},
   "source": [
    "Training Setup"
   ]
  },
  {
   "cell_type": "code",
   "execution_count": 211,
   "metadata": {},
   "outputs": [],
   "source": [
    "input = tf.constant(input, dtype=tf.float32)\n",
    "initial_vals = tf.constant(initial_vals, dtype=tf.float32)\n",
    "coefficients = tf.constant(IRK_weights, dtype=tf.float32)\n",
    "\n",
    "input = tf.reshape(input, [-1, 1])\n",
    "initial_vals = tf.reshape(initial_vals, [-1, 1])"
   ]
  },
  {
   "cell_type": "markdown",
   "metadata": {},
   "source": [
    "Training"
   ]
  },
  {
   "cell_type": "code",
   "execution_count": 212,
   "metadata": {},
   "outputs": [
    {
     "name": "stdout",
     "output_type": "stream",
     "text": [
      "[[0 0 0 ... 0 0 0]\n",
      " [0 0 0 ... 0 0 0]\n",
      " [0 0 0 ... 0 0 0]\n",
      " ...\n",
      " [0 0 0 ... 0 0 0]\n",
      " [0 0 0 ... 0 0 0]\n",
      " [0 0 0 ... 0 0 0]]\n"
     ]
    },
    {
     "name": "stdout",
     "output_type": "stream",
     "text": [
      "STEP: 0 | Avg Losses | SSE_n: 26577.365234375 | SSE_b: 5.463316440582275 | Total: 26582.828125\n",
      "[[0 0 0 ... 0 0 0]\n",
      " [0 0 0 ... 0 0 0]\n",
      " [0 0 0 ... 0 0 0]\n",
      " ...\n",
      " [0 0 0 ... 0 0 0]\n",
      " [0 0 0 ... 0 0 0]\n",
      " [0 0 0 ... 0 0 0]]\n",
      "[[0 0 0 ... 0 0 0]\n",
      " [0 0 0 ... 0 0 0]\n",
      " [0 0 0 ... 0 0 0]\n",
      " ...\n",
      " [0 0 0 ... 0 0 0]\n",
      " [0 0 0 ... 0 0 0]\n",
      " [0 0 0 ... 0 0 0]]\n",
      "[[0 0 0 ... 0 0 0]\n",
      " [0 0 0 ... 0 0 0]\n",
      " [0 0 0 ... 0 0 0]\n",
      " ...\n",
      " [0 0 0 ... 0 0 0]\n",
      " [0 0 0 ... 0 0 0]\n",
      " [0 0 0 ... 0 0 0]]\n",
      "[[0 0 0 ... 0 0 0]\n",
      " [0 0 0 ... 0 0 0]\n",
      " [0 0 0 ... 0 0 0]\n",
      " ...\n",
      " [0 0 0 ... 0 0 0]\n",
      " [0 0 0 ... 0 0 0]\n",
      " [0 0 0 ... 0 0 0]]\n",
      "[[0 0 0 ... 0 0 0]\n",
      " [0 0 0 ... 0 0 0]\n",
      " [0 0 0 ... 0 0 0]\n",
      " ...\n",
      " [0 0 0 ... 0 0 0]\n",
      " [0 0 0 ... 0 0 0]\n",
      " [0 0 0 ... 0 0 0]]\n",
      "[[0 0 0 ... 0 0 0]\n",
      " [0 0 0 ... 0 0 0]\n",
      " [0 0 0 ... 0 0 0]\n",
      " ...\n",
      " [0 0 0 ... 0 0 0]\n",
      " [0 0 0 ... 0 0 0]\n",
      " [0 0 0 ... 0 0 0]]\n",
      "[[0 0 0 ... 0 0 0]\n",
      " [0 0 0 ... 0 0 0]\n",
      " [0 0 0 ... 0 0 0]\n",
      " ...\n",
      " [0 0 0 ... 0 0 0]\n",
      " [0 0 0 ... 0 0 0]\n",
      " [0 0 0 ... 0 0 0]]\n",
      "[[0 0 0 ... 0 0 0]\n",
      " [0 0 0 ... 0 0 0]\n",
      " [0 0 0 ... 0 0 0]\n",
      " ...\n",
      " [0 0 0 ... 0 0 0]\n",
      " [0 0 0 ... 0 0 0]\n",
      " [0 0 0 ... 0 0 0]]\n",
      "[[0 0 0 ... 0 0 0]\n",
      " [0 0 0 ... 0 0 0]\n",
      " [0 0 0 ... 0 0 0]\n",
      " ...\n",
      " [0 0 0 ... 0 0 0]\n",
      " [0 0 0 ... 0 0 0]\n",
      " [0 0 0 ... 0 0 0]]\n",
      "[[0 0 0 ... 0 0 0]\n",
      " [0 0 0 ... 0 0 0]\n",
      " [0 0 0 ... 0 0 0]\n",
      " ...\n",
      " [0 0 0 ... 0 0 0]\n",
      " [0 0 0 ... 0 0 0]\n",
      " [0 0 0 ... 0 0 0]]\n",
      "[[0 0 0 ... 0 0 0]\n",
      " [0 0 0 ... 0 0 0]\n",
      " [0 0 0 ... 0 0 0]\n",
      " ...\n",
      " [0 0 0 ... 0 0 0]\n",
      " [0 0 0 ... 0 0 0]\n",
      " [0 0 0 ... 0 0 0]]\n",
      "[[0 0 0 ... 0 0 0]\n",
      " [0 0 0 ... 0 0 0]\n",
      " [0 0 0 ... 0 0 0]\n",
      " ...\n",
      " [0 0 0 ... 0 0 0]\n",
      " [0 0 0 ... 0 0 0]\n",
      " [0 0 0 ... 0 0 0]]\n",
      "[[0 0 0 ... 0 0 0]\n",
      " [0 0 0 ... 0 0 0]\n",
      " [0 0 0 ... 0 0 0]\n",
      " ...\n",
      " [0 0 0 ... 0 0 0]\n",
      " [0 0 0 ... 0 0 0]\n",
      " [0 0 0 ... 0 0 0]]\n",
      "[[0 0 0 ... 0 0 0]\n",
      " [0 0 0 ... 0 0 0]\n",
      " [0 0 0 ... 0 0 0]\n",
      " ...\n",
      " [0 0 0 ... 0 0 0]\n",
      " [0 0 0 ... 0 0 0]\n",
      " [0 0 0 ... 0 0 0]]\n",
      "[[0 0 0 ... 0 0 0]\n",
      " [0 0 0 ... 0 0 0]\n",
      " [0 0 0 ... 0 0 0]\n",
      " ...\n",
      " [0 0 0 ... 0 0 0]\n",
      " [0 0 0 ... 0 0 0]\n",
      " [0 0 0 ... 0 0 0]]\n",
      "[[0 0 0 ... 0 0 0]\n",
      " [0 0 0 ... 0 0 0]\n",
      " [0 0 0 ... 0 0 0]\n",
      " ...\n",
      " [0 0 0 ... 0 0 0]\n",
      " [0 0 0 ... 0 0 0]\n",
      " [0 0 0 ... 0 0 0]]\n",
      "[[0 0 0 ... 0 0 0]\n",
      " [0 0 0 ... 0 0 0]\n",
      " [0 0 0 ... 0 0 0]\n",
      " ...\n",
      " [0 0 0 ... 0 0 0]\n",
      " [0 0 0 ... 0 0 0]\n",
      " [0 0 0 ... 0 0 0]]\n",
      "[[0 0 0 ... 0 0 0]\n",
      " [0 0 0 ... 0 0 0]\n",
      " [0 0 0 ... 0 0 0]\n",
      " ...\n",
      " [0 0 0 ... 0 0 0]\n",
      " [0 0 0 ... 0 0 0]\n",
      " [0 0 0 ... 0 0 0]]\n",
      "[[0 0 0 ... 0 0 0]\n",
      " [0 0 0 ... 0 0 0]\n",
      " [0 0 0 ... 0 0 0]\n",
      " ...\n",
      " [0 0 0 ... 0 0 0]\n",
      " [0 0 0 ... 0 0 0]\n",
      " [0 0 0 ... 0 0 0]]\n",
      "[[0 0 0 ... 0 0 0]\n",
      " [0 0 0 ... 0 0 0]\n",
      " [0 0 0 ... 0 0 0]\n",
      " ...\n",
      " [0 0 0 ... 0 0 0]\n",
      " [0 0 0 ... 0 0 0]\n",
      " [0 0 0 ... 0 0 0]]\n",
      "[[0 0 0 ... 0 0 0]\n",
      " [0 0 0 ... 0 0 0]\n",
      " [0 0 0 ... 0 0 0]\n",
      " ...\n",
      " [0 0 0 ... 0 0 0]\n",
      " [0 0 0 ... 0 0 0]\n",
      " [0 0 0 ... 0 0 0]]\n",
      "[[0 0 0 ... 0 0 0]\n",
      " [0 0 0 ... 0 0 0]\n",
      " [0 0 0 ... 0 0 0]\n",
      " ...\n",
      " [0 0 0 ... 0 0 0]\n",
      " [0 0 0 ... 0 0 0]\n",
      " [0 0 0 ... 0 0 0]]\n",
      "[[0 0 0 ... 0 0 0]\n",
      " [0 0 0 ... 0 0 0]\n",
      " [0 0 0 ... 0 0 0]\n",
      " ...\n",
      " [0 0 0 ... 0 0 0]\n",
      " [0 0 0 ... 0 0 0]\n",
      " [0 0 0 ... 0 0 0]]\n",
      "[[0 0 0 ... 0 0 0]\n",
      " [0 0 0 ... 0 0 0]\n",
      " [0 0 0 ... 0 0 0]\n",
      " ...\n",
      " [0 0 0 ... 0 0 0]\n",
      " [0 0 0 ... 0 0 0]\n",
      " [0 0 0 ... 0 0 0]]\n",
      "[[0 0 0 ... 0 0 0]\n",
      " [0 0 0 ... 0 0 0]\n",
      " [0 0 0 ... 0 0 0]\n",
      " ...\n",
      " [0 0 0 ... 0 0 0]\n",
      " [0 0 0 ... 0 0 0]\n",
      " [0 0 0 ... 0 0 0]]\n"
     ]
    },
    {
     "ename": "KeyboardInterrupt",
     "evalue": "",
     "output_type": "error",
     "traceback": [
      "\u001b[0;31m---------------------------------------------------------------------------\u001b[0m",
      "\u001b[0;31mKeyboardInterrupt\u001b[0m                         Traceback (most recent call last)",
      "\u001b[1;32m/Users/alexning/Desktop/Life/UVA/Research/Research1 (Public Github repo)/PINN 2 - Implicit Runge-Kutta/IRKPINN_TF.ipynb Cell 19\u001b[0m line \u001b[0;36m1\n\u001b[1;32m      <a href='vscode-notebook-cell:/Users/alexning/Desktop/Life/UVA/Research/Research1%20%28Public%20Github%20repo%29/PINN%202%20-%20Implicit%20Runge-Kutta/IRKPINN_TF.ipynb#X32sZmlsZQ%3D%3D?line=6'>7</a>\u001b[0m     tape\u001b[39m.\u001b[39mwatch(\u001b[39minput\u001b[39m)\n\u001b[1;32m      <a href='vscode-notebook-cell:/Users/alexning/Desktop/Life/UVA/Research/Research1%20%28Public%20Github%20repo%29/PINN%202%20-%20Implicit%20Runge-Kutta/IRKPINN_TF.ipynb#X32sZmlsZQ%3D%3D?line=8'>9</a>\u001b[0m     outputs \u001b[39m=\u001b[39m pinn(\u001b[39minput\u001b[39m)\n\u001b[0;32m---> <a href='vscode-notebook-cell:/Users/alexning/Desktop/Life/UVA/Research/Research1%20%28Public%20Github%20repo%29/PINN%202%20-%20Implicit%20Runge-Kutta/IRKPINN_TF.ipynb#X32sZmlsZQ%3D%3D?line=10'>11</a>\u001b[0m     overall_loss, SSE_n_loss, SSE_b_loss \u001b[39m=\u001b[39m SSE(\u001b[39minput\u001b[39m, outputs, initial_vals, coefficients, pinn)\n\u001b[1;32m     <a href='vscode-notebook-cell:/Users/alexning/Desktop/Life/UVA/Research/Research1%20%28Public%20Github%20repo%29/PINN%202%20-%20Implicit%20Runge-Kutta/IRKPINN_TF.ipynb#X32sZmlsZQ%3D%3D?line=12'>13</a>\u001b[0m grads \u001b[39m=\u001b[39m tape\u001b[39m.\u001b[39mgradient(overall_loss, pinn\u001b[39m.\u001b[39mtrainable_variables)\n\u001b[1;32m     <a href='vscode-notebook-cell:/Users/alexning/Desktop/Life/UVA/Research/Research1%20%28Public%20Github%20repo%29/PINN%202%20-%20Implicit%20Runge-Kutta/IRKPINN_TF.ipynb#X32sZmlsZQ%3D%3D?line=14'>15</a>\u001b[0m optimizer\u001b[39m.\u001b[39mapply_gradients(\u001b[39mzip\u001b[39m(grads, pinn\u001b[39m.\u001b[39mtrainable_variables))\n",
      "\u001b[1;32m/Users/alexning/Desktop/Life/UVA/Research/Research1 (Public Github repo)/PINN 2 - Implicit Runge-Kutta/IRKPINN_TF.ipynb Cell 19\u001b[0m line \u001b[0;36m2\n\u001b[1;32m     <a href='vscode-notebook-cell:/Users/alexning/Desktop/Life/UVA/Research/Research1%20%28Public%20Github%20repo%29/PINN%202%20-%20Implicit%20Runge-Kutta/IRKPINN_TF.ipynb#X32sZmlsZQ%3D%3D?line=18'>19</a>\u001b[0m \u001b[39mdef\u001b[39;00m \u001b[39mSSE\u001b[39m(\u001b[39minput\u001b[39m, outputs, initial_vals, coefficients, model):\n\u001b[0;32m---> <a href='vscode-notebook-cell:/Users/alexning/Desktop/Life/UVA/Research/Research1%20%28Public%20Github%20repo%29/PINN%202%20-%20Implicit%20Runge-Kutta/IRKPINN_TF.ipynb#X32sZmlsZQ%3D%3D?line=19'>20</a>\u001b[0m     SSE_n_loss \u001b[39m=\u001b[39m SSE_n(\u001b[39minput\u001b[39m, outputs, initial_vals, coefficients)\n\u001b[1;32m     <a href='vscode-notebook-cell:/Users/alexning/Desktop/Life/UVA/Research/Research1%20%28Public%20Github%20repo%29/PINN%202%20-%20Implicit%20Runge-Kutta/IRKPINN_TF.ipynb#X32sZmlsZQ%3D%3D?line=20'>21</a>\u001b[0m     SSE_b_loss \u001b[39m=\u001b[39m SSE_b(model)\n\u001b[1;32m     <a href='vscode-notebook-cell:/Users/alexning/Desktop/Life/UVA/Research/Research1%20%28Public%20Github%20repo%29/PINN%202%20-%20Implicit%20Runge-Kutta/IRKPINN_TF.ipynb#X32sZmlsZQ%3D%3D?line=21'>22</a>\u001b[0m     \u001b[39mreturn\u001b[39;00m SSE_n_loss \u001b[39m+\u001b[39m SSE_b_loss, SSE_n_loss, SSE_b_loss\n",
      "\u001b[1;32m/Users/alexning/Desktop/Life/UVA/Research/Research1 (Public Github repo)/PINN 2 - Implicit Runge-Kutta/IRKPINN_TF.ipynb Cell 19\u001b[0m line \u001b[0;36m4\n\u001b[1;32m      <a href='vscode-notebook-cell:/Users/alexning/Desktop/Life/UVA/Research/Research1%20%28Public%20Github%20repo%29/PINN%202%20-%20Implicit%20Runge-Kutta/IRKPINN_TF.ipynb#X32sZmlsZQ%3D%3D?line=1'>2</a>\u001b[0m \u001b[39mdef\u001b[39;00m \u001b[39mSSE_n\u001b[39m(\u001b[39minput\u001b[39m, outputs, initial_vals, coefficients):\n\u001b[0;32m----> <a href='vscode-notebook-cell:/Users/alexning/Desktop/Life/UVA/Research/Research1%20%28Public%20Github%20repo%29/PINN%202%20-%20Implicit%20Runge-Kutta/IRKPINN_TF.ipynb#X32sZmlsZQ%3D%3D?line=3'>4</a>\u001b[0m     calculated_outputs \u001b[39m=\u001b[39m IRK(\u001b[39minput\u001b[39m, outputs, initial_vals, coefficients)\n\u001b[1;32m      <a href='vscode-notebook-cell:/Users/alexning/Desktop/Life/UVA/Research/Research1%20%28Public%20Github%20repo%29/PINN%202%20-%20Implicit%20Runge-Kutta/IRKPINN_TF.ipynb#X32sZmlsZQ%3D%3D?line=5'>6</a>\u001b[0m     SSE_n_loss \u001b[39m=\u001b[39m tf\u001b[39m.\u001b[39mreduce_sum(tf\u001b[39m.\u001b[39msquare(calculated_outputs \u001b[39m-\u001b[39m outputs))\n\u001b[1;32m      <a href='vscode-notebook-cell:/Users/alexning/Desktop/Life/UVA/Research/Research1%20%28Public%20Github%20repo%29/PINN%202%20-%20Implicit%20Runge-Kutta/IRKPINN_TF.ipynb#X32sZmlsZQ%3D%3D?line=7'>8</a>\u001b[0m     \u001b[39mreturn\u001b[39;00m SSE_n_loss\n",
      "\u001b[1;32m/Users/alexning/Desktop/Life/UVA/Research/Research1 (Public Github repo)/PINN 2 - Implicit Runge-Kutta/IRKPINN_TF.ipynb Cell 19\u001b[0m line \u001b[0;36m4\n\u001b[1;32m     <a href='vscode-notebook-cell:/Users/alexning/Desktop/Life/UVA/Research/Research1%20%28Public%20Github%20repo%29/PINN%202%20-%20Implicit%20Runge-Kutta/IRKPINN_TF.ipynb#X32sZmlsZQ%3D%3D?line=38'>39</a>\u001b[0m \u001b[39mglobal\u001b[39;00m h\n\u001b[1;32m     <a href='vscode-notebook-cell:/Users/alexning/Desktop/Life/UVA/Research/Research1%20%28Public%20Github%20repo%29/PINN%202%20-%20Implicit%20Runge-Kutta/IRKPINN_TF.ipynb#X32sZmlsZQ%3D%3D?line=40'>41</a>\u001b[0m outputs_truncated \u001b[39m=\u001b[39m outputs[:, :\u001b[39m-\u001b[39m\u001b[39m1\u001b[39m] \u001b[39m#get all but last row\u001b[39;00m\n\u001b[0;32m---> <a href='vscode-notebook-cell:/Users/alexning/Desktop/Life/UVA/Research/Research1%20%28Public%20Github%20repo%29/PINN%202%20-%20Implicit%20Runge-Kutta/IRKPINN_TF.ipynb#X32sZmlsZQ%3D%3D?line=42'>43</a>\u001b[0m NLO_outputs \u001b[39m=\u001b[39m NLO(\u001b[39minput\u001b[39m, outputs_truncated) \u001b[39m#perform non-linear operation on each of the outputs_truncated. Shape is still (N, q)\u001b[39;00m\n\u001b[1;32m     <a href='vscode-notebook-cell:/Users/alexning/Desktop/Life/UVA/Research/Research1%20%28Public%20Github%20repo%29/PINN%202%20-%20Implicit%20Runge-Kutta/IRKPINN_TF.ipynb#X32sZmlsZQ%3D%3D?line=45'>46</a>\u001b[0m N_coefficients \u001b[39m=\u001b[39m tf\u001b[39m.\u001b[39mtile(tf\u001b[39m.\u001b[39mexpand_dims(coefficients, \u001b[39m0\u001b[39m), [N, \u001b[39m1\u001b[39m, \u001b[39m1\u001b[39m]) \u001b[39m#stack N coefficients tensors on top of each other\u001b[39;00m\n\u001b[1;32m     <a href='vscode-notebook-cell:/Users/alexning/Desktop/Life/UVA/Research/Research1%20%28Public%20Github%20repo%29/PINN%202%20-%20Implicit%20Runge-Kutta/IRKPINN_TF.ipynb#X32sZmlsZQ%3D%3D?line=46'>47</a>\u001b[0m NLO_outputs \u001b[39m=\u001b[39m tf\u001b[39m.\u001b[39mexpand_dims(NLO_outputs, axis\u001b[39m=\u001b[39m\u001b[39m-\u001b[39m\u001b[39m1\u001b[39m) \u001b[39m#reshape NLO_outputs_reshaped into shape (N, q, 1) for matrix multiplication\u001b[39;00m\n",
      "\u001b[1;32m/Users/alexning/Desktop/Life/UVA/Research/Research1 (Public Github repo)/PINN 2 - Implicit Runge-Kutta/IRKPINN_TF.ipynb Cell 19\u001b[0m line \u001b[0;36m1\n\u001b[1;32m     <a href='vscode-notebook-cell:/Users/alexning/Desktop/Life/UVA/Research/Research1%20%28Public%20Github%20repo%29/PINN%202%20-%20Implicit%20Runge-Kutta/IRKPINN_TF.ipynb#X32sZmlsZQ%3D%3D?line=10'>11</a>\u001b[0m u_x \u001b[39m=\u001b[39m tape\u001b[39m.\u001b[39mbatch_jacobian(u, \u001b[39minput\u001b[39m)\n\u001b[1;32m     <a href='vscode-notebook-cell:/Users/alexning/Desktop/Life/UVA/Research/Research1%20%28Public%20Github%20repo%29/PINN%202%20-%20Implicit%20Runge-Kutta/IRKPINN_TF.ipynb#X32sZmlsZQ%3D%3D?line=11'>12</a>\u001b[0m u_x \u001b[39m=\u001b[39m tf\u001b[39m.\u001b[39msqueeze(u_x, axis\u001b[39m=\u001b[39m\u001b[39m-\u001b[39m\u001b[39m1\u001b[39m)\n\u001b[0;32m---> <a href='vscode-notebook-cell:/Users/alexning/Desktop/Life/UVA/Research/Research1%20%28Public%20Github%20repo%29/PINN%202%20-%20Implicit%20Runge-Kutta/IRKPINN_TF.ipynb#X32sZmlsZQ%3D%3D?line=13'>14</a>\u001b[0m u_xx \u001b[39m=\u001b[39m tape\u001b[39m.\u001b[39mbatch_jacobian(u_x, \u001b[39minput\u001b[39m)\n\u001b[1;32m     <a href='vscode-notebook-cell:/Users/alexning/Desktop/Life/UVA/Research/Research1%20%28Public%20Github%20repo%29/PINN%202%20-%20Implicit%20Runge-Kutta/IRKPINN_TF.ipynb#X32sZmlsZQ%3D%3D?line=14'>15</a>\u001b[0m u_xx \u001b[39m=\u001b[39m tf\u001b[39m.\u001b[39msqueeze(u_xx, axis\u001b[39m=\u001b[39m\u001b[39m-\u001b[39m\u001b[39m1\u001b[39m)\n\u001b[1;32m     <a href='vscode-notebook-cell:/Users/alexning/Desktop/Life/UVA/Research/Research1%20%28Public%20Github%20repo%29/PINN%202%20-%20Implicit%20Runge-Kutta/IRKPINN_TF.ipynb#X32sZmlsZQ%3D%3D?line=16'>17</a>\u001b[0m \u001b[39mdel\u001b[39;00m tape\n",
      "File \u001b[0;32m~/anaconda3/envs/env-2-ai-tf/lib/python3.11/site-packages/tensorflow/python/eager/backprop.py:1314\u001b[0m, in \u001b[0;36mGradientTape.batch_jacobian\u001b[0;34m(self, target, source, unconnected_gradients, parallel_iterations, experimental_use_pfor)\u001b[0m\n\u001b[1;32m   1312\u001b[0m \u001b[39mif\u001b[39;00m experimental_use_pfor:\n\u001b[1;32m   1313\u001b[0m   \u001b[39mtry\u001b[39;00m:\n\u001b[0;32m-> 1314\u001b[0m     output \u001b[39m=\u001b[39m pfor_ops\u001b[39m.\u001b[39mpfor(loop_fn, target_row_size,\n\u001b[1;32m   1315\u001b[0m                            parallel_iterations\u001b[39m=\u001b[39mparallel_iterations)\n\u001b[1;32m   1316\u001b[0m   \u001b[39mexcept\u001b[39;00m \u001b[39mValueError\u001b[39;00m \u001b[39mas\u001b[39;00m err:\n\u001b[1;32m   1317\u001b[0m     \u001b[39mraise\u001b[39;00m \u001b[39mValueError\u001b[39;00m(\n\u001b[1;32m   1318\u001b[0m         \u001b[39m\"\u001b[39m\u001b[39mEncountered an exception while vectorizing the \u001b[39m\u001b[39m\"\u001b[39m\n\u001b[1;32m   1319\u001b[0m         \u001b[39m\"\u001b[39m\u001b[39mbatch_jacobian computation. Vectorization can be disabled by \u001b[39m\u001b[39m\"\u001b[39m\n\u001b[1;32m   1320\u001b[0m         \u001b[39m\"\u001b[39m\u001b[39msetting experimental_use_pfor to False.\u001b[39m\u001b[39m\"\u001b[39m) \u001b[39mfrom\u001b[39;00m \u001b[39merr\u001b[39;00m\n",
      "File \u001b[0;32m~/anaconda3/envs/env-2-ai-tf/lib/python3.11/site-packages/tensorflow/python/ops/parallel_for/control_flow_ops.py:214\u001b[0m, in \u001b[0;36mpfor\u001b[0;34m(loop_fn, iters, fallback_to_while_loop, parallel_iterations, warn)\u001b[0m\n\u001b[1;32m    211\u001b[0m     def_function\u001b[39m.\u001b[39mrun_functions_eagerly(\u001b[39mFalse\u001b[39;00m)\n\u001b[1;32m    212\u001b[0m   f \u001b[39m=\u001b[39m def_function\u001b[39m.\u001b[39mfunction(f)\n\u001b[0;32m--> 214\u001b[0m outputs \u001b[39m=\u001b[39m f()\n\u001b[1;32m    215\u001b[0m \u001b[39mif\u001b[39;00m functions_run_eagerly \u001b[39mis\u001b[39;00m \u001b[39mnot\u001b[39;00m \u001b[39mNone\u001b[39;00m:\n\u001b[1;32m    216\u001b[0m   def_function\u001b[39m.\u001b[39mrun_functions_eagerly(functions_run_eagerly)\n",
      "File \u001b[0;32m~/anaconda3/envs/env-2-ai-tf/lib/python3.11/site-packages/tensorflow/python/util/traceback_utils.py:150\u001b[0m, in \u001b[0;36mfilter_traceback.<locals>.error_handler\u001b[0;34m(*args, **kwargs)\u001b[0m\n\u001b[1;32m    148\u001b[0m filtered_tb \u001b[39m=\u001b[39m \u001b[39mNone\u001b[39;00m\n\u001b[1;32m    149\u001b[0m \u001b[39mtry\u001b[39;00m:\n\u001b[0;32m--> 150\u001b[0m   \u001b[39mreturn\u001b[39;00m fn(\u001b[39m*\u001b[39margs, \u001b[39m*\u001b[39m\u001b[39m*\u001b[39mkwargs)\n\u001b[1;32m    151\u001b[0m \u001b[39mexcept\u001b[39;00m \u001b[39mException\u001b[39;00m \u001b[39mas\u001b[39;00m e:\n\u001b[1;32m    152\u001b[0m   filtered_tb \u001b[39m=\u001b[39m _process_traceback_frames(e\u001b[39m.\u001b[39m__traceback__)\n",
      "File \u001b[0;32m~/anaconda3/envs/env-2-ai-tf/lib/python3.11/site-packages/tensorflow/python/eager/polymorphic_function/polymorphic_function.py:894\u001b[0m, in \u001b[0;36mFunction.__call__\u001b[0;34m(self, *args, **kwds)\u001b[0m\n\u001b[1;32m    891\u001b[0m compiler \u001b[39m=\u001b[39m \u001b[39m\"\u001b[39m\u001b[39mxla\u001b[39m\u001b[39m\"\u001b[39m \u001b[39mif\u001b[39;00m \u001b[39mself\u001b[39m\u001b[39m.\u001b[39m_jit_compile \u001b[39melse\u001b[39;00m \u001b[39m\"\u001b[39m\u001b[39mnonXla\u001b[39m\u001b[39m\"\u001b[39m\n\u001b[1;32m    893\u001b[0m \u001b[39mwith\u001b[39;00m OptionalXlaContext(\u001b[39mself\u001b[39m\u001b[39m.\u001b[39m_jit_compile):\n\u001b[0;32m--> 894\u001b[0m   result \u001b[39m=\u001b[39m \u001b[39mself\u001b[39m\u001b[39m.\u001b[39m_call(\u001b[39m*\u001b[39margs, \u001b[39m*\u001b[39m\u001b[39m*\u001b[39mkwds)\n\u001b[1;32m    896\u001b[0m new_tracing_count \u001b[39m=\u001b[39m \u001b[39mself\u001b[39m\u001b[39m.\u001b[39mexperimental_get_tracing_count()\n\u001b[1;32m    897\u001b[0m without_tracing \u001b[39m=\u001b[39m (tracing_count \u001b[39m==\u001b[39m new_tracing_count)\n",
      "File \u001b[0;32m~/anaconda3/envs/env-2-ai-tf/lib/python3.11/site-packages/tensorflow/python/eager/polymorphic_function/polymorphic_function.py:942\u001b[0m, in \u001b[0;36mFunction._call\u001b[0;34m(self, *args, **kwds)\u001b[0m\n\u001b[1;32m    939\u001b[0m \u001b[39mtry\u001b[39;00m:\n\u001b[1;32m    940\u001b[0m   \u001b[39m# This is the first call of __call__, so we have to initialize.\u001b[39;00m\n\u001b[1;32m    941\u001b[0m   initializers \u001b[39m=\u001b[39m []\n\u001b[0;32m--> 942\u001b[0m   \u001b[39mself\u001b[39m\u001b[39m.\u001b[39m_initialize(args, kwds, add_initializers_to\u001b[39m=\u001b[39minitializers)\n\u001b[1;32m    943\u001b[0m \u001b[39mfinally\u001b[39;00m:\n\u001b[1;32m    944\u001b[0m   \u001b[39m# At this point we know that the initialization is complete (or less\u001b[39;00m\n\u001b[1;32m    945\u001b[0m   \u001b[39m# interestingly an exception was raised) so we no longer need a lock.\u001b[39;00m\n\u001b[1;32m    946\u001b[0m   \u001b[39mself\u001b[39m\u001b[39m.\u001b[39m_lock\u001b[39m.\u001b[39mrelease()\n",
      "File \u001b[0;32m~/anaconda3/envs/env-2-ai-tf/lib/python3.11/site-packages/tensorflow/python/eager/polymorphic_function/polymorphic_function.py:763\u001b[0m, in \u001b[0;36mFunction._initialize\u001b[0;34m(self, args, kwds, add_initializers_to)\u001b[0m\n\u001b[1;32m    760\u001b[0m \u001b[39mself\u001b[39m\u001b[39m.\u001b[39m_lifted_initializer_graph \u001b[39m=\u001b[39m lifted_initializer_graph\n\u001b[1;32m    761\u001b[0m \u001b[39mself\u001b[39m\u001b[39m.\u001b[39m_graph_deleter \u001b[39m=\u001b[39m FunctionDeleter(\u001b[39mself\u001b[39m\u001b[39m.\u001b[39m_lifted_initializer_graph)\n\u001b[1;32m    762\u001b[0m \u001b[39mself\u001b[39m\u001b[39m.\u001b[39m_concrete_variable_creation_fn \u001b[39m=\u001b[39m (\n\u001b[0;32m--> 763\u001b[0m     \u001b[39mself\u001b[39m\u001b[39m.\u001b[39m_variable_creation_fn    \u001b[39m# pylint: disable=protected-access\u001b[39;00m\n\u001b[1;32m    764\u001b[0m     \u001b[39m.\u001b[39m_get_concrete_function_internal_garbage_collected(\n\u001b[1;32m    765\u001b[0m         \u001b[39m*\u001b[39margs, \u001b[39m*\u001b[39m\u001b[39m*\u001b[39mkwds))\n\u001b[1;32m    767\u001b[0m \u001b[39mdef\u001b[39;00m \u001b[39minvalid_creator_scope\u001b[39m(\u001b[39m*\u001b[39munused_args, \u001b[39m*\u001b[39m\u001b[39m*\u001b[39munused_kwds):\n\u001b[1;32m    768\u001b[0m \u001b[39m  \u001b[39m\u001b[39m\"\"\"Disables variable creation.\"\"\"\u001b[39;00m\n",
      "File \u001b[0;32m~/anaconda3/envs/env-2-ai-tf/lib/python3.11/site-packages/tensorflow/python/eager/polymorphic_function/tracing_compiler.py:171\u001b[0m, in \u001b[0;36mTracingCompiler._get_concrete_function_internal_garbage_collected\u001b[0;34m(self, *args, **kwargs)\u001b[0m\n\u001b[1;32m    169\u001b[0m \u001b[39m\u001b[39m\u001b[39m\"\"\"Returns a concrete function which cleans up its graph function.\"\"\"\u001b[39;00m\n\u001b[1;32m    170\u001b[0m \u001b[39mwith\u001b[39;00m \u001b[39mself\u001b[39m\u001b[39m.\u001b[39m_lock:\n\u001b[0;32m--> 171\u001b[0m   concrete_function, _ \u001b[39m=\u001b[39m \u001b[39mself\u001b[39m\u001b[39m.\u001b[39m_maybe_define_concrete_function(args, kwargs)\n\u001b[1;32m    172\u001b[0m \u001b[39mreturn\u001b[39;00m concrete_function\n",
      "File \u001b[0;32m~/anaconda3/envs/env-2-ai-tf/lib/python3.11/site-packages/tensorflow/python/eager/polymorphic_function/tracing_compiler.py:166\u001b[0m, in \u001b[0;36mTracingCompiler._maybe_define_concrete_function\u001b[0;34m(self, args, kwargs)\u001b[0m\n\u001b[1;32m    163\u001b[0m   args \u001b[39m=\u001b[39m \u001b[39mself\u001b[39m\u001b[39m.\u001b[39minput_signature\n\u001b[1;32m    164\u001b[0m   kwargs \u001b[39m=\u001b[39m {}\n\u001b[0;32m--> 166\u001b[0m \u001b[39mreturn\u001b[39;00m \u001b[39mself\u001b[39m\u001b[39m.\u001b[39m_maybe_define_function(args, kwargs)\n",
      "File \u001b[0;32m~/anaconda3/envs/env-2-ai-tf/lib/python3.11/site-packages/tensorflow/python/eager/polymorphic_function/tracing_compiler.py:375\u001b[0m, in \u001b[0;36mTracingCompiler._maybe_define_function\u001b[0;34m(self, args, kwargs)\u001b[0m\n\u001b[1;32m    370\u001b[0m ag_status \u001b[39m=\u001b[39m (\n\u001b[1;32m    371\u001b[0m     ag_ctx\u001b[39m.\u001b[39mStatus\u001b[39m.\u001b[39mENABLED\n\u001b[1;32m    372\u001b[0m     \u001b[39mif\u001b[39;00m \u001b[39mself\u001b[39m\u001b[39m.\u001b[39m_autograph \u001b[39melse\u001b[39;00m ag_ctx\u001b[39m.\u001b[39mStatus\u001b[39m.\u001b[39mDISABLED)\n\u001b[1;32m    373\u001b[0m \u001b[39mwith\u001b[39;00m ag_ctx\u001b[39m.\u001b[39mControlStatusCtx(\n\u001b[1;32m    374\u001b[0m     status\u001b[39m=\u001b[39mag_status, options\u001b[39m=\u001b[39m\u001b[39mself\u001b[39m\u001b[39m.\u001b[39m_autograph_options):\n\u001b[0;32m--> 375\u001b[0m   func_graph \u001b[39m=\u001b[39m func_graph_module\u001b[39m.\u001b[39mFuncGraph(\n\u001b[1;32m    376\u001b[0m       \u001b[39mself\u001b[39m\u001b[39m.\u001b[39m_name, capture_by_value\u001b[39m=\u001b[39m\u001b[39mself\u001b[39m\u001b[39m.\u001b[39m_capture_by_value)\n\u001b[1;32m    377\u001b[0m   \u001b[39mif\u001b[39;00m \u001b[39mself\u001b[39m\u001b[39m.\u001b[39minput_signature \u001b[39mis\u001b[39;00m \u001b[39mNone\u001b[39;00m \u001b[39mand\u001b[39;00m \u001b[39mself\u001b[39m\u001b[39m.\u001b[39m_reduce_retracing:\n\u001b[1;32m    378\u001b[0m     target_func_type \u001b[39m=\u001b[39m \u001b[39mself\u001b[39m\u001b[39m.\u001b[39m_function_cache\u001b[39m.\u001b[39mgeneralize(\n\u001b[1;32m    379\u001b[0m         current_func_context, lookup_func_type)\n",
      "\u001b[0;31mKeyboardInterrupt\u001b[0m: "
     ]
    }
   ],
   "source": [
    "optimizer = tf.keras.optimizers.legacy.Adam()\n",
    "\n",
    "num_epochs = 1000\n",
    "i = 0\n",
    "for epoch in range(num_epochs):\n",
    "    with tf.GradientTape() as tape:\n",
    "        tape.watch(input)\n",
    "\n",
    "        outputs = pinn(input)\n",
    "\n",
    "        overall_loss, SSE_n_loss, SSE_b_loss = SSE(input, outputs, initial_vals, coefficients, pinn)\n",
    "    \n",
    "    grads = tape.gradient(overall_loss, pinn.trainable_variables)\n",
    "\n",
    "    optimizer.apply_gradients(zip(grads, pinn.trainable_variables))\n",
    "\n",
    "    if i % 100 == 0:\n",
    "        print(f\"STEP: {i} | Avg Losses | SSE_n: {SSE_n_loss} | SSE_b: {SSE_b_loss} | Total: {overall_loss}\")\n",
    "    \n",
    "    i += 1\n",
    "\n"
   ]
  },
  {
   "cell_type": "markdown",
   "metadata": {},
   "source": [
    "Evaluation"
   ]
  },
  {
   "cell_type": "markdown",
   "metadata": {},
   "source": [
    "Graphing"
   ]
  },
  {
   "cell_type": "code",
   "execution_count": null,
   "metadata": {},
   "outputs": [
    {
     "name": "stdout",
     "output_type": "stream",
     "text": [
      "32/32 [==============================] - 0s 367us/step\n",
      "Size: 1000\n",
      "[0.96812795 0.96653358 0.96490097 0.96323019 0.96152131 0.95977439\n",
      " 0.95798951 0.95616673 0.95430613 0.95240778]\n",
      "[0.9652207 0.9637631 0.962268  0.9607356 0.9591656 0.9575583 0.9559132\n",
      " 0.9542301 0.9525099 0.9507521]\n"
     ]
    },
    {
     "data": {
      "image/png": "[encoded data removed]",
      "text/plain": [
       "<Figure size 1000x600 with 1 Axes>"
      ]
     },
     "metadata": {},
     "output_type": "display_data"
    }
   ],
   "source": [
    "num_points = 1000\n",
    "x_vals = np.linspace(-1, 1, num_points)\n",
    "\n",
    "# Reshape for model input\n",
    "x_vals_model = x_vals.reshape(-1, 1).astype(np.float32)\n",
    "\n",
    "# Plug these points through the model\n",
    "model_output = pinn.predict(x_vals_model)\n",
    "\n",
    "# Take the q+1th output of the model (last output)\n",
    "final_output = model_output[:, 500]\n",
    "\n",
    "print(f\"Size: {len(final_output)}\")\n",
    "\n",
    "# Plug the original points through the function -sin(pi * x)\n",
    "y_vals = -np.sin(np.pi * x_vals)\n",
    "\n",
    "print(y_vals[290:300])\n",
    "print(final_output[290:300])\n",
    "\n",
    "# Create the plot\n",
    "plt.figure(figsize=(10, 6))\n",
    "\n",
    "plt.plot(x_vals, y_vals, 'r', label='-sin(pi * x)')\n",
    "plt.plot(x_vals, final_output, 'b', label='Model Output')\n",
    "plt.legend()\n",
    "plt.xlabel('x')\n",
    "plt.ylabel('y')\n",
    "plt.title('Comparison of Model Output and -sin(pi * x)')\n",
    "plt.show()"
   ]
  },
  {
   "cell_type": "markdown",
   "metadata": {},
   "source": [
    "Saving"
   ]
  }
 ],
 "metadata": {
  "kernelspec": {
   "display_name": "env-1-ai",
   "language": "python",
   "name": "python3"
  },
  "language_info": {
   "codemirror_mode": {
    "name": "ipython",
    "version": 3
   },
   "file_extension": ".py",
   "mimetype": "text/x-python",
   "name": "python",
   "nbconvert_exporter": "python",
   "pygments_lexer": "ipython3",
   "version": "3.11.5"
  },
  "orig_nbformat": 4
 },
 "nbformat": 4,
 "nbformat_minor": 2
}

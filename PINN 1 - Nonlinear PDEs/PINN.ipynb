{
 "cells": [
  {
   "cell_type": "markdown",
   "metadata": {},
   "source": [
    "Import statements"
   ]
  },
  {
   "cell_type": "code",
   "execution_count": 34,
   "metadata": {},
   "outputs": [],
   "source": [
    "import os\n",
    "import torch\n",
    "import torchvision\n",
    "from torch import nn \n",
    "from torch.autograd import Variable\n",
    "from torchvision import transforms\n",
    "from torch.utils.data import DataLoader\n",
    "import torch.nn.functional as F\n",
    "import numpy as np\n",
    "import pandas as pd\n",
    "import matplotlib.pyplot as plt\n",
    "import math\n",
    "from torch.utils.data import Dataset\n",
    "import pyDOE2\n",
    "from torch.autograd.functional import jacobian, hessian\n"
   ]
  },
  {
   "cell_type": "markdown",
   "metadata": {},
   "source": []
  },
  {
   "cell_type": "markdown",
   "metadata": {},
   "source": [
    "Variables"
   ]
  },
  {
   "cell_type": "code",
   "execution_count": 35,
   "metadata": {},
   "outputs": [],
   "source": [
    "x_bounds = [-1, 1]\n",
    "t_bounds = [0, 1]\n",
    "num_data_points = 2000\n",
    "num_collocation_points = 4000\n",
    "proportion_t_0 = 0.4 #the proportion of the data points which will exist at various points x along the boundary t = 0. The rest will be split between the boundaries x = -1 and x = 1 for all t"
   ]
  },
  {
   "cell_type": "markdown",
   "metadata": {},
   "source": [
    "Generating Data"
   ]
  },
  {
   "cell_type": "code",
   "execution_count": 46,
   "metadata": {},
   "outputs": [],
   "source": [
    "num_points_t_0 = (int) (num_data_points * proportion_t_0)\n",
    "num_points_x_1 = (num_data_points - num_points_t_0)//2 # // is integer division\n",
    "num_points_x_neg_1 = num_data_points - num_points_t_0 - num_points_x_1\n",
    "\n",
    "#create num_data_points random data points on the boundaries of the PDE\n",
    "t_0_points = np.array( list( zip(np.zeros(num_points_t_0), 2 * np.random.rand(num_points_t_0) - 1 ) ) )\n",
    "x_1_points = np.array( list( zip(np.random.rand(num_points_x_1), np.full(num_points_x_1, 1)) ) ) #np.full() takes paramters shape, value. Shape can be a tuple for multidimensional arrays filled with value.\n",
    "x_neg_1_points = np.array( list( zip(np.random.rand(num_points_x_neg_1), np.full(num_points_x_neg_1, -1)) ) )\n",
    "x_points = np.concatenate(( x_1_points, x_neg_1_points ))\n",
    "\n",
    "#Generating labels with the data\n",
    "dtype = [('points', float, 2), ('label', float)] #need custom dtype because otherwise numpy doesn't like these combined arrays\n",
    "\n",
    "t_0_labels = -np.sin(np.pi * t_0_points[:,1] )\n",
    "t_0_combined = np.array(list( zip(t_0_points, t_0_labels) ), dtype=dtype)\n",
    "\n",
    "x_labels = np.zeros(num_points_x_1 + num_points_x_neg_1)\n",
    "x_combined = np.array(list( zip(x_points, x_labels) ), dtype=dtype)\n",
    "\n",
    "combined_labels_data = np.concatenate( (t_0_combined, x_combined) )\n",
    "\n",
    "np.random.shuffle(combined_labels_data)\n",
    "\n",
    "data_points, labels = map(np.array, map(list, zip(*combined_labels_data)) )\n"
   ]
  },
  {
   "cell_type": "markdown",
   "metadata": {},
   "source": [
    "Data Validation Code (Entirely ChatGPT Generated)"
   ]
  },
  {
   "cell_type": "code",
   "execution_count": 47,
   "metadata": {},
   "outputs": [
    {
     "name": "stdout",
     "output_type": "stream",
     "text": [
      "Test 1 passed!\n",
      "Test 2 passed!\n",
      "Test 3 passed!\n"
     ]
    }
   ],
   "source": [
    "'''# Test 1: Ensure all data points lie on the correct boundaries\n",
    "def test_boundaries(data_points):\n",
    "    t_values = data_points[:, 0]\n",
    "    x_values = data_points[:, 1]\n",
    "    assert np.all((t_values == 0) | (x_values == 1) | (x_values == -1)), \"Some points do not lie on the correct boundaries.\"\n",
    "\n",
    "test_boundaries(data_points)\n",
    "print(\"Test 1 passed!\")\n",
    "\n",
    "# Test 2: For t=0, label should be -sin(pi * x)\n",
    "def test_labels_t_0(data_points, labels):\n",
    "    mask_t_0 = data_points[:, 0] == 0\n",
    "    expected_labels = -np.sin(np.pi * data_points[mask_t_0, 1])\n",
    "    assert np.allclose(labels[mask_t_0], expected_labels), \"Labels for t=0 do not match -sin(pi * x).\"\n",
    "\n",
    "test_labels_t_0(data_points, labels)\n",
    "print(\"Test 2 passed!\")\n",
    "\n",
    "# Test 3: For x=-1 or x=1, label should be 0\n",
    "def test_labels_x_boundaries(data_points, labels):\n",
    "    mask_x_boundaries = (data_points[:, 1] == 1) | (data_points[:, 1] == -1)\n",
    "    assert np.all(labels[mask_x_boundaries] == 0), \"Labels for x=-1 or x=1 are not zero.\"\n",
    "\n",
    "test_labels_x_boundaries(data_points, labels)\n",
    "print(\"Test 3 passed!\")\n",
    "'''"
   ]
  },
  {
   "cell_type": "markdown",
   "metadata": {},
   "source": [
    "Preparing the Dataset and Dataloader"
   ]
  },
  {
   "cell_type": "code",
   "execution_count": 37,
   "metadata": {},
   "outputs": [],
   "source": [
    "class PINN_DataSet(Dataset):\n",
    "    def __init__(self, data, labels):\n",
    "        self.data = data\n",
    "        self.labels = labels\n",
    "\n",
    "    def __len__(self):\n",
    "        return len(self.data)\n",
    "\n",
    "    def __getitem__(self, idx):\n",
    "        return self.data[idx], self.labels[idx]\n",
    "\n",
    "trainset = PINN_DataSet(data_points.astype(np.float32), labels.astype(np.float32)) #convert to float32, or else later the resulting torch tensors will be of torch.float64 type, which is not compatible with the neural network\n",
    "\n",
    "batch_size = num_data_points #no mini-batches\n",
    "\n",
    "num_workers = 0\n",
    "\n",
    "trainloader = DataLoader(\n",
    "    trainset,\n",
    "    batch_size = batch_size,\n",
    "    shuffle = True,\n",
    "    num_workers = num_workers\n",
    ")\n",
    "\n"
   ]
  },
  {
   "cell_type": "markdown",
   "metadata": {},
   "source": [
    "Collocation Points"
   ]
  },
  {
   "cell_type": "code",
   "execution_count": 38,
   "metadata": {},
   "outputs": [],
   "source": [
    "def lhs_samples(n): #generate n collocation points via Latin Hypercube Sampling. Each point is a (t,x)\n",
    "    lhs_array = pyDOE2.lhs(2, samples=n) #Two dimensions. Values from 0 to 1\n",
    "    lhs_array[:,1] = 2*lhs_array[:,1] - 1 #convert range of x values to -1 to 1\n",
    "    return lhs_array\n",
    "\n",
    "collocation_points = lhs_samples(num_collocation_points)"
   ]
  },
  {
   "cell_type": "markdown",
   "metadata": {},
   "source": [
    "Defining the Neural Network"
   ]
  },
  {
   "cell_type": "code",
   "execution_count": 39,
   "metadata": {},
   "outputs": [],
   "source": [
    "class PINN(nn.Module):\n",
    "    def __init__(self):\n",
    "        super().__init__()\n",
    "        self.net = nn.Sequential( #9 layers of 20 neurons each\n",
    "            nn.Linear(2,20),\n",
    "            nn.Tanh(),\n",
    "            nn.Linear(20,20),\n",
    "            nn.Tanh(),\n",
    "            nn.Linear(20,20),\n",
    "            nn.Tanh(),\n",
    "            nn.Linear(20,20),\n",
    "            nn.Tanh(),\n",
    "            nn.Linear(20,20),\n",
    "            nn.Tanh(),\n",
    "            nn.Linear(20,20),\n",
    "            nn.Tanh(),\n",
    "            nn.Linear(20,20),\n",
    "            nn.Tanh(),\n",
    "            nn.Linear(20,20),\n",
    "            nn.Tanh(),\n",
    "            nn.Linear(20,1),\n",
    "            #nn.Tanh()\n",
    "\n",
    "        )\n",
    "\n",
    "    def forward(self, x):\n",
    "        return self.net(x)\n",
    "\n"
   ]
  },
  {
   "cell_type": "markdown",
   "metadata": {},
   "source": [
    "Loss Function"
   ]
  },
  {
   "cell_type": "code",
   "execution_count": 40,
   "metadata": {},
   "outputs": [],
   "source": [
    "def MSE_f(collocation_points, neural_network, device):\n",
    "\n",
    "    collocation_points = collocation_points.astype(np.float32)\n",
    "\n",
    "    sum = torch.zeros(1, requires_grad=True).to(device)\n",
    "\n",
    "    for i in range(num_collocation_points):\n",
    "\n",
    "        collocation_input = torch.tensor(collocation_points[i] , requires_grad=True).to(device)\n",
    "        u = neural_network(collocation_input)\n",
    "        u_derivs, = torch.autograd.grad(u, collocation_input, retain_graph=True, create_graph=True)\n",
    "        u_t = u_derivs[0]\n",
    "        u_x = u_derivs[1]\n",
    "        u_second_derivs, = torch.autograd.grad(u_x, collocation_input, retain_graph=True, create_graph=True)\n",
    "        u_xx = u_second_derivs[1]\n",
    "        sum = sum + (u_t + u*u_x - (0.01/torch.pi)*u_xx)**2\n",
    "\n",
    "\n",
    "    return (sum/num_collocation_points).squeeze() #get rid of unnecessary dimension: [N, 1] to [N]\n",
    "\n",
    "\n",
    "    \n",
    "\n",
    "def criterion(output, label, collocation_points, neural_network, device): #collocation_points must be a NUMPY ARRAY\n",
    "    mse_u = nn.MSELoss()(output, label)\n",
    "    mse_f = MSE_f(collocation_points, neural_network, device)\n",
    "    return mse_u + mse_f, mse_u.item(), mse_f.item()\n",
    "    #return 100*(mse_u + 1000000*mse_f), mse_u.item(), mse_f.item()"
   ]
  },
  {
   "cell_type": "markdown",
   "metadata": {},
   "source": [
    "Model Training"
   ]
  },
  {
   "cell_type": "code",
   "execution_count": 41,
   "metadata": {},
   "outputs": [
    {
     "name": "stdout",
     "output_type": "stream",
     "text": [
      "Using device: CPU\n",
      "EPOCH 1 out of 20\n",
      "Avg MSE Loss Per Boundary Data Point: 0.2094442993402481\n",
      "Avg f(t,x)^2 Per Collocation Point: 2.0370960385207582e-07\n",
      "EPOCH 2 out of 20\n",
      "Avg MSE Loss Per Boundary Data Point: 0.22833456099033356\n",
      "Avg f(t,x)^2 Per Collocation Point: 1.1253317097725812e-05\n",
      "EPOCH 3 out of 20\n",
      "Avg MSE Loss Per Boundary Data Point: 0.20612281560897827\n",
      "Avg f(t,x)^2 Per Collocation Point: 1.3727086297876667e-05\n",
      "EPOCH 4 out of 20\n",
      "Avg MSE Loss Per Boundary Data Point: 0.20477740466594696\n",
      "Avg f(t,x)^2 Per Collocation Point: 3.9797290810383856e-05\n",
      "EPOCH 5 out of 20\n",
      "Avg MSE Loss Per Boundary Data Point: 0.2089090645313263\n",
      "Avg f(t,x)^2 Per Collocation Point: 1.8827118765329942e-05\n",
      "EPOCH 6 out of 20\n",
      "Avg MSE Loss Per Boundary Data Point: 0.20802517235279083\n",
      "Avg f(t,x)^2 Per Collocation Point: 1.2821645896110567e-06\n",
      "EPOCH 7 out of 20\n",
      "Training interrupted by user.\n",
      "TRAINING COMPLETE!\n"
     ]
    }
   ],
   "source": [
    "pinn = PINN()\n",
    "optimizer = torch.optim.Adam(pinn.parameters(), lr=0.01)\n",
    "\n",
    "num_epochs = 20 #I have no idea how many epochs were used in the paper's implementation. Let's just do a lot for now and see how quickly training converges\n",
    "\n",
    "#use the GPU to train if possible, else CPU\n",
    "device = torch.device(\"cuda\" if torch.cuda.is_available() else \"cpu\")\n",
    "print(\"Using device: \" + (\"GPU\" if torch.cuda.is_available() else \"CPU\"))\n",
    "pinn.to(device)\n",
    "\n",
    "try:\n",
    "    for epoch in range(num_epochs):\n",
    "\n",
    "        print(f\"EPOCH {epoch + 1} out of {num_epochs}\")\n",
    "        train_running_loss = 0\n",
    "\n",
    "\n",
    "        for data in trainloader:\n",
    "\n",
    "            input, label = data #input and label already seem to be tensors. Tbh, I am a little confused when this happened. I don't think I ever explicitly turned them into tensors. They used to both be numpy arrays. EDIT: Further research seems to show that dataloader does this automatically as it fetches data from the dataset\n",
    "            input = input.to(device)\n",
    "            label = label.to(device)\n",
    "\n",
    "\n",
    "            def closure():\n",
    "\n",
    "                optimizer.zero_grad() #reset the gradient so that the previous iteration does not affect the current one\n",
    "                output = pinn(input) #run the batch through the current model\n",
    "                loss, mse_u, mse_f = criterion(output, label, collocation_points, pinn, device) #calculate the loss\n",
    "                loss.backward() #Using backpropagation, calculate the gradients\n",
    "                print(f\"Avg MSE Loss Per Boundary Data Point: {mse_u}\")\n",
    "                print(f\"Avg f(t,x)^2 Per Collocation Point: {mse_f}\")\n",
    "                return loss\n",
    "\n",
    "            optimizer.step(closure) #Using the gradients, adjust the parameters    \n",
    "\n",
    "except KeyboardInterrupt:\n",
    "    print(\"Training interrupted by user.\")  \n",
    "\n",
    "print(\"TRAINING COMPLETE!\")  "
   ]
  },
  {
   "cell_type": "markdown",
   "metadata": {},
   "source": [
    "Saving the Code"
   ]
  },
  {
   "cell_type": "code",
   "execution_count": null,
   "metadata": {},
   "outputs": [
    {
     "name": "stdout",
     "output_type": "stream",
     "text": [
      "Model saved!\n"
     ]
    }
   ],
   "source": [
    "base_path = \"./\"\n",
    "base_name = \"pinn_model\"\n",
    "extension = \".pth\"\n",
    "\n",
    "counter = 0\n",
    "model_save_path = os.path.join(base_path, base_name + extension)\n",
    "\n",
    "while os.path.exists(model_save_path):\n",
    "    counter += 1\n",
    "    model_save_path = os.path.join(base_path, f\"{base_name}_{counter}{extension}\")\n",
    "\n",
    "torch.save(pinn.state_dict(), model_save_path)\n",
    "\n",
    "print(\"Model saved!\")"
   ]
  },
  {
   "cell_type": "markdown",
   "metadata": {},
   "source": [
    "Visual Plot (Written Entirely via ChatGPT. For now)"
   ]
  },
  {
   "cell_type": "code",
   "execution_count": null,
   "metadata": {},
   "outputs": [
    {
     "data": {
      "image/png": "[encoded data removed]",
      "text/plain": [
       "<Figure size 1000x800 with 2 Axes>"
      ]
     },
     "metadata": {},
     "output_type": "display_data"
    }
   ],
   "source": [
    "# 1. Generate Random Points\n",
    "num_points = 1000000\n",
    "t_values = np.random.rand(num_points)\n",
    "x_values = np.random.uniform(-1, 1, num_points)\n",
    "points = np.vstack((t_values, x_values)).T\n",
    "points_tensor = torch.tensor(points, dtype=torch.float32).to(device)\n",
    "\n",
    "# 2. Feed the Points through the Model\n",
    "with torch.no_grad():\n",
    "    model_outputs = pinn(points_tensor).cpu().numpy()\n",
    "\n",
    "# Normalize the model outputs to be between 0 and 1 for color mapping\n",
    "normalized_outputs = (model_outputs - (-1)) / (1 - (-1))\n",
    "\n",
    "# 3. Color Mapping\n",
    "colors = plt.cm.rainbow(normalized_outputs.squeeze())\n",
    "\n",
    "# 4. Plotting\n",
    "plt.figure(figsize=(10, 8))\n",
    "plt.scatter(t_values, x_values, c=colors, s=1, alpha=0.5)\n",
    "plt.xlabel(\"t\")\n",
    "plt.ylabel(\"x\")\n",
    "plt.colorbar()\n",
    "plt.title(\"Visualization of Model Outputs\")\n",
    "plt.show()"
   ]
  }
 ],
 "metadata": {
  "kernelspec": {
   "display_name": "env-1-ai",
   "language": "python",
   "name": "python3"
  },
  "language_info": {
   "codemirror_mode": {
    "name": "ipython",
    "version": 3
   },
   "file_extension": ".py",
   "mimetype": "text/x-python",
   "name": "python",
   "nbconvert_exporter": "python",
   "pygments_lexer": "ipython3",
   "version": "3.11.4"
  },
  "orig_nbformat": 4
 },
 "nbformat": 4,
 "nbformat_minor": 2
}

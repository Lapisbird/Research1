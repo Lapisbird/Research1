{
 "cells": [
  {
   "cell_type": "markdown",
   "metadata": {},
   "source": [
    "Thoughts:\n",
    "\n",
    "I had a theory: The model is incentivised to create a flat plane to minimize f(t,x). This way u, u_t, u_x, and u_xx are all close to 0. Additionally, since boundary points at x = = -1, 1 all have the same value (0), a flat plane wouldn't hurt either. It is the easiest way. This theory worked. Until I made all the data points the ones at t = 0 and completely took away the MSE_f loss component. Still, a flat plane appeared. Still, the derivatives died. Less than before. But given that the ONLY job of the entire network at this point was to approximate -sin(x*\\pi), it is but a bit concerning that it is STILL unable to do that."
   ]
  },
  {
   "cell_type": "markdown",
   "metadata": {},
   "source": [
    "Import statements"
   ]
  },
  {
   "cell_type": "code",
   "execution_count": 13,
   "metadata": {},
   "outputs": [],
   "source": [
    "import os\n",
    "import torch\n",
    "import torchvision\n",
    "from torch import nn \n",
    "from torch.autograd import Variable\n",
    "from torchvision import transforms\n",
    "from torch.utils.data import DataLoader\n",
    "import torch.nn.functional as F\n",
    "import numpy as np\n",
    "import pandas as pd\n",
    "import matplotlib.pyplot as plt\n",
    "import math\n",
    "from torch.utils.data import Dataset\n",
    "import pyDOE2\n",
    "from torch.autograd.functional import jacobian, hessian\n"
   ]
  },
  {
   "cell_type": "markdown",
   "metadata": {},
   "source": []
  },
  {
   "cell_type": "markdown",
   "metadata": {},
   "source": [
    "Variables"
   ]
  },
  {
   "cell_type": "code",
   "execution_count": 14,
   "metadata": {},
   "outputs": [],
   "source": [
    "x_bounds = [-1, 1]\n",
    "t_bounds = [0, 1]\n",
    "num_data_points = 200\n",
    "num_collocation_points = 10000\n",
    "proportion_t_0 = 0.5 #the proportion of the data points which will exist at various points x along the boundary t = 0. The rest will be split between the boundaries x = -1 and x = 1 for all t"
   ]
  },
  {
   "cell_type": "markdown",
   "metadata": {},
   "source": [
    "Generating Data"
   ]
  },
  {
   "cell_type": "code",
   "execution_count": 15,
   "metadata": {},
   "outputs": [],
   "source": [
    "num_points_t_0 = (int) (num_data_points * proportion_t_0)\n",
    "num_points_x_1 = (num_data_points - num_points_t_0)//2 # // is integer division\n",
    "num_points_x_neg_1 = num_data_points - num_points_t_0 - num_points_x_1\n",
    "\n",
    "#create num_data_points random data points on the boundaries of the PDE\n",
    "t_0_points = np.array( list( zip(np.zeros(num_points_t_0), 2 * np.random.rand(num_points_t_0) - 1 ) ) )\n",
    "x_1_points = np.array( list( zip(np.random.rand(num_points_x_1), np.full(num_points_x_1, 1)) ) ) #np.full() takes paramters shape, value. Shape can be a tuple for multidimensional arrays filled with value.\n",
    "x_neg_1_points = np.array( list( zip(np.random.rand(num_points_x_neg_1), np.full(num_points_x_neg_1, -1)) ) )\n",
    "x_points = np.concatenate(( x_1_points, x_neg_1_points ))\n",
    "\n",
    "#Generating labels with the data\n",
    "dtype = [('points', float, 2), ('label', float)] #need custom dtype because otherwise numpy doesn't like these combined arrays\n",
    "\n",
    "t_0_labels = -np.sin(np.pi * t_0_points[:,1] )\n",
    "t_0_combined = np.array(list( zip(t_0_points, t_0_labels) ), dtype=dtype)\n",
    "\n",
    "x_labels = np.zeros(num_points_x_1 + num_points_x_neg_1)\n",
    "x_combined = np.array(list( zip(x_points, x_labels) ), dtype=dtype)\n",
    "\n",
    "combined_labels_data = np.concatenate( (t_0_combined, x_combined) )\n",
    "\n",
    "np.random.shuffle(combined_labels_data)\n",
    "\n",
    "data_points, labels = map(np.array, map(list, zip(*combined_labels_data)) )\n"
   ]
  },
  {
   "cell_type": "markdown",
   "metadata": {},
   "source": [
    "Data Validation Code"
   ]
  },
  {
   "cell_type": "code",
   "execution_count": 16,
   "metadata": {},
   "outputs": [
    {
     "data": {
      "text/plain": [
       "'# Test 1: Ensure all data points lie on the correct boundaries\\ndef test_boundaries(data_points):\\n    t_values = data_points[:, 0]\\n    x_values = data_points[:, 1]\\n    assert np.all((t_values == 0) | (x_values == 1) | (x_values == -1)), \"Some points do not lie on the correct boundaries.\"\\n\\ntest_boundaries(data_points)\\nprint(\"Test 1 passed!\")\\n\\n# Test 2: For t=0, label should be -sin(pi * x)\\ndef test_labels_t_0(data_points, labels):\\n    mask_t_0 = data_points[:, 0] == 0\\n    expected_labels = -np.sin(np.pi * data_points[mask_t_0, 1])\\n    assert np.allclose(labels[mask_t_0], expected_labels), \"Labels for t=0 do not match -sin(pi * x).\"\\n\\ntest_labels_t_0(data_points, labels)\\nprint(\"Test 2 passed!\")\\n\\n# Test 3: For x=-1 or x=1, label should be 0\\ndef test_labels_x_boundaries(data_points, labels):\\n    mask_x_boundaries = (data_points[:, 1] == 1) | (data_points[:, 1] == -1)\\n    assert np.all(labels[mask_x_boundaries] == 0), \"Labels for x=-1 or x=1 are not zero.\"\\n\\ntest_labels_x_boundaries(data_points, labels)\\nprint(\"Test 3 passed!\")\\n'"
      ]
     },
     "execution_count": 16,
     "metadata": {},
     "output_type": "execute_result"
    }
   ],
   "source": [
    "'''# Test 1: Ensure all data points lie on the correct boundaries\n",
    "def test_boundaries(data_points):\n",
    "    t_values = data_points[:, 0]\n",
    "    x_values = data_points[:, 1]\n",
    "    assert np.all((t_values == 0) | (x_values == 1) | (x_values == -1)), \"Some points do not lie on the correct boundaries.\"\n",
    "\n",
    "test_boundaries(data_points)\n",
    "print(\"Test 1 passed!\")\n",
    "\n",
    "# Test 2: For t=0, label should be -sin(pi * x)\n",
    "def test_labels_t_0(data_points, labels):\n",
    "    mask_t_0 = data_points[:, 0] == 0\n",
    "    expected_labels = -np.sin(np.pi * data_points[mask_t_0, 1])\n",
    "    assert np.allclose(labels[mask_t_0], expected_labels), \"Labels for t=0 do not match -sin(pi * x).\"\n",
    "\n",
    "test_labels_t_0(data_points, labels)\n",
    "print(\"Test 2 passed!\")\n",
    "\n",
    "# Test 3: For x=-1 or x=1, label should be 0\n",
    "def test_labels_x_boundaries(data_points, labels):\n",
    "    mask_x_boundaries = (data_points[:, 1] == 1) | (data_points[:, 1] == -1)\n",
    "    assert np.all(labels[mask_x_boundaries] == 0), \"Labels for x=-1 or x=1 are not zero.\"\n",
    "\n",
    "test_labels_x_boundaries(data_points, labels)\n",
    "print(\"Test 3 passed!\")\n",
    "'''"
   ]
  },
  {
   "cell_type": "markdown",
   "metadata": {},
   "source": [
    "Preparing the Dataset and Dataloader"
   ]
  },
  {
   "cell_type": "code",
   "execution_count": 17,
   "metadata": {},
   "outputs": [],
   "source": [
    "class PINN_DataSet(Dataset):\n",
    "    def __init__(self, data, labels):\n",
    "        self.data = data\n",
    "        self.labels = labels\n",
    "\n",
    "    def __len__(self):\n",
    "        return len(self.data)\n",
    "\n",
    "    def __getitem__(self, idx):\n",
    "        return self.data[idx], self.labels[idx]\n",
    "\n",
    "trainset = PINN_DataSet(data_points.astype(np.float32), labels.astype(np.float32)) #convert to float32, or else later the resulting torch tensors will be of torch.float64 type, which is not compatible with the neural network\n",
    "\n",
    "#batch_size = num_data_points #no mini-batches\n",
    "#batch_size = 50\n",
    "\n",
    "num_workers = 0\n",
    "\n",
    "trainloader = DataLoader(\n",
    "    trainset,\n",
    "    #batch_size = batch_size,\n",
    "    shuffle = True,\n",
    "    num_workers = num_workers\n",
    ")\n",
    "\n"
   ]
  },
  {
   "cell_type": "markdown",
   "metadata": {},
   "source": [
    "Collocation Points"
   ]
  },
  {
   "cell_type": "code",
   "execution_count": 18,
   "metadata": {},
   "outputs": [],
   "source": [
    "def lhs_samples(n): #generate n collocation points via Latin Hypercube Sampling. Each point is a (t,x)\n",
    "    lhs_array = pyDOE2.lhs(2, samples=n) #Two dimensions. Values from 0 to 1\n",
    "    lhs_array[:,1] = 2*lhs_array[:,1] - 1 #convert range of x values to -1 to 1\n",
    "    return lhs_array\n",
    "\n",
    "collocation_points = lhs_samples(num_collocation_points)"
   ]
  },
  {
   "cell_type": "markdown",
   "metadata": {},
   "source": [
    "Defining the Neural Network"
   ]
  },
  {
   "cell_type": "code",
   "execution_count": 19,
   "metadata": {},
   "outputs": [],
   "source": [
    "class PINN(nn.Module):\n",
    "    def __init__(self):\n",
    "        super().__init__()\n",
    "        self.net = nn.Sequential( #9 layers of 20 neurons each\n",
    "            nn.Linear(2,20),\n",
    "            nn.Tanh(),\n",
    "            nn.Linear(20,20),\n",
    "            nn.Tanh(),\n",
    "            nn.Linear(20,20),\n",
    "            nn.Tanh(),\n",
    "            nn.Linear(20,20),\n",
    "            nn.Tanh(),\n",
    "            nn.Linear(20,20),\n",
    "            nn.Tanh(),\n",
    "            nn.Linear(20,20),\n",
    "            nn.Tanh(),\n",
    "            nn.Linear(20,20),\n",
    "            nn.Tanh(),\n",
    "            nn.Linear(20,20),\n",
    "            nn.Tanh(),\n",
    "            nn.Linear(20,20),\n",
    "            nn.Tanh(),\n",
    "            nn.Linear(20,20),\n",
    "            nn.Tanh(),\n",
    "            nn.Linear(20,1),\n",
    "            #nn.Tanh()\n",
    "\n",
    "        )\n",
    "\n",
    "    def forward(self, x):\n",
    "        return self.net(x)\n",
    "\n"
   ]
  },
  {
   "cell_type": "markdown",
   "metadata": {},
   "source": [
    "Loss Function"
   ]
  },
  {
   "cell_type": "code",
   "execution_count": 20,
   "metadata": {},
   "outputs": [],
   "source": [
    "def MSE_f(collocation_points, neural_network, device): #I need to better understand how exactly autograd handles vectorization. I think I just waste 6 hours on a wild goose chase due to a misconception about that very fact...\n",
    "\n",
    "    #np.random.shuffle(collocation_points)\n",
    "    #collocation_points = collocation_points[80:]\n",
    "\n",
    "    collocation_inputs = torch.tensor(collocation_points.astype(np.float32), requires_grad=True).to(device)\n",
    "    \n",
    "    u = neural_network(collocation_inputs)\n",
    "    results, = torch.autograd.grad(u, collocation_inputs, grad_outputs=torch.ones_like(u), retain_graph=True, create_graph=True)\n",
    "    u_t = results[:,0]\n",
    "    u_x = results[:,1]\n",
    "    snd_result, = torch.autograd.grad(u_x, collocation_inputs, grad_outputs=torch.ones_like(u_x), retain_graph=True, create_graph=True)\n",
    "    u_xx = snd_result[:,1]\n",
    "    #print(f\"u: {u[:5]}\")\n",
    "    #print(f\"u_t: {u_t[:5]}\")\n",
    "    #print(f\"u_x: {u_x[:5]}\")\n",
    "    #print(f\"u_xx: {u_xx[:5]}\")\n",
    "    final_result = torch.mean((u_t + u*u_x - (0.01/torch.pi)*u_xx)**2)\n",
    "    return final_result\n",
    "    \n",
    "def MSE_u(output, label):\n",
    "    return torch.mean((output - label)**2)\n",
    "\n",
    "\n",
    "def criterion(output, label, collocation_points, neural_network, device):\n",
    "    #mse_u = nn.MSELoss()(output, label).squeeze()\n",
    "    mse_u = MSE_u(output, label).squeeze()\n",
    "    mse_f = MSE_f(collocation_points, neural_network, device).squeeze()\n",
    "    return  mse_u + mse_f, mse_u.item(), mse_f.item()\n",
    "    #return 10*(mse_u + mse_f), mse_u.item(), mse_f.item()"
   ]
  },
  {
   "cell_type": "markdown",
   "metadata": {},
   "source": [
    "Model Training"
   ]
  },
  {
   "cell_type": "code",
   "execution_count": 24,
   "metadata": {},
   "outputs": [
    {
     "name": "stdout",
     "output_type": "stream",
     "text": [
      "Using device: CPU\n",
      "EPOCH 1 out of 1\n",
      "Avg MSE Loss Per Boundary Data Point: 0.008701168932020664\n",
      "Avg f(t,x)^2 Per Collocation Point: 1.9953071728195937e-07\n",
      "Avg MSE Loss Per Boundary Data Point: 0.0005724045913666487\n",
      "Avg f(t,x)^2 Per Collocation Point: 4.041492331907648e-07\n",
      "Avg MSE Loss Per Boundary Data Point: 6.177778288929403e-10\n",
      "Avg f(t,x)^2 Per Collocation Point: 3.5308781320964044e-07\n",
      "Avg MSE Loss Per Boundary Data Point: 9.893336150312848e-13\n",
      "Avg f(t,x)^2 Per Collocation Point: 3.5296088185532426e-07\n",
      "Training interrupted by user.\n",
      "TRAINING COMPLETE!\n"
     ]
    },
    {
     "data": {
      "text/plain": [
       "tensor(3.5296e-07, grad_fn=<MeanBackward0>)"
      ]
     },
     "execution_count": 24,
     "metadata": {},
     "output_type": "execute_result"
    }
   ],
   "source": [
    "pinn = PINN()\n",
    "optimizer = torch.optim.LBFGS(pinn.parameters(), #PARAMETERS CREDIT TO https://github.com/teeratornk/PINNs-2/blob/master/Burgers%20Equation/Burgers%20Inference%20(PyTorch).ipynb\n",
    "                              lr=1.0,\n",
    "                              max_iter=50000, \n",
    "                                max_eval=50000, \n",
    "                                history_size=50,\n",
    "                                tolerance_grad=1e-5, \n",
    "                                tolerance_change=1.0 * np.finfo(float).eps,\n",
    "                                line_search_fn=\"strong_wolfe\"\n",
    "                              )\n",
    "\n",
    "num_epochs = 1\n",
    "\n",
    "#use the GPU to train if possible, else CPU\n",
    "device = torch.device(\"cuda\" if torch.cuda.is_available() else \"cpu\")\n",
    "print(\"Using device: \" + (\"GPU\" if torch.cuda.is_available() else \"CPU\"))\n",
    "pinn.to(device)\n",
    "\n",
    "try:\n",
    "    for epoch in range(num_epochs):\n",
    "\n",
    "        print(f\"EPOCH {epoch + 1} out of {num_epochs}\")\n",
    "        train_running_loss = 0\n",
    "\n",
    "\n",
    "        for data in trainloader:\n",
    "\n",
    "            input, label = data \n",
    "            input = input.to(device)\n",
    "            label = label.to(device)\n",
    "\n",
    "\n",
    "            def closure():\n",
    "                optimizer.zero_grad() #reset the gradient so that the previous iteration does not affect the current one\n",
    "                output = pinn(input) #run the batch through the current model\n",
    "                loss, mse_u, mse_f = criterion(output, label, collocation_points, pinn, device) #calculate the loss\n",
    "                loss.backward() #Using backpropagation, calculate the gradients\n",
    "                print(f\"Avg MSE Loss Per Boundary Data Point: {mse_u}\")\n",
    "                print(f\"Avg f(t,x)^2 Per Collocation Point: {mse_f}\")\n",
    "                return loss\n",
    "\n",
    "            optimizer.step(closure) #Using the gradients, adjust the parameters    \n",
    "\n",
    "except KeyboardInterrupt:\n",
    "    print(\"Training interrupted by user.\")  \n",
    "\n",
    "print(\"TRAINING COMPLETE!\")\n",
    "\n",
    "MSE_f(collocation_points,pinn,device)"
   ]
  },
  {
   "cell_type": "markdown",
   "metadata": {},
   "source": [
    "Saving the Code"
   ]
  },
  {
   "cell_type": "code",
   "execution_count": null,
   "metadata": {},
   "outputs": [
    {
     "name": "stdout",
     "output_type": "stream",
     "text": [
      "Model saved!\n"
     ]
    }
   ],
   "source": [
    "base_path = \"./\"\n",
    "base_name = \"pinn_model\"\n",
    "extension = \".pth\"\n",
    "\n",
    "counter = 0\n",
    "model_save_path = os.path.join(base_path, base_name + extension)\n",
    "\n",
    "while os.path.exists(model_save_path):\n",
    "    counter += 1\n",
    "    model_save_path = os.path.join(base_path, f\"{base_name}_{counter}{extension}\")\n",
    "\n",
    "torch.save(pinn.state_dict(), model_save_path)\n",
    "\n",
    "print(\"Model saved!\")"
   ]
  },
  {
   "cell_type": "markdown",
   "metadata": {},
   "source": [
    "Visual Plot"
   ]
  },
  {
   "cell_type": "code",
   "execution_count": 25,
   "metadata": {},
   "outputs": [
    {
     "name": "stdout",
     "output_type": "stream",
     "text": [
      "[[-0.00051033]\n",
      " [-0.00181776]\n",
      " [-0.00139249]\n",
      " ...\n",
      " [-0.00032992]\n",
      " [-0.00052477]\n",
      " [-0.0023765 ]]\n"
     ]
    },
    {
     "data": {
      "image/png": "[encoded data removed]",
      "text/plain": [
       "<Figure size 1000x800 with 2 Axes>"
      ]
     },
     "metadata": {},
     "output_type": "display_data"
    }
   ],
   "source": [
    "# 1. Generate Random Points\n",
    "num_points = 1000000\n",
    "t_values = np.random.rand(num_points)\n",
    "x_values = np.random.uniform(-1, 1, num_points)\n",
    "points = np.vstack((t_values, x_values)).T\n",
    "points_tensor = torch.tensor(points, dtype=torch.float32).to(device)\n",
    "\n",
    "\n",
    "\n",
    "# 2. Feed the Points through the Model\n",
    "with torch.no_grad():\n",
    "    model_outputs = pinn(points_tensor).cpu().numpy()\n",
    "    #print(model_outputs)\n",
    "\n",
    "print(model_outputs[20:])\n",
    "\n",
    "# Normalize the model outputs to be between 0 and 1 for color mapping\n",
    "normalized_outputs = (model_outputs - (-1)) / (1 - (-1))\n",
    "\n",
    "# 3. Color Mapping\n",
    "colors = plt.cm.gray(normalized_outputs.squeeze()) # Change to grayscale\n",
    "\n",
    "# 4. Plotting\n",
    "plt.figure(figsize=(10, 8))\n",
    "plt.scatter(t_values, x_values, c=colors, s=1, alpha=0.5)\n",
    "plt.xlabel(\"t\")\n",
    "plt.ylabel(\"x\")\n",
    "plt.colorbar()\n",
    "plt.title(\"Visualization of Model Outputs\")\n",
    "plt.show()\n"
   ]
  }
 ],
 "metadata": {
  "kernelspec": {
   "display_name": "env-1-ai",
   "language": "python",
   "name": "python3"
  },
  "language_info": {
   "codemirror_mode": {
    "name": "ipython",
    "version": 3
   },
   "file_extension": ".py",
   "mimetype": "text/x-python",
   "name": "python",
   "nbconvert_exporter": "python",
   "pygments_lexer": "ipython3",
   "version": "3.11.4"
  },
  "orig_nbformat": 4
 },
 "nbformat": 4,
 "nbformat_minor": 2
}

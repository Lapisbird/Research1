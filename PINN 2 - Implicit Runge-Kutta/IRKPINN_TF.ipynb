{
 "cells": [
  {
   "cell_type": "markdown",
   "metadata": {},
   "source": [
    "Reattempting the model in Tensorflow, because autograd.grad can only return the gradient after it has summed all the values, but I need them individually.\n",
    "Built off of the structure of the original PyTorch code.\n",
    "\n",
    "Just like mentioned before, I should really be using object-oriented programming. I didn't here because I am mainly just swapping out the PyTorch code for Tensorflow piece by piece."
   ]
  },
  {
   "cell_type": "markdown",
   "metadata": {},
   "source": [
    "Import Statements"
   ]
  },
  {
   "cell_type": "code",
   "execution_count": 74,
   "metadata": {},
   "outputs": [],
   "source": [
    "import os\n",
    "import numpy as np\n",
    "import pandas as pd\n",
    "import matplotlib.pyplot as plt\n",
    "import math\n",
    "from mpl_toolkits.mplot3d import Axes3D\n",
    "import scipy.io\n",
    "\n",
    "import tensorflow as tf\n",
    "from tensorflow.keras import Sequential\n",
    "from tensorflow.keras.layers import Dense"
   ]
  },
  {
   "cell_type": "markdown",
   "metadata": {},
   "source": [
    "Some Variables"
   ]
  },
  {
   "cell_type": "code",
   "execution_count": 75,
   "metadata": {},
   "outputs": [],
   "source": [
    "#number of intermediate steps\n",
    "q = 500\n",
    "\n",
    "#step size\n",
    "h = 0.8\n",
    "\n",
    "#start and end location\n",
    "start_t = 0.1\n",
    "end_t = start_t + h\n",
    "\n",
    "N = 100 #number of x values for training"
   ]
  },
  {
   "cell_type": "markdown",
   "metadata": {},
   "source": [
    "Import Data"
   ]
  },
  {
   "cell_type": "code",
   "execution_count": 76,
   "metadata": {},
   "outputs": [
    {
     "data": {
      "text/plain": [
       "\"\\ndata = scipy.io.loadmat('./data/burgers_shock.mat')\\n\\nt_points = data['t'].flatten()[:,None] # T x 1\\nx_points = data['x'].flatten()[:,None] # N x 1\\nExact = np.real(data['usol']).T # T x N\\n\\n#get data labels at t = 0.9 \\nindex = np.where(t_points == end_t)[0][0]\\nend_labels = Exact[index, :]\""
      ]
     },
     "execution_count": 76,
     "metadata": {},
     "output_type": "execute_result"
    }
   ],
   "source": [
    "#CREDIT TO https://github.com/maziarraissi/PINNs/blob/master/appendix/discrete_time_inference%20(Burgers)/Burgers_systematic.py FOR THE BELOW CODE TO IMPORT IRK WEIGHTS AND THE LABEL DATA (AND FOR THE DATA ITSELF)\n",
    "\n",
    "tmp = np.float32(np.loadtxt('./data/Butcher_IRK%d.txt' % (q), ndmin = 2))\n",
    "IRK_weights = np.reshape(tmp[0:q**2+q], (q+1,q)) #presume the first q rows and q columns represent a_{ij} values, and the final row represents the b_j values\n",
    "IRK_times = tmp[q**2+q:] #not sure what this is used for\n",
    "\n",
    "\n",
    "#I may choose to generate my own data once more...\n",
    "'''\n",
    "data = scipy.io.loadmat('./data/burgers_shock.mat')\n",
    "\n",
    "t_points = data['t'].flatten()[:,None] # T x 1\n",
    "x_points = data['x'].flatten()[:,None] # N x 1\n",
    "Exact = np.real(data['usol']).T # T x N\n",
    "\n",
    "#get data labels at t = 0.9 \n",
    "index = np.where(t_points == end_t)[0][0]\n",
    "end_labels = Exact[index, :]'''"
   ]
  },
  {
   "cell_type": "markdown",
   "metadata": {},
   "source": [
    "Generate Data"
   ]
  },
  {
   "cell_type": "code",
   "execution_count": 77,
   "metadata": {},
   "outputs": [],
   "source": [
    "input = np.random.rand(N) * 2 - 1 #x values between -1 and 1\n",
    "\n",
    "initial_vals = -np.sin(input * np.pi) #initial values at t = 0"
   ]
  },
  {
   "cell_type": "markdown",
   "metadata": {},
   "source": [
    "Define Network"
   ]
  },
  {
   "cell_type": "code",
   "execution_count": 78,
   "metadata": {},
   "outputs": [],
   "source": [
    "pinn = Sequential([\n",
    "    Dense(50, activation = 'tanh', input_shape=(1,)),\n",
    "    Dense(50, activation = 'tanh'),\n",
    "    Dense(50, activation = 'tanh'),\n",
    "    Dense(50, activation = 'tanh'),\n",
    "    Dense(50, activation = 'tanh'),\n",
    "    Dense(50, activation = 'tanh'),\n",
    "    Dense(q + 1)\n",
    "])"
   ]
  },
  {
   "cell_type": "markdown",
   "metadata": {},
   "source": [
    "Helper Methods"
   ]
  },
  {
   "cell_type": "code",
   "execution_count": 79,
   "metadata": {},
   "outputs": [],
   "source": [
    "#Nonelinear Burgers' Operator\n",
    "@tf.function\n",
    "def NLO(input, outputs, tape): #outputs is of the form N x q. Inputs is of form N x 1 and was used to get outputs\n",
    "\n",
    "\n",
    "    #with tf.GradientTape(persistent=True) as tape:\n",
    "        #tape.watch(input)\n",
    "    u = outputs\n",
    "\n",
    "    u_x = tape.batch_jacobian(u, input)\n",
    "    u_x = tf.squeeze(u_x, axis=-1)\n",
    "\n",
    "    u_xx = tape.batch_jacobian(u_x, input)\n",
    "    u_xx = tf.squeeze(u_xx, axis=-1)\n",
    "\n",
    "    #del tape\n",
    "\n",
    "    tf.print(\"u\", u[0,:10])\n",
    "    tf.print(\"u_x\", u_x[0,:10])\n",
    "    tf.print(\"u_xx\", u_xx[0,:10])\n",
    "\n",
    "    #print(\"begin\")\n",
    "    #tf.print(\"u\", tf.shape(u))\n",
    "    #tf.print(\"u_x\", tf.shape(u_x))\n",
    "    #tf.print(\"u_xx\", tf.shape(u_xx))\n",
    "    #print(\"end\")\n",
    "\n",
    "\n",
    "    return u * u_x - (0.01/math.pi)*u_xx\n",
    "    \n",
    "    \n",
    "\n",
    "\n",
    "#Implicit Runge-Kutta Calculation (Combine Intermediate Terms with Butcher Tableau Coefficients)\n",
    "#@tf.function\n",
    "def IRK(input, outputs, initial_vals, coefficients, tape): #outputs is tensor of size Nx(q+1), represnting q stages for N x-values and the final n+1 prediction. coefficients is a tensor of size (q+1) x q representing the Butcher Tableau. Input and initial_vals are size (N)\n",
    "\n",
    "    global N\n",
    "    global q\n",
    "    global h\n",
    "\n",
    "    outputs_truncated = outputs[:, :-1] #get all but last row\n",
    "\n",
    "    NLO_outputs = NLO(input, outputs_truncated, tape) #perform non-linear operation on each of the outputs_truncated. Shape is still (N, q)\n",
    "\n",
    "\n",
    "    N_coefficients = tf.tile(tf.expand_dims(coefficients, 0), [N, 1, 1]) #stack N coefficients tensors on top of each other\n",
    "    NLO_outputs = tf.expand_dims(NLO_outputs, axis=-1) #reshape NLO_outputs_reshaped into shape (N, q, 1) for matrix multiplication\n",
    "\n",
    "    coefficients_applied = tf.linalg.matmul(N_coefficients, NLO_outputs) #perform matrix multiplication. This represents applying the coefficients a_{ij} (and b_i for n+1 prediction) from the Butcher Tableau to every element in NLO_outputs and THEN recombining them to make every new value which will go on to form the \"calculated\" outputs (intermediate stage values). Has shape (N, q+1, 1), since N_coefficients has shape (N, q+1, q) and NLO_outputs has shape (N, q, 1). For each layer in N, the matrix mulitplcaion (q+1, q) x (q, 1) takes place, resulting in a vector of shape (q+1, 1). N of these makes (N, q+1, 1)\n",
    "    coefficients_applied = tf.reshape(coefficients_applied, [N, -1]) #now shape (N, q + 1)\n",
    "\n",
    "    coefficients_applied = -h * coefficients_applied #apply the -h (-\\delta t) to each element in coefficients_applied\n",
    "    initial_vals = tf.reshape(initial_vals, [-1, 1]) #reshape initial_vals from (N) to (N, 1)\n",
    "\n",
    "\n",
    "\n",
    "    result = coefficients_applied + initial_vals #Every element in coefficients_applied has a value added to it which is the element from initial_vals on the same layer. We can add the shapes (N, q+1) and (N, 1) due to \"broadcasting\", which effectively stretches the shape of the vector\n",
    "\n",
    "    return result #returns a result which is the same shape as \"outputs\" and represents the same intermediate values, except these are the \"calculated\" versions and not the \"direct predictions\"\n",
    "\n"
   ]
  },
  {
   "cell_type": "markdown",
   "metadata": {},
   "source": [
    "Loss Functions"
   ]
  },
  {
   "cell_type": "code",
   "execution_count": 80,
   "metadata": {},
   "outputs": [],
   "source": [
    "#@tf.function\n",
    "def SSE_n(input, outputs, initial_vals, coefficients, tape):\n",
    "\n",
    "    calculated_outputs = IRK(input, outputs, initial_vals, coefficients, tape)\n",
    "\n",
    "    SSE_n_loss = tf.reduce_sum(tf.square(calculated_outputs - outputs))\n",
    "\n",
    "    return SSE_n_loss\n",
    "\n",
    "\n",
    "#@tf.function\n",
    "def SSE_b(model):\n",
    "    boundary_points = tf.constant([-1, 1], shape=(2,1))\n",
    "    boundary_results = model(boundary_points) #get all intermediary points and the n+1 prediction for x = -1 and 1\n",
    "    return tf.reduce_sum(tf.square(boundary_results)) #square results and sum them\n",
    "\n",
    "\n",
    "@tf.function\n",
    "def SSE(input, outputs, initial_vals, coefficients, model, tape):\n",
    "    SSE_n_loss = SSE_n(input, outputs, initial_vals, coefficients, tape)\n",
    "    SSE_b_loss = SSE_b(model)\n",
    "    return SSE_n_loss + SSE_b_loss, SSE_n_loss, SSE_b_loss"
   ]
  },
  {
   "cell_type": "markdown",
   "metadata": {},
   "source": [
    "Training Setup"
   ]
  },
  {
   "cell_type": "code",
   "execution_count": 81,
   "metadata": {},
   "outputs": [],
   "source": [
    "input = tf.constant(input, dtype=tf.float32)\n",
    "initial_vals = tf.constant(initial_vals, dtype=tf.float32)\n",
    "coefficients = tf.constant(IRK_weights, dtype=tf.float32)\n",
    "\n",
    "input = tf.reshape(input, [-1, 1])\n",
    "initial_vals = tf.reshape(initial_vals, [-1, 1])"
   ]
  },
  {
   "cell_type": "markdown",
   "metadata": {},
   "source": [
    "Training"
   ]
  },
  {
   "cell_type": "code",
   "execution_count": 82,
   "metadata": {},
   "outputs": [
    {
     "name": "stdout",
     "output_type": "stream",
     "text": [
      "u [0.0282184668 -0.00947512 -0.0840042 ... 0.0180421341 -0.018635 -0.0396642797]\n",
      "u_x [-0.048858583 0.0170418229 0.144047543 ... -0.0331687331 0.031710282 0.0666879341]\n",
      "u_xx [-0.048858583 0.0170418229 0.144047543 ... -0.0331687331 0.031710282 0.0666879341]\n"
     ]
    },
    {
     "ename": "ValueError",
     "evalue": "No gradients provided for any variable: (['dense_56/kernel:0', 'dense_56/bias:0', 'dense_57/kernel:0', 'dense_57/bias:0', 'dense_58/kernel:0', 'dense_58/bias:0', 'dense_59/kernel:0', 'dense_59/bias:0', 'dense_60/kernel:0', 'dense_60/bias:0', 'dense_61/kernel:0', 'dense_61/bias:0', 'dense_62/kernel:0', 'dense_62/bias:0'],). Provided `grads_and_vars` is ((None, <tf.Variable 'dense_56/kernel:0' shape=(1, 50) dtype=float32, numpy=\narray([[-0.00844067,  0.19929829, -0.04475093, -0.32642967, -0.32389072,\n         0.10011765, -0.14665869,  0.24121878, -0.05571207, -0.01272538,\n        -0.25689936, -0.07804534, -0.20356068,  0.03439102,  0.31957397,\n         0.33885965, -0.04418463,  0.34222165,  0.0792132 , -0.06548145,\n         0.33061162, -0.2986341 ,  0.2827237 ,  0.03315899,  0.23801449,\n        -0.21613151, -0.07615644, -0.2534719 ,  0.0822871 ,  0.29390582,\n         0.16072777, -0.14025228, -0.11353421,  0.13234052, -0.07662666,\n         0.28972223,  0.18054476, -0.02670595, -0.07487485, -0.24837835,\n         0.04832059, -0.02018237,  0.24200729,  0.26092693, -0.1925011 ,\n         0.04627427, -0.29848984, -0.01642743, -0.25619346,  0.03946316]],\n      dtype=float32)>), (None, <tf.Variable 'dense_56/bias:0' shape=(50,) dtype=float32, numpy=\narray([0., 0., 0., 0., 0., 0., 0., 0., 0., 0., 0., 0., 0., 0., 0., 0., 0.,\n       0., 0., 0., 0., 0., 0., 0., 0., 0., 0., 0., 0., 0., 0., 0., 0., 0.,\n       0., 0., 0., 0., 0., 0., 0., 0., 0., 0., 0., 0., 0., 0., 0., 0.],\n      dtype=float32)>), (None, <tf.Variable 'dense_57/kernel:0' shape=(50, 50) dtype=float32, numpy=\narray([[ 0.10349704,  0.14887221, -0.17790328, ...,  0.14604382,\n        -0.23001797,  0.03250881],\n       [-0.09458667, -0.00709237, -0.20268327, ...,  0.05644397,\n         0.16658588, -0.14936167],\n       [ 0.2346629 ,  0.13781895, -0.11833735, ...,  0.16676383,\n        -0.10507281, -0.02772418],\n       ...,\n       [ 0.17972352,  0.0090913 ,  0.1641324 , ..., -0.20882735,\n        -0.22197151,  0.22383617],\n       [-0.08326721,  0.17606886, -0.1519633 , ...,  0.06708626,\n         0.13761841, -0.08319817],\n       [-0.22345167,  0.09713696,  0.13138784, ...,  0.21803977,\n         0.21892862,  0.22797291]], dtype=float32)>), (None, <tf.Variable 'dense_57/bias:0' shape=(50,) dtype=float32, numpy=\narray([0., 0., 0., 0., 0., 0., 0., 0., 0., 0., 0., 0., 0., 0., 0., 0., 0.,\n       0., 0., 0., 0., 0., 0., 0., 0., 0., 0., 0., 0., 0., 0., 0., 0., 0.,\n       0., 0., 0., 0., 0., 0., 0., 0., 0., 0., 0., 0., 0., 0., 0., 0.],\n      dtype=float32)>), (None, <tf.Variable 'dense_58/kernel:0' shape=(50, 50) dtype=float32, numpy=\narray([[ 0.00210428, -0.20400235,  0.025304  , ..., -0.07096319,\n        -0.17115214, -0.05887507],\n       [-0.05347507, -0.04149003,  0.0892428 , ...,  0.18171011,\n         0.04587953,  0.04124452],\n       [ 0.16155542, -0.15916803,  0.04552619, ...,  0.20864688,\n         0.23356263, -0.07891013],\n       ...,\n       [ 0.20141943,  0.00242992, -0.1465949 , ..., -0.21699475,\n         0.0041858 , -0.01410854],\n       [-0.1356833 ,  0.18997674, -0.1123113 , ...,  0.11992858,\n        -0.13257577, -0.19368587],\n       [ 0.07112075, -0.22096036, -0.16001138, ...,  0.01704212,\n         0.0194013 , -0.00638457]], dtype=float32)>), (None, <tf.Variable 'dense_58/bias:0' shape=(50,) dtype=float32, numpy=\narray([0., 0., 0., 0., 0., 0., 0., 0., 0., 0., 0., 0., 0., 0., 0., 0., 0.,\n       0., 0., 0., 0., 0., 0., 0., 0., 0., 0., 0., 0., 0., 0., 0., 0., 0.,\n       0., 0., 0., 0., 0., 0., 0., 0., 0., 0., 0., 0., 0., 0., 0., 0.],\n      dtype=float32)>), (None, <tf.Variable 'dense_59/kernel:0' shape=(50, 50) dtype=float32, numpy=\narray([[-0.00346915,  0.00355226, -0.20024785, ..., -0.19898115,\n        -0.23433329,  0.04185025],\n       [-0.11657073,  0.03191967, -0.03487262, ..., -0.01238053,\n        -0.18878385,  0.03921108],\n       [ 0.17706172,  0.01460014,  0.06137009, ...,  0.08327557,\n         0.05767272, -0.17122433],\n       ...,\n       [ 0.11528106, -0.0622575 , -0.19146204, ...,  0.0780402 ,\n        -0.0350703 ,  0.10313199],\n       [-0.11344391, -0.22670949,  0.07328992, ..., -0.19996935,\n        -0.04913312,  0.04851915],\n       [-0.15208411,  0.1441388 , -0.16458665, ..., -0.1851854 ,\n         0.06610428, -0.04544297]], dtype=float32)>), (None, <tf.Variable 'dense_59/bias:0' shape=(50,) dtype=float32, numpy=\narray([0., 0., 0., 0., 0., 0., 0., 0., 0., 0., 0., 0., 0., 0., 0., 0., 0.,\n       0., 0., 0., 0., 0., 0., 0., 0., 0., 0., 0., 0., 0., 0., 0., 0., 0.,\n       0., 0., 0., 0., 0., 0., 0., 0., 0., 0., 0., 0., 0., 0., 0., 0.],\n      dtype=float32)>), (None, <tf.Variable 'dense_60/kernel:0' shape=(50, 50) dtype=float32, numpy=\narray([[ 0.2318139 , -0.03920236,  0.0742978 , ...,  0.17576827,\n         0.01505499,  0.21473776],\n       [-0.19604105, -0.01032197,  0.19028719, ..., -0.13120067,\n         0.17173235,  0.19224338],\n       [-0.09968561,  0.09000276,  0.11954595, ..., -0.22334492,\n        -0.10493585, -0.23521334],\n       ...,\n       [-0.11249924, -0.07675329,  0.09227137, ..., -0.0534482 ,\n         0.04414918,  0.03990819],\n       [-0.16938278, -0.13786298, -0.17493945, ..., -0.09137931,\n        -0.12169951,  0.08776696],\n       [ 0.11462747, -0.22415125,  0.17548124, ..., -0.16568556,\n         0.03226154, -0.11310087]], dtype=float32)>), (None, <tf.Variable 'dense_60/bias:0' shape=(50,) dtype=float32, numpy=\narray([0., 0., 0., 0., 0., 0., 0., 0., 0., 0., 0., 0., 0., 0., 0., 0., 0.,\n       0., 0., 0., 0., 0., 0., 0., 0., 0., 0., 0., 0., 0., 0., 0., 0., 0.,\n       0., 0., 0., 0., 0., 0., 0., 0., 0., 0., 0., 0., 0., 0., 0., 0.],\n      dtype=float32)>), (None, <tf.Variable 'dense_61/kernel:0' shape=(50, 50) dtype=float32, numpy=\narray([[-0.07975227, -0.11169237,  0.02561183, ..., -0.13896471,\n         0.03261013, -0.01054274],\n       [-0.21647486, -0.11982468,  0.15417735, ..., -0.13151562,\n         0.07612951, -0.2022865 ],\n       [ 0.00750218, -0.20910953, -0.04132633, ...,  0.06187691,\n         0.02815826,  0.09702335],\n       ...,\n       [-0.06060733, -0.00619827,  0.22268347, ..., -0.11828057,\n        -0.21682674,  0.03982784],\n       [-0.0715699 , -0.19459009, -0.0896659 , ...,  0.09210484,\n        -0.09803094,  0.04346062],\n       [-0.21787228, -0.21993993, -0.00083378, ...,  0.1573172 ,\n         0.1625431 ,  0.22770543]], dtype=float32)>), (None, <tf.Variable 'dense_61/bias:0' shape=(50,) dtype=float32, numpy=\narray([0., 0., 0., 0., 0., 0., 0., 0., 0., 0., 0., 0., 0., 0., 0., 0., 0.,\n       0., 0., 0., 0., 0., 0., 0., 0., 0., 0., 0., 0., 0., 0., 0., 0., 0.,\n       0., 0., 0., 0., 0., 0., 0., 0., 0., 0., 0., 0., 0., 0., 0., 0.],\n      dtype=float32)>), (None, <tf.Variable 'dense_62/kernel:0' shape=(50, 501) dtype=float32, numpy=\narray([[ 0.03272097, -0.00700019, -0.05399276, ..., -0.01126927,\n        -0.03021324, -0.05036887],\n       [ 0.01951951,  0.08595888, -0.05993582, ..., -0.09497333,\n         0.10250455, -0.08155356],\n       [ 0.10073902,  0.01291318, -0.07955778, ...,  0.02427804,\n         0.10161103, -0.10311592],\n       ...,\n       [-0.09154281,  0.01001625,  0.07564135, ...,  0.04184087,\n        -0.09774495,  0.02073255],\n       [ 0.03446029, -0.05741109, -0.03220596, ...,  0.0372628 ,\n         0.02988735, -0.01046412],\n       [-0.09371381,  0.01287808, -0.01453853, ...,  0.06465241,\n         0.10399508, -0.02220509]], dtype=float32)>), (None, <tf.Variable 'dense_62/bias:0' shape=(501,) dtype=float32, numpy=\narray([0., 0., 0., 0., 0., 0., 0., 0., 0., 0., 0., 0., 0., 0., 0., 0., 0.,\n       0., 0., 0., 0., 0., 0., 0., 0., 0., 0., 0., 0., 0., 0., 0., 0., 0.,\n       0., 0., 0., 0., 0., 0., 0., 0., 0., 0., 0., 0., 0., 0., 0., 0., 0.,\n       0., 0., 0., 0., 0., 0., 0., 0., 0., 0., 0., 0., 0., 0., 0., 0., 0.,\n       0., 0., 0., 0., 0., 0., 0., 0., 0., 0., 0., 0., 0., 0., 0., 0., 0.,\n       0., 0., 0., 0., 0., 0., 0., 0., 0., 0., 0., 0., 0., 0., 0., 0., 0.,\n       0., 0., 0., 0., 0., 0., 0., 0., 0., 0., 0., 0., 0., 0., 0., 0., 0.,\n       0., 0., 0., 0., 0., 0., 0., 0., 0., 0., 0., 0., 0., 0., 0., 0., 0.,\n       0., 0., 0., 0., 0., 0., 0., 0., 0., 0., 0., 0., 0., 0., 0., 0., 0.,\n       0., 0., 0., 0., 0., 0., 0., 0., 0., 0., 0., 0., 0., 0., 0., 0., 0.,\n       0., 0., 0., 0., 0., 0., 0., 0., 0., 0., 0., 0., 0., 0., 0., 0., 0.,\n       0., 0., 0., 0., 0., 0., 0., 0., 0., 0., 0., 0., 0., 0., 0., 0., 0.,\n       0., 0., 0., 0., 0., 0., 0., 0., 0., 0., 0., 0., 0., 0., 0., 0., 0.,\n       0., 0., 0., 0., 0., 0., 0., 0., 0., 0., 0., 0., 0., 0., 0., 0., 0.,\n       0., 0., 0., 0., 0., 0., 0., 0., 0., 0., 0., 0., 0., 0., 0., 0., 0.,\n       0., 0., 0., 0., 0., 0., 0., 0., 0., 0., 0., 0., 0., 0., 0., 0., 0.,\n       0., 0., 0., 0., 0., 0., 0., 0., 0., 0., 0., 0., 0., 0., 0., 0., 0.,\n       0., 0., 0., 0., 0., 0., 0., 0., 0., 0., 0., 0., 0., 0., 0., 0., 0.,\n       0., 0., 0., 0., 0., 0., 0., 0., 0., 0., 0., 0., 0., 0., 0., 0., 0.,\n       0., 0., 0., 0., 0., 0., 0., 0., 0., 0., 0., 0., 0., 0., 0., 0., 0.,\n       0., 0., 0., 0., 0., 0., 0., 0., 0., 0., 0., 0., 0., 0., 0., 0., 0.,\n       0., 0., 0., 0., 0., 0., 0., 0., 0., 0., 0., 0., 0., 0., 0., 0., 0.,\n       0., 0., 0., 0., 0., 0., 0., 0., 0., 0., 0., 0., 0., 0., 0., 0., 0.,\n       0., 0., 0., 0., 0., 0., 0., 0., 0., 0., 0., 0., 0., 0., 0., 0., 0.,\n       0., 0., 0., 0., 0., 0., 0., 0., 0., 0., 0., 0., 0., 0., 0., 0., 0.,\n       0., 0., 0., 0., 0., 0., 0., 0., 0., 0., 0., 0., 0., 0., 0., 0., 0.,\n       0., 0., 0., 0., 0., 0., 0., 0., 0., 0., 0., 0., 0., 0., 0., 0., 0.,\n       0., 0., 0., 0., 0., 0., 0., 0., 0., 0., 0., 0., 0., 0., 0., 0., 0.,\n       0., 0., 0., 0., 0., 0., 0., 0., 0., 0., 0., 0., 0., 0., 0., 0., 0.,\n       0., 0., 0., 0., 0., 0., 0., 0.], dtype=float32)>)).",
     "output_type": "error",
     "traceback": [
      "\u001b[0;31m---------------------------------------------------------------------------\u001b[0m",
      "\u001b[0;31mValueError\u001b[0m                                Traceback (most recent call last)",
      "\u001b[1;32m/Users/alexning/Desktop/Life/UVA/Research/Research1 (Public Github repo)/PINN 2 - Implicit Runge-Kutta/IRKPINN_TF.ipynb Cell 19\u001b[0m line \u001b[0;36m3\n\u001b[1;32m     <a href='vscode-notebook-cell:/Users/alexning/Desktop/Life/UVA/Research/Research1%20%28Public%20Github%20repo%29/PINN%202%20-%20Implicit%20Runge-Kutta/IRKPINN_TF.ipynb#X32sZmlsZQ%3D%3D?line=34'>35</a>\u001b[0m     \u001b[39m#overall_loss, SSE_n_loss, SSE_b_loss = SSE(input, outputs, initial_vals, coefficients, pinn, tape)\u001b[39;00m\n\u001b[1;32m     <a href='vscode-notebook-cell:/Users/alexning/Desktop/Life/UVA/Research/Research1%20%28Public%20Github%20repo%29/PINN%202%20-%20Implicit%20Runge-Kutta/IRKPINN_TF.ipynb#X32sZmlsZQ%3D%3D?line=36'>37</a>\u001b[0m grads \u001b[39m=\u001b[39m tape\u001b[39m.\u001b[39mgradient(overall_loss, pinn\u001b[39m.\u001b[39mtrainable_variables)\n\u001b[0;32m---> <a href='vscode-notebook-cell:/Users/alexning/Desktop/Life/UVA/Research/Research1%20%28Public%20Github%20repo%29/PINN%202%20-%20Implicit%20Runge-Kutta/IRKPINN_TF.ipynb#X32sZmlsZQ%3D%3D?line=38'>39</a>\u001b[0m optimizer\u001b[39m.\u001b[39mapply_gradients(\u001b[39mzip\u001b[39m(grads, pinn\u001b[39m.\u001b[39mtrainable_variables))\n\u001b[1;32m     <a href='vscode-notebook-cell:/Users/alexning/Desktop/Life/UVA/Research/Research1%20%28Public%20Github%20repo%29/PINN%202%20-%20Implicit%20Runge-Kutta/IRKPINN_TF.ipynb#X32sZmlsZQ%3D%3D?line=40'>41</a>\u001b[0m \u001b[39mif\u001b[39;00m i \u001b[39m%\u001b[39m \u001b[39m100\u001b[39m \u001b[39m==\u001b[39m \u001b[39m0\u001b[39m:\n\u001b[1;32m     <a href='vscode-notebook-cell:/Users/alexning/Desktop/Life/UVA/Research/Research1%20%28Public%20Github%20repo%29/PINN%202%20-%20Implicit%20Runge-Kutta/IRKPINN_TF.ipynb#X32sZmlsZQ%3D%3D?line=41'>42</a>\u001b[0m     \u001b[39mprint\u001b[39m(\u001b[39mf\u001b[39m\u001b[39m\"\u001b[39m\u001b[39mSTEP: \u001b[39m\u001b[39m{\u001b[39;00mi\u001b[39m}\u001b[39;00m\u001b[39m | Avg Losses | SSE_n: \u001b[39m\u001b[39m{\u001b[39;00mSSE_n_loss\u001b[39m}\u001b[39;00m\u001b[39m | SSE_b: \u001b[39m\u001b[39m{\u001b[39;00mSSE_b_loss\u001b[39m}\u001b[39;00m\u001b[39m | Total: \u001b[39m\u001b[39m{\u001b[39;00moverall_loss\u001b[39m}\u001b[39;00m\u001b[39m\"\u001b[39m)\n",
      "File \u001b[0;32m~/anaconda3/envs/env-2-ai-tf/lib/python3.11/site-packages/keras/optimizers/legacy/optimizer_v2.py:698\u001b[0m, in \u001b[0;36mOptimizerV2.apply_gradients\u001b[0;34m(self, grads_and_vars, name, experimental_aggregate_gradients)\u001b[0m\n\u001b[1;32m    657\u001b[0m \u001b[39mdef\u001b[39;00m \u001b[39mapply_gradients\u001b[39m(\n\u001b[1;32m    658\u001b[0m     \u001b[39mself\u001b[39m, grads_and_vars, name\u001b[39m=\u001b[39m\u001b[39mNone\u001b[39;00m, experimental_aggregate_gradients\u001b[39m=\u001b[39m\u001b[39mTrue\u001b[39;00m\n\u001b[1;32m    659\u001b[0m ):\n\u001b[1;32m    660\u001b[0m \u001b[39m    \u001b[39m\u001b[39m\"\"\"Apply gradients to variables.\u001b[39;00m\n\u001b[1;32m    661\u001b[0m \n\u001b[1;32m    662\u001b[0m \u001b[39m    This is the second part of `minimize()`. It returns an `Operation` that\u001b[39;00m\n\u001b[0;32m   (...)\u001b[0m\n\u001b[1;32m    696\u001b[0m \u001b[39m      RuntimeError: If called in a cross-replica context.\u001b[39;00m\n\u001b[1;32m    697\u001b[0m \u001b[39m    \"\"\"\u001b[39;00m\n\u001b[0;32m--> 698\u001b[0m     grads_and_vars \u001b[39m=\u001b[39m optimizer_utils\u001b[39m.\u001b[39mfilter_empty_gradients(grads_and_vars)\n\u001b[1;32m    699\u001b[0m     var_list \u001b[39m=\u001b[39m [v \u001b[39mfor\u001b[39;00m (_, v) \u001b[39min\u001b[39;00m grads_and_vars]\n\u001b[1;32m    701\u001b[0m     \u001b[39mwith\u001b[39;00m tf\u001b[39m.\u001b[39mname_scope(\u001b[39mself\u001b[39m\u001b[39m.\u001b[39m_name):\n\u001b[1;32m    702\u001b[0m         \u001b[39m# Create iteration if necessary.\u001b[39;00m\n",
      "File \u001b[0;32m~/anaconda3/envs/env-2-ai-tf/lib/python3.11/site-packages/keras/optimizers/utils.py:77\u001b[0m, in \u001b[0;36mfilter_empty_gradients\u001b[0;34m(grads_and_vars)\u001b[0m\n\u001b[1;32m     75\u001b[0m \u001b[39mif\u001b[39;00m \u001b[39mnot\u001b[39;00m filtered:\n\u001b[1;32m     76\u001b[0m     variable \u001b[39m=\u001b[39m ([v\u001b[39m.\u001b[39mname \u001b[39mfor\u001b[39;00m _, v \u001b[39min\u001b[39;00m grads_and_vars],)\n\u001b[0;32m---> 77\u001b[0m     \u001b[39mraise\u001b[39;00m \u001b[39mValueError\u001b[39;00m(\n\u001b[1;32m     78\u001b[0m         \u001b[39mf\u001b[39m\u001b[39m\"\u001b[39m\u001b[39mNo gradients provided for any variable: \u001b[39m\u001b[39m{\u001b[39;00mvariable\u001b[39m}\u001b[39;00m\u001b[39m. \u001b[39m\u001b[39m\"\u001b[39m\n\u001b[1;32m     79\u001b[0m         \u001b[39mf\u001b[39m\u001b[39m\"\u001b[39m\u001b[39mProvided `grads_and_vars` is \u001b[39m\u001b[39m{\u001b[39;00mgrads_and_vars\u001b[39m}\u001b[39;00m\u001b[39m.\u001b[39m\u001b[39m\"\u001b[39m\n\u001b[1;32m     80\u001b[0m     )\n\u001b[1;32m     81\u001b[0m \u001b[39mif\u001b[39;00m vars_with_empty_grads:\n\u001b[1;32m     82\u001b[0m     logging\u001b[39m.\u001b[39mwarning(\n\u001b[1;32m     83\u001b[0m         \u001b[39m\"\u001b[39m\u001b[39mGradients do not exist for variables \u001b[39m\u001b[39m%s\u001b[39;00m\u001b[39m when minimizing the \u001b[39m\u001b[39m\"\u001b[39m\n\u001b[1;32m     84\u001b[0m         \u001b[39m\"\u001b[39m\u001b[39mloss. If you\u001b[39m\u001b[39m'\u001b[39m\u001b[39mre using `model.compile()`, did you forget to \u001b[39m\u001b[39m\"\u001b[39m\n\u001b[1;32m     85\u001b[0m         \u001b[39m\"\u001b[39m\u001b[39mprovide a `loss` argument?\u001b[39m\u001b[39m\"\u001b[39m,\n\u001b[1;32m     86\u001b[0m         ([v\u001b[39m.\u001b[39mname \u001b[39mfor\u001b[39;00m v \u001b[39min\u001b[39;00m vars_with_empty_grads]),\n\u001b[1;32m     87\u001b[0m     )\n",
      "\u001b[0;31mValueError\u001b[0m: No gradients provided for any variable: (['dense_56/kernel:0', 'dense_56/bias:0', 'dense_57/kernel:0', 'dense_57/bias:0', 'dense_58/kernel:0', 'dense_58/bias:0', 'dense_59/kernel:0', 'dense_59/bias:0', 'dense_60/kernel:0', 'dense_60/bias:0', 'dense_61/kernel:0', 'dense_61/bias:0', 'dense_62/kernel:0', 'dense_62/bias:0'],). Provided `grads_and_vars` is ((None, <tf.Variable 'dense_56/kernel:0' shape=(1, 50) dtype=float32, numpy=\narray([[-0.00844067,  0.19929829, -0.04475093, -0.32642967, -0.32389072,\n         0.10011765, -0.14665869,  0.24121878, -0.05571207, -0.01272538,\n        -0.25689936, -0.07804534, -0.20356068,  0.03439102,  0.31957397,\n         0.33885965, -0.04418463,  0.34222165,  0.0792132 , -0.06548145,\n         0.33061162, -0.2986341 ,  0.2827237 ,  0.03315899,  0.23801449,\n        -0.21613151, -0.07615644, -0.2534719 ,  0.0822871 ,  0.29390582,\n         0.16072777, -0.14025228, -0.11353421,  0.13234052, -0.07662666,\n         0.28972223,  0.18054476, -0.02670595, -0.07487485, -0.24837835,\n         0.04832059, -0.02018237,  0.24200729,  0.26092693, -0.1925011 ,\n         0.04627427, -0.29848984, -0.01642743, -0.25619346,  0.03946316]],\n      dtype=float32)>), (None, <tf.Variable 'dense_56/bias:0' shape=(50,) dtype=float32, numpy=\narray([0., 0., 0., 0., 0., 0., 0., 0., 0., 0., 0., 0., 0., 0., 0., 0., 0.,\n       0., 0., 0., 0., 0., 0., 0., 0., 0., 0., 0., 0., 0., 0., 0., 0., 0.,\n       0., 0., 0., 0., 0., 0., 0., 0., 0., 0., 0., 0., 0., 0., 0., 0.],\n      dtype=float32)>), (None, <tf.Variable 'dense_57/kernel:0' shape=(50, 50) dtype=float32, numpy=\narray([[ 0.10349704,  0.14887221, -0.17790328, ...,  0.14604382,\n        -0.23001797,  0.03250881],\n       [-0.09458667, -0.00709237, -0.20268327, ...,  0.05644397,\n         0.16658588, -0.14936167],\n       [ 0.2346629 ,  0.13781895, -0.11833735, ...,  0.16676383,\n        -0.10507281, -0.02772418],\n       ...,\n       [ 0.17972352,  0.0090913 ,  0.1641324 , ..., -0.20882735,\n        -0.22197151,  0.22383617],\n       [-0.08326721,  0.17606886, -0.1519633 , ...,  0.06708626,\n         0.13761841, -0.08319817],\n       [-0.22345167,  0.09713696,  0.13138784, ...,  0.21803977,\n         0.21892862,  0.22797291]], dtype=float32)>), (None, <tf.Variable 'dense_57/bias:0' shape=(50,) dtype=float32, numpy=\narray([0., 0., 0., 0., 0., 0., 0., 0., 0., 0., 0., 0., 0., 0., 0., 0., 0.,\n       0., 0., 0., 0., 0., 0., 0., 0., 0., 0., 0., 0., 0., 0., 0., 0., 0.,\n       0., 0., 0., 0., 0., 0., 0., 0., 0., 0., 0., 0., 0., 0., 0., 0.],\n      dtype=float32)>), (None, <tf.Variable 'dense_58/kernel:0' shape=(50, 50) dtype=float32, numpy=\narray([[ 0.00210428, -0.20400235,  0.025304  , ..., -0.07096319,\n        -0.17115214, -0.05887507],\n       [-0.05347507, -0.04149003,  0.0892428 , ...,  0.18171011,\n         0.04587953,  0.04124452],\n       [ 0.16155542, -0.15916803,  0.04552619, ...,  0.20864688,\n         0.23356263, -0.07891013],\n       ...,\n       [ 0.20141943,  0.00242992, -0.1465949 , ..., -0.21699475,\n         0.0041858 , -0.01410854],\n       [-0.1356833 ,  0.18997674, -0.1123113 , ...,  0.11992858,\n        -0.13257577, -0.19368587],\n       [ 0.07112075, -0.22096036, -0.16001138, ...,  0.01704212,\n         0.0194013 , -0.00638457]], dtype=float32)>), (None, <tf.Variable 'dense_58/bias:0' shape=(50,) dtype=float32, numpy=\narray([0., 0., 0., 0., 0., 0., 0., 0., 0., 0., 0., 0., 0., 0., 0., 0., 0.,\n       0., 0., 0., 0., 0., 0., 0., 0., 0., 0., 0., 0., 0., 0., 0., 0., 0.,\n       0., 0., 0., 0., 0., 0., 0., 0., 0., 0., 0., 0., 0., 0., 0., 0.],\n      dtype=float32)>), (None, <tf.Variable 'dense_59/kernel:0' shape=(50, 50) dtype=float32, numpy=\narray([[-0.00346915,  0.00355226, -0.20024785, ..., -0.19898115,\n        -0.23433329,  0.04185025],\n       [-0.11657073,  0.03191967, -0.03487262, ..., -0.01238053,\n        -0.18878385,  0.03921108],\n       [ 0.17706172,  0.01460014,  0.06137009, ...,  0.08327557,\n         0.05767272, -0.17122433],\n       ...,\n       [ 0.11528106, -0.0622575 , -0.19146204, ...,  0.0780402 ,\n        -0.0350703 ,  0.10313199],\n       [-0.11344391, -0.22670949,  0.07328992, ..., -0.19996935,\n        -0.04913312,  0.04851915],\n       [-0.15208411,  0.1441388 , -0.16458665, ..., -0.1851854 ,\n         0.06610428, -0.04544297]], dtype=float32)>), (None, <tf.Variable 'dense_59/bias:0' shape=(50,) dtype=float32, numpy=\narray([0., 0., 0., 0., 0., 0., 0., 0., 0., 0., 0., 0., 0., 0., 0., 0., 0.,\n       0., 0., 0., 0., 0., 0., 0., 0., 0., 0., 0., 0., 0., 0., 0., 0., 0.,\n       0., 0., 0., 0., 0., 0., 0., 0., 0., 0., 0., 0., 0., 0., 0., 0.],\n      dtype=float32)>), (None, <tf.Variable 'dense_60/kernel:0' shape=(50, 50) dtype=float32, numpy=\narray([[ 0.2318139 , -0.03920236,  0.0742978 , ...,  0.17576827,\n         0.01505499,  0.21473776],\n       [-0.19604105, -0.01032197,  0.19028719, ..., -0.13120067,\n         0.17173235,  0.19224338],\n       [-0.09968561,  0.09000276,  0.11954595, ..., -0.22334492,\n        -0.10493585, -0.23521334],\n       ...,\n       [-0.11249924, -0.07675329,  0.09227137, ..., -0.0534482 ,\n         0.04414918,  0.03990819],\n       [-0.16938278, -0.13786298, -0.17493945, ..., -0.09137931,\n        -0.12169951,  0.08776696],\n       [ 0.11462747, -0.22415125,  0.17548124, ..., -0.16568556,\n         0.03226154, -0.11310087]], dtype=float32)>), (None, <tf.Variable 'dense_60/bias:0' shape=(50,) dtype=float32, numpy=\narray([0., 0., 0., 0., 0., 0., 0., 0., 0., 0., 0., 0., 0., 0., 0., 0., 0.,\n       0., 0., 0., 0., 0., 0., 0., 0., 0., 0., 0., 0., 0., 0., 0., 0., 0.,\n       0., 0., 0., 0., 0., 0., 0., 0., 0., 0., 0., 0., 0., 0., 0., 0.],\n      dtype=float32)>), (None, <tf.Variable 'dense_61/kernel:0' shape=(50, 50) dtype=float32, numpy=\narray([[-0.07975227, -0.11169237,  0.02561183, ..., -0.13896471,\n         0.03261013, -0.01054274],\n       [-0.21647486, -0.11982468,  0.15417735, ..., -0.13151562,\n         0.07612951, -0.2022865 ],\n       [ 0.00750218, -0.20910953, -0.04132633, ...,  0.06187691,\n         0.02815826,  0.09702335],\n       ...,\n       [-0.06060733, -0.00619827,  0.22268347, ..., -0.11828057,\n        -0.21682674,  0.03982784],\n       [-0.0715699 , -0.19459009, -0.0896659 , ...,  0.09210484,\n        -0.09803094,  0.04346062],\n       [-0.21787228, -0.21993993, -0.00083378, ...,  0.1573172 ,\n         0.1625431 ,  0.22770543]], dtype=float32)>), (None, <tf.Variable 'dense_61/bias:0' shape=(50,) dtype=float32, numpy=\narray([0., 0., 0., 0., 0., 0., 0., 0., 0., 0., 0., 0., 0., 0., 0., 0., 0.,\n       0., 0., 0., 0., 0., 0., 0., 0., 0., 0., 0., 0., 0., 0., 0., 0., 0.,\n       0., 0., 0., 0., 0., 0., 0., 0., 0., 0., 0., 0., 0., 0., 0., 0.],\n      dtype=float32)>), (None, <tf.Variable 'dense_62/kernel:0' shape=(50, 501) dtype=float32, numpy=\narray([[ 0.03272097, -0.00700019, -0.05399276, ..., -0.01126927,\n        -0.03021324, -0.05036887],\n       [ 0.01951951,  0.08595888, -0.05993582, ..., -0.09497333,\n         0.10250455, -0.08155356],\n       [ 0.10073902,  0.01291318, -0.07955778, ...,  0.02427804,\n         0.10161103, -0.10311592],\n       ...,\n       [-0.09154281,  0.01001625,  0.07564135, ...,  0.04184087,\n        -0.09774495,  0.02073255],\n       [ 0.03446029, -0.05741109, -0.03220596, ...,  0.0372628 ,\n         0.02988735, -0.01046412],\n       [-0.09371381,  0.01287808, -0.01453853, ...,  0.06465241,\n         0.10399508, -0.02220509]], dtype=float32)>), (None, <tf.Variable 'dense_62/bias:0' shape=(501,) dtype=float32, numpy=\narray([0., 0., 0., 0., 0., 0., 0., 0., 0., 0., 0., 0., 0., 0., 0., 0., 0.,\n       0., 0., 0., 0., 0., 0., 0., 0., 0., 0., 0., 0., 0., 0., 0., 0., 0.,\n       0., 0., 0., 0., 0., 0., 0., 0., 0., 0., 0., 0., 0., 0., 0., 0., 0.,\n       0., 0., 0., 0., 0., 0., 0., 0., 0., 0., 0., 0., 0., 0., 0., 0., 0.,\n       0., 0., 0., 0., 0., 0., 0., 0., 0., 0., 0., 0., 0., 0., 0., 0., 0.,\n       0., 0., 0., 0., 0., 0., 0., 0., 0., 0., 0., 0., 0., 0., 0., 0., 0.,\n       0., 0., 0., 0., 0., 0., 0., 0., 0., 0., 0., 0., 0., 0., 0., 0., 0.,\n       0., 0., 0., 0., 0., 0., 0., 0., 0., 0., 0., 0., 0., 0., 0., 0., 0.,\n       0., 0., 0., 0., 0., 0., 0., 0., 0., 0., 0., 0., 0., 0., 0., 0., 0.,\n       0., 0., 0., 0., 0., 0., 0., 0., 0., 0., 0., 0., 0., 0., 0., 0., 0.,\n       0., 0., 0., 0., 0., 0., 0., 0., 0., 0., 0., 0., 0., 0., 0., 0., 0.,\n       0., 0., 0., 0., 0., 0., 0., 0., 0., 0., 0., 0., 0., 0., 0., 0., 0.,\n       0., 0., 0., 0., 0., 0., 0., 0., 0., 0., 0., 0., 0., 0., 0., 0., 0.,\n       0., 0., 0., 0., 0., 0., 0., 0., 0., 0., 0., 0., 0., 0., 0., 0., 0.,\n       0., 0., 0., 0., 0., 0., 0., 0., 0., 0., 0., 0., 0., 0., 0., 0., 0.,\n       0., 0., 0., 0., 0., 0., 0., 0., 0., 0., 0., 0., 0., 0., 0., 0., 0.,\n       0., 0., 0., 0., 0., 0., 0., 0., 0., 0., 0., 0., 0., 0., 0., 0., 0.,\n       0., 0., 0., 0., 0., 0., 0., 0., 0., 0., 0., 0., 0., 0., 0., 0., 0.,\n       0., 0., 0., 0., 0., 0., 0., 0., 0., 0., 0., 0., 0., 0., 0., 0., 0.,\n       0., 0., 0., 0., 0., 0., 0., 0., 0., 0., 0., 0., 0., 0., 0., 0., 0.,\n       0., 0., 0., 0., 0., 0., 0., 0., 0., 0., 0., 0., 0., 0., 0., 0., 0.,\n       0., 0., 0., 0., 0., 0., 0., 0., 0., 0., 0., 0., 0., 0., 0., 0., 0.,\n       0., 0., 0., 0., 0., 0., 0., 0., 0., 0., 0., 0., 0., 0., 0., 0., 0.,\n       0., 0., 0., 0., 0., 0., 0., 0., 0., 0., 0., 0., 0., 0., 0., 0., 0.,\n       0., 0., 0., 0., 0., 0., 0., 0., 0., 0., 0., 0., 0., 0., 0., 0., 0.,\n       0., 0., 0., 0., 0., 0., 0., 0., 0., 0., 0., 0., 0., 0., 0., 0., 0.,\n       0., 0., 0., 0., 0., 0., 0., 0., 0., 0., 0., 0., 0., 0., 0., 0., 0.,\n       0., 0., 0., 0., 0., 0., 0., 0., 0., 0., 0., 0., 0., 0., 0., 0., 0.,\n       0., 0., 0., 0., 0., 0., 0., 0., 0., 0., 0., 0., 0., 0., 0., 0., 0.,\n       0., 0., 0., 0., 0., 0., 0., 0.], dtype=float32)>))."
     ]
    }
   ],
   "source": [
    "optimizer = tf.keras.optimizers.legacy.Adam()\n",
    "\n",
    "num_epochs = 1\n",
    "i = 0\n",
    "for epoch in range(num_epochs):\n",
    "    with tf.GradientTape(persistent=True) as tape:\n",
    "        tape.watch(input)\n",
    "\n",
    "        outputs = pinn(input)\n",
    "\n",
    "        \n",
    "        \n",
    "\n",
    "    u = outputs\n",
    "    \n",
    "    u_x = tape.batch_jacobian(u, input)\n",
    "    u_x = tf.squeeze(u_x, axis=-1)\n",
    "\n",
    "    u_xx = tape.batch_jacobian(u_x, input)\n",
    "    u_xx = tf.squeeze(u_xx, axis=-1)\n",
    "\n",
    "    #del tape\n",
    "\n",
    "    tf.print(\"u\", u[0,:10])\n",
    "    tf.print(\"u_x\", u_x[0,:10])\n",
    "    tf.print(\"u_xx\", u_xx[0,:10])\n",
    "\n",
    "\n",
    "\n",
    "\n",
    "\n",
    "\n",
    "\n",
    "\n",
    "        #overall_loss, SSE_n_loss, SSE_b_loss = SSE(input, outputs, initial_vals, coefficients, pinn, tape)\n",
    "    \n",
    "    grads = tape.gradient(overall_loss, pinn.trainable_variables)\n",
    "\n",
    "    optimizer.apply_gradients(zip(grads, pinn.trainable_variables))\n",
    "\n",
    "    if i % 100 == 0:\n",
    "        print(f\"STEP: {i} | Avg Losses | SSE_n: {SSE_n_loss} | SSE_b: {SSE_b_loss} | Total: {overall_loss}\")\n",
    "    \n",
    "    i += 1\n",
    "\n"
   ]
  },
  {
   "cell_type": "markdown",
   "metadata": {},
   "source": [
    "Evaluation"
   ]
  },
  {
   "cell_type": "markdown",
   "metadata": {},
   "source": [
    "Graphing"
   ]
  },
  {
   "cell_type": "code",
   "execution_count": null,
   "metadata": {},
   "outputs": [
    {
     "name": "stdout",
     "output_type": "stream",
     "text": [
      "32/32 [==============================] - 0s 381us/step\n",
      "Size: 1000\n",
      "[0.96812795 0.96653358 0.96490097 0.96323019 0.96152131 0.95977439\n",
      " 0.95798951 0.95616673 0.95430613 0.95240778]\n",
      "[-0.0103075  -0.01024654 -0.01018548 -0.01012433 -0.01006304 -0.01000161\n",
      " -0.00994009 -0.00987844 -0.00981667 -0.00975477]\n"
     ]
    },
    {
     "data": {
      "image/png": "[encoded data removed]",
      "text/plain": [
       "<Figure size 1000x600 with 1 Axes>"
      ]
     },
     "metadata": {},
     "output_type": "display_data"
    }
   ],
   "source": [
    "num_points = 1000\n",
    "x_vals = np.linspace(-1, 1, num_points)\n",
    "\n",
    "# Reshape for model input\n",
    "x_vals_model = x_vals.reshape(-1, 1).astype(np.float32)\n",
    "\n",
    "# Plug these points through the model\n",
    "model_output = pinn.predict(x_vals_model)\n",
    "\n",
    "# Take the q+1th output of the model (last output)\n",
    "final_output = model_output[:, 500]\n",
    "\n",
    "print(f\"Size: {len(final_output)}\")\n",
    "\n",
    "# Plug the original points through the function -sin(pi * x)\n",
    "y_vals = -np.sin(np.pi * x_vals)\n",
    "\n",
    "print(y_vals[290:300])\n",
    "print(final_output[290:300])\n",
    "\n",
    "# Create the plot\n",
    "plt.figure(figsize=(10, 6))\n",
    "\n",
    "plt.plot(x_vals, y_vals, 'r', label='-sin(pi * x)')\n",
    "plt.plot(x_vals, final_output, 'b', label='Model Output')\n",
    "plt.legend()\n",
    "plt.xlabel('x')\n",
    "plt.ylabel('y')\n",
    "plt.title('Comparison of Model Output and -sin(pi * x)')\n",
    "plt.show()"
   ]
  },
  {
   "cell_type": "markdown",
   "metadata": {},
   "source": [
    "Saving"
   ]
  }
 ],
 "metadata": {
  "kernelspec": {
   "display_name": "env-1-ai",
   "language": "python",
   "name": "python3"
  },
  "language_info": {
   "codemirror_mode": {
    "name": "ipython",
    "version": 3
   },
   "file_extension": ".py",
   "mimetype": "text/x-python",
   "name": "python",
   "nbconvert_exporter": "python",
   "pygments_lexer": "ipython3",
   "version": "3.11.5"
  },
  "orig_nbformat": 4
 },
 "nbformat": 4,
 "nbformat_minor": 2
}

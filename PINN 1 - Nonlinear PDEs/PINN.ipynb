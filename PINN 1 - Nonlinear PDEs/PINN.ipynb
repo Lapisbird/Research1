{
 "cells": [
  {
   "cell_type": "markdown",
   "metadata": {},
   "source": [
    "Import statements"
   ]
  },
  {
   "cell_type": "code",
   "execution_count": 138,
   "metadata": {},
   "outputs": [],
   "source": [
    "import os\n",
    "import torch\n",
    "import torchvision\n",
    "from torch import nn \n",
    "from torch.autograd import Variable\n",
    "from torchvision import transforms\n",
    "from torch.utils.data import DataLoader\n",
    "import torch.nn.functional as F\n",
    "import numpy as np\n",
    "import pandas as pd\n",
    "import matplotlib.pyplot as plt\n",
    "import math\n",
    "from torch.utils.data import Dataset\n",
    "import pyDOE2\n",
    "from torch.autograd.functional import jacobian, hessian\n"
   ]
  },
  {
   "cell_type": "markdown",
   "metadata": {},
   "source": []
  },
  {
   "cell_type": "markdown",
   "metadata": {},
   "source": [
    "Variables"
   ]
  },
  {
   "cell_type": "code",
   "execution_count": 139,
   "metadata": {},
   "outputs": [],
   "source": [
    "x_bounds = [-1, 1]\n",
    "t_bounds = [0, 1]\n",
    "num_data_points = 10\n",
    "num_collocation_points = 10\n",
    "proportion_t_0 = 0.4 #the proportion of the data points which will exist at various points x along the boundary t = 0. The rest will be split between the boundaries x = -1 and x = 1 for all t"
   ]
  },
  {
   "cell_type": "markdown",
   "metadata": {},
   "source": [
    "Generating Data"
   ]
  },
  {
   "cell_type": "code",
   "execution_count": 140,
   "metadata": {},
   "outputs": [],
   "source": [
    "num_points_t_0 = (int) (num_data_points * proportion_t_0)\n",
    "num_points_x_1 = (num_data_points - num_points_t_0)//2 # // is integer division\n",
    "num_points_x_neg_1 = num_data_points - num_points_t_0 - num_points_x_1\n",
    "\n",
    "#create num_data_points random data points on the boundaries of the PDE\n",
    "t_0_points = np.array( list( zip(np.zeros(num_points_t_0), 2 * np.random.rand(num_points_t_0) - 1 ) ) )\n",
    "x_1_points = np.array( list( zip(np.random.rand(num_points_x_1), np.full(num_points_x_1, 1)) ) ) #np.full() takes paramters shape, value. Shape can be a tuple for multidimensional arrays filled with value.\n",
    "x_neg_1_points = np.array( list( zip(np.random.rand(num_points_x_neg_1), np.full(num_points_x_neg_1, -1)) ) )\n",
    "x_points = np.concatenate(( x_1_points, x_neg_1_points ))\n",
    "\n",
    "#Generating labels with the data\n",
    "dtype = [('points', float, 2), ('label', float)] #need custom dtype because otherwise numpy doesn't like these combined arrays\n",
    "\n",
    "t_0_labels = -np.sin(np.pi * t_0_points[:,1] )\n",
    "t_0_combined = np.array(list( zip(t_0_points, t_0_labels) ), dtype=dtype)\n",
    "\n",
    "x_labels = np.zeros(num_points_x_1 + num_points_x_neg_1)\n",
    "x_combined = np.array(list( zip(x_points, x_labels) ), dtype=dtype)\n",
    "\n",
    "combined_labels_data = np.concatenate( (t_0_combined, x_combined) )\n",
    "\n",
    "np.random.shuffle(combined_labels_data)\n",
    "\n",
    "data_points, labels = map(np.array, map(list, zip(*combined_labels_data)) )\n"
   ]
  },
  {
   "cell_type": "markdown",
   "metadata": {},
   "source": [
    "Data Validation Code"
   ]
  },
  {
   "cell_type": "code",
   "execution_count": 141,
   "metadata": {},
   "outputs": [
    {
     "data": {
      "text/plain": [
       "'# Test 1: Ensure all data points lie on the correct boundaries\\ndef test_boundaries(data_points):\\n    t_values = data_points[:, 0]\\n    x_values = data_points[:, 1]\\n    assert np.all((t_values == 0) | (x_values == 1) | (x_values == -1)), \"Some points do not lie on the correct boundaries.\"\\n\\ntest_boundaries(data_points)\\nprint(\"Test 1 passed!\")\\n\\n# Test 2: For t=0, label should be -sin(pi * x)\\ndef test_labels_t_0(data_points, labels):\\n    mask_t_0 = data_points[:, 0] == 0\\n    expected_labels = -np.sin(np.pi * data_points[mask_t_0, 1])\\n    assert np.allclose(labels[mask_t_0], expected_labels), \"Labels for t=0 do not match -sin(pi * x).\"\\n\\ntest_labels_t_0(data_points, labels)\\nprint(\"Test 2 passed!\")\\n\\n# Test 3: For x=-1 or x=1, label should be 0\\ndef test_labels_x_boundaries(data_points, labels):\\n    mask_x_boundaries = (data_points[:, 1] == 1) | (data_points[:, 1] == -1)\\n    assert np.all(labels[mask_x_boundaries] == 0), \"Labels for x=-1 or x=1 are not zero.\"\\n\\ntest_labels_x_boundaries(data_points, labels)\\nprint(\"Test 3 passed!\")\\n'"
      ]
     },
     "execution_count": 141,
     "metadata": {},
     "output_type": "execute_result"
    }
   ],
   "source": [
    "'''# Test 1: Ensure all data points lie on the correct boundaries\n",
    "def test_boundaries(data_points):\n",
    "    t_values = data_points[:, 0]\n",
    "    x_values = data_points[:, 1]\n",
    "    assert np.all((t_values == 0) | (x_values == 1) | (x_values == -1)), \"Some points do not lie on the correct boundaries.\"\n",
    "\n",
    "test_boundaries(data_points)\n",
    "print(\"Test 1 passed!\")\n",
    "\n",
    "# Test 2: For t=0, label should be -sin(pi * x)\n",
    "def test_labels_t_0(data_points, labels):\n",
    "    mask_t_0 = data_points[:, 0] == 0\n",
    "    expected_labels = -np.sin(np.pi * data_points[mask_t_0, 1])\n",
    "    assert np.allclose(labels[mask_t_0], expected_labels), \"Labels for t=0 do not match -sin(pi * x).\"\n",
    "\n",
    "test_labels_t_0(data_points, labels)\n",
    "print(\"Test 2 passed!\")\n",
    "\n",
    "# Test 3: For x=-1 or x=1, label should be 0\n",
    "def test_labels_x_boundaries(data_points, labels):\n",
    "    mask_x_boundaries = (data_points[:, 1] == 1) | (data_points[:, 1] == -1)\n",
    "    assert np.all(labels[mask_x_boundaries] == 0), \"Labels for x=-1 or x=1 are not zero.\"\n",
    "\n",
    "test_labels_x_boundaries(data_points, labels)\n",
    "print(\"Test 3 passed!\")\n",
    "'''"
   ]
  },
  {
   "cell_type": "markdown",
   "metadata": {},
   "source": [
    "Preparing the Dataset and Dataloader"
   ]
  },
  {
   "cell_type": "code",
   "execution_count": 142,
   "metadata": {},
   "outputs": [],
   "source": [
    "class PINN_DataSet(Dataset):\n",
    "    def __init__(self, data, labels):\n",
    "        self.data = data\n",
    "        self.labels = labels\n",
    "\n",
    "    def __len__(self):\n",
    "        return len(self.data)\n",
    "\n",
    "    def __getitem__(self, idx):\n",
    "        return self.data[idx], self.labels[idx]\n",
    "\n",
    "trainset = PINN_DataSet(data_points.astype(np.float32), labels.astype(np.float32)) #convert to float32, or else later the resulting torch tensors will be of torch.float64 type, which is not compatible with the neural network\n",
    "\n",
    "batch_size = num_data_points #no mini-batches\n",
    "\n",
    "num_workers = 0\n",
    "\n",
    "trainloader = DataLoader(\n",
    "    trainset,\n",
    "    batch_size = batch_size,\n",
    "    shuffle = True,\n",
    "    num_workers = num_workers\n",
    ")\n",
    "\n"
   ]
  },
  {
   "cell_type": "markdown",
   "metadata": {},
   "source": [
    "Collocation Points"
   ]
  },
  {
   "cell_type": "code",
   "execution_count": 143,
   "metadata": {},
   "outputs": [],
   "source": [
    "def lhs_samples(n): #generate n collocation points via Latin Hypercube Sampling. Each point is a (t,x)\n",
    "    lhs_array = pyDOE2.lhs(2, samples=n) #Two dimensions. Values from 0 to 1\n",
    "    lhs_array[:,1] = 2*lhs_array[:,1] - 1 #convert range of x values to -1 to 1\n",
    "    return lhs_array\n",
    "\n",
    "collocation_points = lhs_samples(num_collocation_points)"
   ]
  },
  {
   "cell_type": "markdown",
   "metadata": {},
   "source": [
    "Defining the Neural Network"
   ]
  },
  {
   "cell_type": "code",
   "execution_count": 144,
   "metadata": {},
   "outputs": [],
   "source": [
    "class PINN(nn.Module):\n",
    "    def __init__(self):\n",
    "        super().__init__()\n",
    "        self.net = nn.Sequential( #9 layers of 20 neurons each\n",
    "            nn.Linear(2,20),\n",
    "            nn.Tanh(),\n",
    "            nn.Linear(20,20),\n",
    "            nn.Tanh(),\n",
    "            nn.Linear(20,20),\n",
    "            nn.Tanh(),\n",
    "            nn.Linear(20,20),\n",
    "            nn.Tanh(),\n",
    "            nn.Linear(20,20),\n",
    "            nn.Tanh(),\n",
    "            nn.Linear(20,20),\n",
    "            nn.Tanh(),\n",
    "            nn.Linear(20,20),\n",
    "            nn.Tanh(),\n",
    "            nn.Linear(20,20),\n",
    "            nn.Tanh(),\n",
    "            nn.Linear(20,20),\n",
    "            nn.Tanh(),\n",
    "            nn.Linear(20,20),\n",
    "            nn.Tanh(),\n",
    "            nn.Linear(20,1),\n",
    "            #nn.Tanh()\n",
    "\n",
    "        )\n",
    "\n",
    "    def forward(self, x):\n",
    "        return self.net(x)\n",
    "\n"
   ]
  },
  {
   "cell_type": "markdown",
   "metadata": {},
   "source": [
    "Loss Function"
   ]
  },
  {
   "cell_type": "code",
   "execution_count": 145,
   "metadata": {},
   "outputs": [],
   "source": [
    "'''def MSE_f(collocation_points, neural_network, device):\n",
    "\n",
    "    collocation_points = collocation_points.astype(np.float32)\n",
    "\n",
    "    sum = torch.zeros(1, requires_grad=True).to(device)\n",
    "\n",
    "    for i in range(num_collocation_points):\n",
    "\n",
    "        collocation_input = torch.tensor(collocation_points[i] , requires_grad=True).to(device)\n",
    "        u = neural_network(collocation_input)\n",
    "        u_derivs, = torch.autograd.grad(u, collocation_input, retain_graph=True, create_graph=True)\n",
    "        u_t = u_derivs[0]\n",
    "        u_x = u_derivs[1]\n",
    "        u_second_derivs, = torch.autograd.grad(u_x, collocation_input, retain_graph=True, create_graph=True)\n",
    "        u_xx = u_second_derivs[1]\n",
    "        sum = sum + (u_t + u*u_x - (0.01/torch.pi)*u_xx)**2\n",
    "\n",
    "\n",
    "    return (sum/num_collocation_points).squeeze() #get rid of unnecessary dimension: [N, 1] to [N]'''\n",
    "\n",
    "\n",
    "def MSE_f(collocation_points, neural_network, device):\n",
    "\n",
    "    collocation_inputs = torch.tensor(collocation_points.astype(np.float32), requires_grad=True).to(device)\n",
    "    \n",
    "    t_vals = collocation_inputs[:,0]\n",
    "    x_vals = collocation_inputs[:,1]\n",
    "    u = neural_network(collocation_inputs)\n",
    "    u_t, = torch.autograd.grad(u, t_vals, grad_outputs=torch.ones_like(u), retain_graph=True, create_graph=True, allow_unused=True)\n",
    "    u_x, = torch.autograd.grad(u, x_vals, grad_outputs=torch.ones_like(u), retain_graph=True, create_graph=True, allow_unused=True)\n",
    "    u_xx, = torch.autograd.grad(u_x, x_vals, grad_outputs=torch.ones_like(u_x), retain_graph=True, create_graph=True, allow_unused=True)\n",
    "    return (u_t + u*u_x - (0.01/torch.pi)*u_xx)**2\n",
    "    \n",
    "    \n",
    "\n",
    "def criterion(output, label, collocation_points, neural_network, device): #collocation_points must be a NUMPY ARRAY\n",
    "    mse_u = nn.MSELoss()(output, label).squeeze()\n",
    "    mse_f = MSE_f(collocation_points, neural_network, device).squeeze()\n",
    "    print(mse_f.size())\n",
    "    return mse_u + mse_f, mse_u.item(), mse_f.item()\n",
    "    #return 10*(mse_u + mse_f), mse_u.item(), mse_f.item()"
   ]
  },
  {
   "cell_type": "markdown",
   "metadata": {},
   "source": [
    "Model Training"
   ]
  },
  {
   "cell_type": "code",
   "execution_count": 146,
   "metadata": {},
   "outputs": [
    {
     "name": "stdout",
     "output_type": "stream",
     "text": [
      "Using device: CPU\n",
      "EPOCH 1 out of 20\n"
     ]
    },
    {
     "name": "stderr",
     "output_type": "stream",
     "text": [
      "/Users/alexning/anaconda3/envs/env-1-ai/lib/python3.11/site-packages/torch/nn/modules/loss.py:536: UserWarning: Using a target size (torch.Size([10])) that is different to the input size (torch.Size([10, 1])). This will likely lead to incorrect results due to broadcasting. Please ensure they have the same size.\n",
      "  return F.mse_loss(input, target, reduction=self.reduction)\n"
     ]
    },
    {
     "ename": "TypeError",
     "evalue": "ones_like(): argument 'input' (position 1) must be Tensor, not NoneType",
     "output_type": "error",
     "traceback": [
      "\u001b[0;31m---------------------------------------------------------------------------\u001b[0m",
      "\u001b[0;31mTypeError\u001b[0m                                 Traceback (most recent call last)",
      "Cell \u001b[0;32mIn[146], line 34\u001b[0m\n\u001b[1;32m     31\u001b[0m                 \u001b[39mprint\u001b[39m(\u001b[39mf\u001b[39m\u001b[39m\"\u001b[39m\u001b[39mAvg f(t,x)^2 Per Collocation Point: \u001b[39m\u001b[39m{\u001b[39;00mmse_f\u001b[39m}\u001b[39;00m\u001b[39m\"\u001b[39m)\n\u001b[1;32m     32\u001b[0m                 \u001b[39mreturn\u001b[39;00m loss\n\u001b[0;32m---> 34\u001b[0m             optimizer\u001b[39m.\u001b[39mstep(closure) \u001b[39m#Using the gradients, adjust the parameters    \u001b[39;00m\n\u001b[1;32m     36\u001b[0m \u001b[39mexcept\u001b[39;00m \u001b[39mKeyboardInterrupt\u001b[39;00m:\n\u001b[1;32m     37\u001b[0m     \u001b[39mprint\u001b[39m(\u001b[39m\"\u001b[39m\u001b[39mTraining interrupted by user.\u001b[39m\u001b[39m\"\u001b[39m)  \n",
      "File \u001b[0;32m~/anaconda3/envs/env-1-ai/lib/python3.11/site-packages/torch/optim/optimizer.py:280\u001b[0m, in \u001b[0;36mOptimizer.profile_hook_step.<locals>.wrapper\u001b[0;34m(*args, **kwargs)\u001b[0m\n\u001b[1;32m    276\u001b[0m         \u001b[39melse\u001b[39;00m:\n\u001b[1;32m    277\u001b[0m             \u001b[39mraise\u001b[39;00m \u001b[39mRuntimeError\u001b[39;00m(\u001b[39mf\u001b[39m\u001b[39m\"\u001b[39m\u001b[39m{\u001b[39;00mfunc\u001b[39m}\u001b[39;00m\u001b[39m must return None or a tuple of (new_args, new_kwargs),\u001b[39m\u001b[39m\"\u001b[39m\n\u001b[1;32m    278\u001b[0m                                \u001b[39mf\u001b[39m\u001b[39m\"\u001b[39m\u001b[39mbut got \u001b[39m\u001b[39m{\u001b[39;00mresult\u001b[39m}\u001b[39;00m\u001b[39m.\u001b[39m\u001b[39m\"\u001b[39m)\n\u001b[0;32m--> 280\u001b[0m out \u001b[39m=\u001b[39m func(\u001b[39m*\u001b[39margs, \u001b[39m*\u001b[39m\u001b[39m*\u001b[39mkwargs)\n\u001b[1;32m    281\u001b[0m \u001b[39mself\u001b[39m\u001b[39m.\u001b[39m_optimizer_step_code()\n\u001b[1;32m    283\u001b[0m \u001b[39m# call optimizer step post hooks\u001b[39;00m\n",
      "File \u001b[0;32m~/anaconda3/envs/env-1-ai/lib/python3.11/site-packages/torch/utils/_contextlib.py:115\u001b[0m, in \u001b[0;36mcontext_decorator.<locals>.decorate_context\u001b[0;34m(*args, **kwargs)\u001b[0m\n\u001b[1;32m    112\u001b[0m \u001b[39m@functools\u001b[39m\u001b[39m.\u001b[39mwraps(func)\n\u001b[1;32m    113\u001b[0m \u001b[39mdef\u001b[39;00m \u001b[39mdecorate_context\u001b[39m(\u001b[39m*\u001b[39margs, \u001b[39m*\u001b[39m\u001b[39m*\u001b[39mkwargs):\n\u001b[1;32m    114\u001b[0m     \u001b[39mwith\u001b[39;00m ctx_factory():\n\u001b[0;32m--> 115\u001b[0m         \u001b[39mreturn\u001b[39;00m func(\u001b[39m*\u001b[39margs, \u001b[39m*\u001b[39m\u001b[39m*\u001b[39mkwargs)\n",
      "File \u001b[0;32m~/anaconda3/envs/env-1-ai/lib/python3.11/site-packages/torch/optim/lbfgs.py:312\u001b[0m, in \u001b[0;36mLBFGS.step\u001b[0;34m(self, closure)\u001b[0m\n\u001b[1;32m    309\u001b[0m state\u001b[39m.\u001b[39msetdefault(\u001b[39m'\u001b[39m\u001b[39mn_iter\u001b[39m\u001b[39m'\u001b[39m, \u001b[39m0\u001b[39m)\n\u001b[1;32m    311\u001b[0m \u001b[39m# evaluate initial f(x) and df/dx\u001b[39;00m\n\u001b[0;32m--> 312\u001b[0m orig_loss \u001b[39m=\u001b[39m closure()\n\u001b[1;32m    313\u001b[0m loss \u001b[39m=\u001b[39m \u001b[39mfloat\u001b[39m(orig_loss)\n\u001b[1;32m    314\u001b[0m current_evals \u001b[39m=\u001b[39m \u001b[39m1\u001b[39m\n",
      "File \u001b[0;32m~/anaconda3/envs/env-1-ai/lib/python3.11/site-packages/torch/utils/_contextlib.py:115\u001b[0m, in \u001b[0;36mcontext_decorator.<locals>.decorate_context\u001b[0;34m(*args, **kwargs)\u001b[0m\n\u001b[1;32m    112\u001b[0m \u001b[39m@functools\u001b[39m\u001b[39m.\u001b[39mwraps(func)\n\u001b[1;32m    113\u001b[0m \u001b[39mdef\u001b[39;00m \u001b[39mdecorate_context\u001b[39m(\u001b[39m*\u001b[39margs, \u001b[39m*\u001b[39m\u001b[39m*\u001b[39mkwargs):\n\u001b[1;32m    114\u001b[0m     \u001b[39mwith\u001b[39;00m ctx_factory():\n\u001b[0;32m--> 115\u001b[0m         \u001b[39mreturn\u001b[39;00m func(\u001b[39m*\u001b[39margs, \u001b[39m*\u001b[39m\u001b[39m*\u001b[39mkwargs)\n",
      "Cell \u001b[0;32mIn[146], line 28\u001b[0m, in \u001b[0;36mclosure\u001b[0;34m()\u001b[0m\n\u001b[1;32m     26\u001b[0m optimizer\u001b[39m.\u001b[39mzero_grad() \u001b[39m#reset the gradient so that the previous iteration does not affect the current one\u001b[39;00m\n\u001b[1;32m     27\u001b[0m output \u001b[39m=\u001b[39m pinn(\u001b[39minput\u001b[39m) \u001b[39m#run the batch through the current model\u001b[39;00m\n\u001b[0;32m---> 28\u001b[0m loss, mse_u, mse_f \u001b[39m=\u001b[39m criterion(output, label, collocation_points, pinn, device) \u001b[39m#calculate the loss\u001b[39;00m\n\u001b[1;32m     29\u001b[0m loss\u001b[39m.\u001b[39mbackward() \u001b[39m#Using backpropagation, calculate the gradients\u001b[39;00m\n\u001b[1;32m     30\u001b[0m \u001b[39mprint\u001b[39m(\u001b[39mf\u001b[39m\u001b[39m\"\u001b[39m\u001b[39mAvg MSE Loss Per Boundary Data Point: \u001b[39m\u001b[39m{\u001b[39;00mmse_u\u001b[39m}\u001b[39;00m\u001b[39m\"\u001b[39m)\n",
      "Cell \u001b[0;32mIn[145], line 38\u001b[0m, in \u001b[0;36mcriterion\u001b[0;34m(output, label, collocation_points, neural_network, device)\u001b[0m\n\u001b[1;32m     36\u001b[0m \u001b[39mdef\u001b[39;00m \u001b[39mcriterion\u001b[39m(output, label, collocation_points, neural_network, device): \u001b[39m#collocation_points must be a NUMPY ARRAY\u001b[39;00m\n\u001b[1;32m     37\u001b[0m     mse_u \u001b[39m=\u001b[39m nn\u001b[39m.\u001b[39mMSELoss()(output, label)\u001b[39m.\u001b[39msqueeze()\n\u001b[0;32m---> 38\u001b[0m     mse_f \u001b[39m=\u001b[39m MSE_f(collocation_points, neural_network, device)\u001b[39m.\u001b[39msqueeze()\n\u001b[1;32m     39\u001b[0m     \u001b[39mprint\u001b[39m(mse_f\u001b[39m.\u001b[39msize())\n\u001b[1;32m     40\u001b[0m     \u001b[39mreturn\u001b[39;00m mse_u \u001b[39m+\u001b[39m mse_f, mse_u\u001b[39m.\u001b[39mitem(), mse_f\u001b[39m.\u001b[39mitem()\n",
      "Cell \u001b[0;32mIn[145], line 31\u001b[0m, in \u001b[0;36mMSE_f\u001b[0;34m(collocation_points, neural_network, device)\u001b[0m\n\u001b[1;32m     29\u001b[0m u_t, \u001b[39m=\u001b[39m torch\u001b[39m.\u001b[39mautograd\u001b[39m.\u001b[39mgrad(u, t_vals, grad_outputs\u001b[39m=\u001b[39mtorch\u001b[39m.\u001b[39mones_like(u), retain_graph\u001b[39m=\u001b[39m\u001b[39mTrue\u001b[39;00m, create_graph\u001b[39m=\u001b[39m\u001b[39mTrue\u001b[39;00m, allow_unused\u001b[39m=\u001b[39m\u001b[39mTrue\u001b[39;00m)\n\u001b[1;32m     30\u001b[0m u_x, \u001b[39m=\u001b[39m torch\u001b[39m.\u001b[39mautograd\u001b[39m.\u001b[39mgrad(u, x_vals, grad_outputs\u001b[39m=\u001b[39mtorch\u001b[39m.\u001b[39mones_like(u), retain_graph\u001b[39m=\u001b[39m\u001b[39mTrue\u001b[39;00m, create_graph\u001b[39m=\u001b[39m\u001b[39mTrue\u001b[39;00m, allow_unused\u001b[39m=\u001b[39m\u001b[39mTrue\u001b[39;00m)\n\u001b[0;32m---> 31\u001b[0m u_xx, \u001b[39m=\u001b[39m torch\u001b[39m.\u001b[39mautograd\u001b[39m.\u001b[39mgrad(u_x, x_vals, grad_outputs\u001b[39m=\u001b[39mtorch\u001b[39m.\u001b[39mones_like(u_x), retain_graph\u001b[39m=\u001b[39m\u001b[39mTrue\u001b[39;00m, create_graph\u001b[39m=\u001b[39m\u001b[39mTrue\u001b[39;00m, allow_unused\u001b[39m=\u001b[39m\u001b[39mTrue\u001b[39;00m)\n\u001b[1;32m     32\u001b[0m \u001b[39mreturn\u001b[39;00m (u_t \u001b[39m+\u001b[39m u\u001b[39m*\u001b[39mu_x \u001b[39m-\u001b[39m (\u001b[39m0.01\u001b[39m\u001b[39m/\u001b[39mtorch\u001b[39m.\u001b[39mpi)\u001b[39m*\u001b[39mu_xx)\u001b[39m*\u001b[39m\u001b[39m*\u001b[39m\u001b[39m2\u001b[39m\n",
      "\u001b[0;31mTypeError\u001b[0m: ones_like(): argument 'input' (position 1) must be Tensor, not NoneType"
     ]
    }
   ],
   "source": [
    "pinn = PINN()\n",
    "optimizer = torch.optim.LBFGS(pinn.parameters())\n",
    "\n",
    "num_epochs = 20 #I have no idea how many epochs were used in the paper's implementation. Let's just do a lot for now and see how quickly training converges\n",
    "\n",
    "#use the GPU to train if possible, else CPU\n",
    "device = torch.device(\"cuda\" if torch.cuda.is_available() else \"cpu\")\n",
    "print(\"Using device: \" + (\"GPU\" if torch.cuda.is_available() else \"CPU\"))\n",
    "pinn.to(device)\n",
    "\n",
    "try:\n",
    "    for epoch in range(num_epochs):\n",
    "\n",
    "        print(f\"EPOCH {epoch + 1} out of {num_epochs}\")\n",
    "        train_running_loss = 0\n",
    "\n",
    "\n",
    "        for data in trainloader:\n",
    "\n",
    "            input, label = data #input and label already seem to be tensors. Tbh, I am a little confused when this happened. I don't think I ever explicitly turned them into tensors. They used to both be numpy arrays. EDIT: Further research seems to show that dataloader does this automatically as it fetches data from the dataset\n",
    "            input = input.to(device)\n",
    "            label = label.to(device)\n",
    "\n",
    "\n",
    "            def closure():\n",
    "                optimizer.zero_grad() #reset the gradient so that the previous iteration does not affect the current one\n",
    "                output = pinn(input) #run the batch through the current model\n",
    "                loss, mse_u, mse_f = criterion(output, label, collocation_points, pinn, device) #calculate the loss\n",
    "                loss.backward() #Using backpropagation, calculate the gradients\n",
    "                print(f\"Avg MSE Loss Per Boundary Data Point: {mse_u}\")\n",
    "                print(f\"Avg f(t,x)^2 Per Collocation Point: {mse_f}\")\n",
    "                return loss\n",
    "\n",
    "            optimizer.step(closure) #Using the gradients, adjust the parameters    \n",
    "\n",
    "except KeyboardInterrupt:\n",
    "    print(\"Training interrupted by user.\")  \n",
    "\n",
    "print(\"TRAINING COMPLETE!\")  "
   ]
  },
  {
   "cell_type": "markdown",
   "metadata": {},
   "source": [
    "Saving the Code"
   ]
  },
  {
   "cell_type": "code",
   "execution_count": 147,
   "metadata": {},
   "outputs": [
    {
     "name": "stdout",
     "output_type": "stream",
     "text": [
      "Model saved!\n"
     ]
    }
   ],
   "source": [
    "base_path = \"./\"\n",
    "base_name = \"pinn_model\"\n",
    "extension = \".pth\"\n",
    "\n",
    "counter = 0\n",
    "model_save_path = os.path.join(base_path, base_name + extension)\n",
    "\n",
    "while os.path.exists(model_save_path):\n",
    "    counter += 1\n",
    "    model_save_path = os.path.join(base_path, f\"{base_name}_{counter}{extension}\")\n",
    "\n",
    "torch.save(pinn.state_dict(), model_save_path)\n",
    "\n",
    "print(\"Model saved!\")"
   ]
  },
  {
   "cell_type": "markdown",
   "metadata": {},
   "source": [
    "Visual Plot"
   ]
  },
  {
   "cell_type": "code",
   "execution_count": 148,
   "metadata": {},
   "outputs": [
    {
     "data": {
      "image/png": "[encoded data removed]",
      "text/plain": [
       "<Figure size 1000x800 with 2 Axes>"
      ]
     },
     "metadata": {},
     "output_type": "display_data"
    }
   ],
   "source": [
    "# 1. Generate Random Points\n",
    "num_points = 1000000\n",
    "t_values = np.random.rand(num_points)\n",
    "x_values = np.random.uniform(-1, 1, num_points)\n",
    "points = np.vstack((t_values, x_values)).T\n",
    "points_tensor = torch.tensor(points, dtype=torch.float32).to(device)\n",
    "\n",
    "# 2. Feed the Points through the Model\n",
    "with torch.no_grad():\n",
    "    model_outputs = pinn(points_tensor).cpu().numpy()\n",
    "\n",
    "# Normalize the model outputs to be between 0 and 1 for color mapping\n",
    "normalized_outputs = (model_outputs - (-1)) / (1 - (-1))\n",
    "\n",
    "# 3. Color Mapping\n",
    "colors = plt.cm.rainbow(normalized_outputs.squeeze())\n",
    "\n",
    "# 4. Plotting\n",
    "plt.figure(figsize=(10, 8))\n",
    "plt.scatter(t_values, x_values, c=colors, s=1, alpha=0.5)\n",
    "plt.xlabel(\"t\")\n",
    "plt.ylabel(\"x\")\n",
    "plt.colorbar()\n",
    "plt.title(\"Visualization of Model Outputs\")\n",
    "plt.show()"
   ]
  }
 ],
 "metadata": {
  "kernelspec": {
   "display_name": "env-1-ai",
   "language": "python",
   "name": "python3"
  },
  "language_info": {
   "codemirror_mode": {
    "name": "ipython",
    "version": 3
   },
   "file_extension": ".py",
   "mimetype": "text/x-python",
   "name": "python",
   "nbconvert_exporter": "python",
   "pygments_lexer": "ipython3",
   "version": "3.11.4"
  },
  "orig_nbformat": 4
 },
 "nbformat": 4,
 "nbformat_minor": 2
}

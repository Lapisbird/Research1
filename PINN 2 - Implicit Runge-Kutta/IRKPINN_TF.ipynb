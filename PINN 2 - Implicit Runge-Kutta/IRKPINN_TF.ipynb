{
 "cells": [
  {
   "cell_type": "markdown",
   "metadata": {},
   "source": [
    "Reattempting the model in Tensorflow, because autograd.grad can only return the gradient after it has summed all the values, but I need them individually.\n",
    "Built off of the structure of the original PyTorch code.\n",
    "\n",
    "Just like mentioned before, I should really be using object-oriented programming. I didn't here because I am mainly just swapping out the PyTorch code for Tensorflow piece by piece."
   ]
  },
  {
   "cell_type": "markdown",
   "metadata": {},
   "source": [
    "Import Statements"
   ]
  },
  {
   "cell_type": "code",
   "execution_count": 53,
   "metadata": {},
   "outputs": [],
   "source": [
    "import os\n",
    "import numpy as np\n",
    "import pandas as pd\n",
    "import matplotlib.pyplot as plt\n",
    "import math\n",
    "from mpl_toolkits.mplot3d import Axes3D\n",
    "import scipy.io\n",
    "\n",
    "import tensorflow as tf\n",
    "from tensorflow.keras import Sequential\n",
    "from tensorflow.keras.layers import Dense"
   ]
  },
  {
   "cell_type": "markdown",
   "metadata": {},
   "source": [
    "Some Variables"
   ]
  },
  {
   "cell_type": "code",
   "execution_count": 54,
   "metadata": {},
   "outputs": [],
   "source": [
    "#number of intermediate steps\n",
    "q = 500\n",
    "\n",
    "#step size\n",
    "h = 0.8\n",
    "\n",
    "#start and end location\n",
    "start_t = 0.1\n",
    "end_t = start_t + h\n",
    "\n",
    "N = 100 #number of x values for training"
   ]
  },
  {
   "cell_type": "markdown",
   "metadata": {},
   "source": [
    "Import Data"
   ]
  },
  {
   "cell_type": "code",
   "execution_count": 55,
   "metadata": {},
   "outputs": [
    {
     "data": {
      "text/plain": [
       "\"\\ndata = scipy.io.loadmat('./data/burgers_shock.mat')\\n\\nt_points = data['t'].flatten()[:,None] # T x 1\\nx_points = data['x'].flatten()[:,None] # N x 1\\nExact = np.real(data['usol']).T # T x N\\n\\n#get data labels at t = 0.9 \\nindex = np.where(t_points == end_t)[0][0]\\nend_labels = Exact[index, :]\""
      ]
     },
     "execution_count": 55,
     "metadata": {},
     "output_type": "execute_result"
    }
   ],
   "source": [
    "#CREDIT TO https://github.com/maziarraissi/PINNs/blob/master/appendix/discrete_time_inference%20(Burgers)/Burgers_systematic.py FOR THE BELOW CODE TO IMPORT IRK WEIGHTS AND THE LABEL DATA (AND FOR THE DATA ITSELF)\n",
    "\n",
    "tmp = np.float32(np.loadtxt('./data/Butcher_IRK%d.txt' % (q), ndmin = 2))\n",
    "IRK_weights = np.reshape(tmp[0:q**2+q], (q+1,q)) #presume the first q rows and q columns represent a_{ij} values, and the final row represents the b_j values\n",
    "IRK_times = tmp[q**2+q:] #not sure what this is used for\n",
    "\n",
    "\n",
    "#I may choose to generate my own data once more...\n",
    "'''\n",
    "data = scipy.io.loadmat('./data/burgers_shock.mat')\n",
    "\n",
    "t_points = data['t'].flatten()[:,None] # T x 1\n",
    "x_points = data['x'].flatten()[:,None] # N x 1\n",
    "Exact = np.real(data['usol']).T # T x N\n",
    "\n",
    "#get data labels at t = 0.9 \n",
    "index = np.where(t_points == end_t)[0][0]\n",
    "end_labels = Exact[index, :]'''"
   ]
  },
  {
   "cell_type": "markdown",
   "metadata": {},
   "source": [
    "Generate Data"
   ]
  },
  {
   "cell_type": "code",
   "execution_count": 56,
   "metadata": {},
   "outputs": [],
   "source": [
    "input = np.random.rand(N) * 2 - 1 #x values between -1 and 1\n",
    "\n",
    "initial_vals = -np.sin(input * np.pi) #initial values at t = 0"
   ]
  },
  {
   "cell_type": "markdown",
   "metadata": {},
   "source": [
    "Define Network"
   ]
  },
  {
   "cell_type": "code",
   "execution_count": 57,
   "metadata": {},
   "outputs": [],
   "source": [
    "pinn = Sequential([\n",
    "    Dense(50, activation = 'tanh', input_shape=(1,)),\n",
    "    Dense(50, activation = 'tanh'),\n",
    "    Dense(50, activation = 'tanh'),\n",
    "    Dense(q + 1)\n",
    "])"
   ]
  },
  {
   "cell_type": "markdown",
   "metadata": {},
   "source": [
    "Helper Methods"
   ]
  },
  {
   "cell_type": "code",
   "execution_count": 58,
   "metadata": {},
   "outputs": [],
   "source": [
    "#Nonelinear Burgers' Operator\n",
    "@tf.function\n",
    "def NLO(input, outputs): #outputs is of the form N x q. Inputs is of form N x 1 and was used to get outputs\n",
    "\n",
    "\n",
    "\n",
    "    with tf.GradientTape(persistent=True) as tape:\n",
    "        tape.watch(input)\n",
    "        u = outputs\n",
    "\n",
    "    u_x = tape.batch_jacobian(u, input)\n",
    "    u_x = tf.squeeze(u_x, axis=-1)\n",
    "\n",
    "    u_xx = tape.batch_jacobian(u_x, input)\n",
    "    u_xx = tf.squeeze(u_xx, axis=-1)\n",
    "\n",
    "    del tape\n",
    "\n",
    "    #print(\"begin\")\n",
    "    #tf.print(\"u\", tf.shape(u))\n",
    "    #tf.print(\"u_x\", tf.shape(u_x))\n",
    "    #tf.print(\"u_xx\", tf.shape(u_xx))\n",
    "    #print(\"end\")\n",
    "\n",
    "\n",
    "\n",
    "    return u * u_x - (0.01/math.pi)*u_xx\n",
    "    \n",
    "    \n",
    "\n",
    "\n",
    "#Implicit Runge-Kutta Calculation (Combine Intermediate Terms with Butcher Tableau Coefficients)\n",
    "@tf.function\n",
    "def IRK(input, outputs, initial_vals, coefficients): #outputs is tensor of size Nx(q+1), represnting q stages for N x-values and the final n+1 prediction. coefficients is a tensor of size (q+1) x q representing the Butcher Tableau. Input and initial_vals are size (N)\n",
    "\n",
    "    global N\n",
    "    global q\n",
    "    global h\n",
    "\n",
    "    outputs_truncated = outputs[:, :-1] #get all but last row\n",
    "    \n",
    "\n",
    "    NLO_outputs = NLO(input, outputs_truncated) #perform non-linear operation on each of the outputs_truncated. Shape is still (N, q)\n",
    "\n",
    "    N_coefficients = tf.tile(tf.expand_dims(coefficients, 0), [N, 1, 1]) #stack N coefficients tensors on top of each other\n",
    "    NLO_outputs = tf.expand_dims(NLO_outputs, axis=-1) #reshape NLO_outputs_reshaped into shape (N, q, 1) for matrix multiplication\n",
    "\n",
    "    coefficients_applied = tf.linalg.matmul(N_coefficients, NLO_outputs) #perform matrix multiplication. This represents applying the coefficients a_{ij} (and b_i for n+1 prediction) from the Butcher Tableau to every element in NLO_outputs and THEN recombining them to make every new value which will go on to form the \"calculated\" outputs (intermediate stage values). Has shape (N, q+1, 1), since N_coefficients has shape (N, q+1, q) and NLO_outputs has shape (N, q, 1). For each layer in N, the matrix mulitplcaion (q+1, q) x (q, 1) takes place, resulting in a vector of shape (q+1, 1). N of these makes (N, q+1, 1)\n",
    "    coefficients_applied = tf.reshape(coefficients_applied, [N, -1]) #now shape (N, q + 1)\n",
    "\n",
    "    coefficients_applied = -h * coefficients_applied #apply the -h (-\\delta t) to each element in coefficients_applied\n",
    "    initial_vals = tf.reshape(initial_vals, [-1, 1]) #reshape initial_vals from (N) to (N, 1)\n",
    "\n",
    "    result = coefficients_applied + initial_vals #Every element in coefficients_applied has a value added to it which is the element from initial_vals on the same layer. We can add the shapes (N, q+1) and (N, 1) due to \"broadcasting\", which effectively stretches the shape of the vector\n",
    "\n",
    "    return result #returns a result which is the same shape as \"outputs\" and represents the same intermediate values, except these are the \"calculated\" versions and not the \"direct predictions\"\n",
    "\n"
   ]
  },
  {
   "cell_type": "markdown",
   "metadata": {},
   "source": [
    "Loss Functions"
   ]
  },
  {
   "cell_type": "code",
   "execution_count": 59,
   "metadata": {},
   "outputs": [],
   "source": [
    "@tf.function\n",
    "def SSE_n(input, outputs, initial_vals, coefficients):\n",
    "\n",
    "    calculated_outputs = IRK(input, outputs, initial_vals, coefficients)\n",
    "\n",
    "    SSE_n_loss = tf.reduce_sum(tf.square(calculated_outputs - outputs))\n",
    "\n",
    "    return SSE_n_loss\n",
    "\n",
    "\n",
    "@tf.function\n",
    "def SSE_b(model):\n",
    "    boundary_points = tf.constant([-1, 1], shape=(2,1))\n",
    "    boundary_results = model(boundary_points) #get all intermediary points and the n+1 prediction for x = -1 and 1\n",
    "    return tf.reduce_sum(tf.square(boundary_results)) #square results and sum them\n",
    "\n",
    "\n",
    "@tf.function\n",
    "def SSE(input, outputs, initial_vals, coefficients, model):\n",
    "    SSE_n_loss = SSE_n(input, outputs, initial_vals, coefficients)\n",
    "    SSE_b_loss = SSE_b(model)\n",
    "    return SSE_n_loss + SSE_b_loss, SSE_n_loss, SSE_b_loss"
   ]
  },
  {
   "cell_type": "markdown",
   "metadata": {},
   "source": [
    "Training Setup"
   ]
  },
  {
   "cell_type": "code",
   "execution_count": 60,
   "metadata": {},
   "outputs": [],
   "source": [
    "input = tf.constant(input, dtype=tf.float32)\n",
    "initial_vals = tf.constant(initial_vals, dtype=tf.float32)\n",
    "coefficients = tf.constant(IRK_weights, dtype=tf.float32)\n",
    "\n",
    "input = tf.reshape(input, [-1, 1])\n",
    "initial_vals = tf.reshape(initial_vals, [-1, 1])"
   ]
  },
  {
   "cell_type": "markdown",
   "metadata": {},
   "source": [
    "Training"
   ]
  },
  {
   "cell_type": "code",
   "execution_count": 61,
   "metadata": {},
   "outputs": [
    {
     "name": "stderr",
     "output_type": "stream",
     "text": [
      "2023-10-06 00:32:47.227011: I tensorflow/core/common_runtime/executor.cc:1197] [/device:CPU:0] (DEBUG INFO) Executor start aborting (this does not indicate an error and you can ignore this message): INVALID_ARGUMENT: You must feed a value for placeholder tensor 'gradients/StatefulPartitionedCall_grad/StatefulPartitionedCall_4' with dtype int32 and shape [3]\n",
      "\t [[{{node gradients/StatefulPartitionedCall_grad/StatefulPartitionedCall_4}}]]\n",
      "2023-10-06 00:32:47.231657: I tensorflow/core/common_runtime/executor.cc:1197] [/device:CPU:0] (DEBUG INFO) Executor start aborting (this does not indicate an error and you can ignore this message): INVALID_ARGUMENT: You must feed a value for placeholder tensor 'gradients/StatefulPartitionedCall_grad/StatefulPartitionedCall_5' with dtype int32 and shape [3]\n",
      "\t [[{{node gradients/StatefulPartitionedCall_grad/StatefulPartitionedCall_5}}]]\n"
     ]
    },
    {
     "name": "stdout",
     "output_type": "stream",
     "text": [
      "STEP: 0 | Avg Losses | SSE_n: 28412.021484375 | SSE_b: 10.082010269165039 | Total: 28422.103515625\n"
     ]
    }
   ],
   "source": [
    "optimizer = tf.keras.optimizers.legacy.Adam()\n",
    "\n",
    "num_epochs = 100\n",
    "i = 0\n",
    "for epoch in range(num_epochs):\n",
    "    with tf.GradientTape() as tape:\n",
    "        tape.watch(input)\n",
    "\n",
    "        outputs = pinn(input)\n",
    "\n",
    "        overall_loss, SSE_n_loss, SSE_b_loss = SSE(input, outputs, initial_vals, coefficients, pinn)\n",
    "    \n",
    "    grads = tape.gradient(overall_loss, pinn.trainable_variables)\n",
    "\n",
    "    optimizer.apply_gradients(zip(grads, pinn.trainable_variables))\n",
    "\n",
    "    if i % 100 == 0:\n",
    "        print(f\"STEP: {i} | Avg Losses | SSE_n: {SSE_n_loss} | SSE_b: {SSE_b_loss} | Total: {overall_loss}\")\n",
    "    \n",
    "    i += 1\n",
    "\n"
   ]
  },
  {
   "cell_type": "markdown",
   "metadata": {},
   "source": [
    "Evaluation"
   ]
  },
  {
   "cell_type": "markdown",
   "metadata": {},
   "source": [
    "Graphing"
   ]
  },
  {
   "cell_type": "code",
   "execution_count": 62,
   "metadata": {},
   "outputs": [
    {
     "name": "stdout",
     "output_type": "stream",
     "text": [
      "32/32 [==============================] - 0s 332us/step\n",
      "Size: 1000\n",
      "[0.96812795 0.96653358 0.96490097 0.96323019 0.96152131 0.95977439\n",
      " 0.95798951 0.95616673 0.95430613 0.95240778]\n",
      "[0.7189063  0.7184351  0.7179556  0.7174674  0.7169706  0.71646506\n",
      " 0.71595037 0.7154265  0.7148933  0.7143507 ]\n"
     ]
    },
    {
     "data": {
      "image/png": "[encoded data removed]",
      "text/plain": [
       "<Figure size 1000x600 with 1 Axes>"
      ]
     },
     "metadata": {},
     "output_type": "display_data"
    }
   ],
   "source": [
    "num_points = 1000\n",
    "x_vals = np.linspace(-1, 1, num_points)\n",
    "\n",
    "# Reshape for model input\n",
    "x_vals_model = x_vals.reshape(-1, 1).astype(np.float32)\n",
    "\n",
    "# Plug these points through the model\n",
    "model_output = pinn.predict(x_vals_model)\n",
    "\n",
    "# Take the q+1th output of the model (last output)\n",
    "final_output = model_output[:, 0]\n",
    "\n",
    "print(f\"Size: {len(final_output)}\")\n",
    "\n",
    "# Plug the original points through the function -sin(pi * x)\n",
    "y_vals = -np.sin(np.pi * x_vals)\n",
    "\n",
    "print(y_vals[290:300])\n",
    "print(final_output[290:300])\n",
    "\n",
    "# Create the plot\n",
    "plt.figure(figsize=(10, 6))\n",
    "\n",
    "plt.plot(x_vals, y_vals, 'r', label='-sin(pi * x)')\n",
    "plt.plot(x_vals, final_output, 'b', label='Model Output')\n",
    "plt.legend()\n",
    "plt.xlabel('x')\n",
    "plt.ylabel('y')\n",
    "plt.title('Comparison of Model Output and -sin(pi * x)')\n",
    "plt.show()"
   ]
  },
  {
   "cell_type": "markdown",
   "metadata": {},
   "source": [
    "Saving"
   ]
  }
 ],
 "metadata": {
  "kernelspec": {
   "display_name": "env-1-ai",
   "language": "python",
   "name": "python3"
  },
  "language_info": {
   "codemirror_mode": {
    "name": "ipython",
    "version": 3
   },
   "file_extension": ".py",
   "mimetype": "text/x-python",
   "name": "python",
   "nbconvert_exporter": "python",
   "pygments_lexer": "ipython3",
   "version": "3.11.5"
  },
  "orig_nbformat": 4
 },
 "nbformat": 4,
 "nbformat_minor": 2
}

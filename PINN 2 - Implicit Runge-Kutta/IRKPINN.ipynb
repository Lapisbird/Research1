{
 "cells": [
  {
   "cell_type": "markdown",
   "metadata": {},
   "source": [
    "Note to self: I should defintely explore an object-oriented PyTorch approach in the future. It is annoying having to pass around every single required variable to helper functions"
   ]
  },
  {
   "cell_type": "markdown",
   "metadata": {},
   "source": [
    "Import Statements"
   ]
  },
  {
   "cell_type": "code",
   "execution_count": 1,
   "metadata": {},
   "outputs": [],
   "source": [
    "import os\n",
    "import torch\n",
    "import torchvision\n",
    "from torch import nn \n",
    "from torch.autograd import Variable\n",
    "from torchvision import transforms\n",
    "from torch.utils.data import DataLoader\n",
    "import torch.nn.functional as F\n",
    "import numpy as np\n",
    "import pandas as pd\n",
    "import matplotlib.pyplot as plt\n",
    "import math\n",
    "from torch.utils.data import Dataset\n",
    "from mpl_toolkits.mplot3d import Axes3D\n",
    "import scipy.io\n",
    "\n",
    "from torch.autograd.functional import jacobian\n",
    "from torch.autograd.functional import hessian"
   ]
  },
  {
   "cell_type": "markdown",
   "metadata": {},
   "source": [
    "Some Variables"
   ]
  },
  {
   "cell_type": "code",
   "execution_count": 2,
   "metadata": {},
   "outputs": [],
   "source": [
    "#number of intermediate steps\n",
    "q = 500\n",
    "\n",
    "#step size\n",
    "h = 0.8\n",
    "\n",
    "#start and end location\n",
    "start_t = 0.1\n",
    "end_t = start_t + h\n",
    "\n",
    "N = 100 #number of x values for training"
   ]
  },
  {
   "cell_type": "markdown",
   "metadata": {},
   "source": [
    "Import Data"
   ]
  },
  {
   "cell_type": "code",
   "execution_count": 3,
   "metadata": {},
   "outputs": [
    {
     "data": {
      "text/plain": [
       "\"\\ndata = scipy.io.loadmat('./data/burgers_shock.mat')\\n\\nt_points = data['t'].flatten()[:,None] # T x 1\\nx_points = data['x'].flatten()[:,None] # N x 1\\nExact = np.real(data['usol']).T # T x N\\n\\n#get data labels at t = 0.9 \\nindex = np.where(t_points == end_t)[0][0]\\nend_labels = Exact[index, :]\""
      ]
     },
     "execution_count": 3,
     "metadata": {},
     "output_type": "execute_result"
    }
   ],
   "source": [
    "#CREDIT TO https://github.com/maziarraissi/PINNs/blob/master/appendix/discrete_time_inference%20(Burgers)/Burgers_systematic.py FOR THE BELOW CODE TO IMPORT IRK WEIGHTS AND THE LABEL DATA (AND FOR THE DATA ITSELF)\n",
    "\n",
    "tmp = np.float32(np.loadtxt('./data/Butcher_IRK%d.txt' % (q), ndmin = 2))\n",
    "IRK_weights = np.reshape(tmp[0:q**2+q], (q+1,q)) #presume the first q rows and q columns represent a_{ij} values, and the final row represents the b_j values\n",
    "IRK_times = tmp[q**2+q:] #not sure what this is used for\n",
    "\n",
    "\n",
    "#I may choose to generate my own data once more...\n",
    "'''\n",
    "data = scipy.io.loadmat('./data/burgers_shock.mat')\n",
    "\n",
    "t_points = data['t'].flatten()[:,None] # T x 1\n",
    "x_points = data['x'].flatten()[:,None] # N x 1\n",
    "Exact = np.real(data['usol']).T # T x N\n",
    "\n",
    "#get data labels at t = 0.9 \n",
    "index = np.where(t_points == end_t)[0][0]\n",
    "end_labels = Exact[index, :]'''"
   ]
  },
  {
   "cell_type": "markdown",
   "metadata": {},
   "source": [
    "Generate Data"
   ]
  },
  {
   "cell_type": "code",
   "execution_count": 4,
   "metadata": {},
   "outputs": [],
   "source": [
    "input = np.random.rand(N) * 2 - 1 #x values between -1 and 1\n",
    "\n",
    "initial_vals = -np.sin(input * np.pi) #initial values at t = 0"
   ]
  },
  {
   "cell_type": "markdown",
   "metadata": {},
   "source": [
    "Define Network"
   ]
  },
  {
   "cell_type": "code",
   "execution_count": 5,
   "metadata": {},
   "outputs": [],
   "source": [
    "class PINN(nn.Module):\n",
    "    def __init__(self):\n",
    "        super().__init__()\n",
    "        self.act_func = nn.Tanh()\n",
    "        self.predict = nn.Sequential(\n",
    "            nn.Linear(1, 50),\n",
    "            self.act_func,\n",
    "            nn.Linear(50, 50),\n",
    "            self.act_func,\n",
    "            nn.Linear(50, 50),\n",
    "            self.act_func,\n",
    "            nn.Linear(50, q + 1)\n",
    "        )\n",
    "\n",
    "    def forward(self, x):\n",
    "        x = self.predict(x)\n",
    "        return x"
   ]
  },
  {
   "cell_type": "markdown",
   "metadata": {},
   "source": [
    "Helper Methods"
   ]
  },
  {
   "cell_type": "code",
   "execution_count": 6,
   "metadata": {},
   "outputs": [
    {
     "data": {
      "text/plain": [
       "\"#Nonelinear Burgers' Operator\\ndef NLO(input, outputs, device): #outputs is of the form N x q. Inputs is of form N x 1 and was used to get outputs\\n\\n\\n    u = outputs\\n    print(input.shape)\\n    print(u.shape)\\n\\n    u_x = jacobian(lambda u,x: u, (u, input), create_graph=True, vectorize=True)\\n\\n    print(len(u_x))\\n    print(u_x[0].shape)\\n    print(u_x[1].shape)\\n\\n    u_x = u_x.squeeze(-1) #Jacobian with vectorize should return shape (N, q, 1)\\n\\n    u_xx = jacobian(lambda u_x, x: u_x, (u_x, input), create_graph=True, vectorize=True)\\n\\n    u_xx = u_xx.squeeze(-1)\\n\\n\\n    return u * u_x - (0.01/torch.pi)*u_xx\""
      ]
     },
     "execution_count": 6,
     "metadata": {},
     "output_type": "execute_result"
    }
   ],
   "source": [
    "'''#Nonelinear Burgers' Operator\n",
    "def NLO(input, outputs, device): #outputs is of the form N x q. Inputs is of form N x 1 and was used to get outputs\n",
    "\n",
    "\n",
    "    u = outputs\n",
    "    print(input.shape)\n",
    "    print(u.shape)\n",
    "\n",
    "    u_x = jacobian(lambda u,x: u, (u, input), create_graph=True, vectorize=True)\n",
    "\n",
    "    print(len(u_x))\n",
    "    print(u_x[0].shape)\n",
    "    print(u_x[1].shape)\n",
    "\n",
    "    u_x = u_x.squeeze(-1) #Jacobian with vectorize should return shape (N, q, 1)\n",
    "\n",
    "    u_xx = jacobian(lambda u_x, x: u_x, (u_x, input), create_graph=True, vectorize=True)\n",
    "\n",
    "    u_xx = u_xx.squeeze(-1)\n",
    "\n",
    "\n",
    "    return u * u_x - (0.01/torch.pi)*u_xx'''"
   ]
  },
  {
   "cell_type": "code",
   "execution_count": 7,
   "metadata": {},
   "outputs": [],
   "source": [
    "'''\n",
    "'''\n",
    "\n",
    "#Nonelinear Burgers' Operator\n",
    "def NLO(input, outputs, device): #outputs is of the form N x q. Inputs is of form N x 1 and was used to get outputs\n",
    "\n",
    "\n",
    "    global N\n",
    "    global q\n",
    "\n",
    "    final_output = torch.empty(N, q, requires_grad=True).to(device)\n",
    "\n",
    "    u = outputs.to(torch.float32)\n",
    "\n",
    "    for i in range(q):\n",
    "\n",
    "        new_u = u[:, i].view(-1, 1).to(torch.float32)\n",
    "\n",
    "        u_x = torch.autograd.grad(new_u, input, grad_outputs=torch.ones_like(new_u), retain_graph=True, create_graph=True)[0]\n",
    "        u_xx = torch.autograd.grad(u_x, input, grad_outputs=torch.ones_like(u_x), retain_graph=True, create_graph=True)[0]\n",
    "\n",
    "        #print(new_u.shape)\n",
    "        #print(u_x.shape)\n",
    "        #print(u_xx.shape)\n",
    "        #print(final_output[:, i].shape)\n",
    "        new_column = (new_u * u_x - (0.01/torch.pi)*u_xx).squeeze(-1).to(device)\n",
    "        final_output = torch.cat([final_output[:, :i], new_column.unsqueeze(1), final_output[:, i+1:]], dim=1).to(device)\n",
    "\n",
    "\n",
    "\n",
    "    return final_output\n",
    "\n",
    "\n",
    "\n",
    "    #return outputs\n",
    "\n",
    "    \n",
    "    \n",
    "\n",
    "\n",
    "#Implicit Runge-Kutta Calculation (Combine Intermediate Terms with Butcher Tableau Coefficients)\n",
    "def IRK(input, outputs, initial_vals, coefficients, device): #outputs is tensor of size Nx(q+1), represnting q stages for N x-values and the final n+1 prediction. coefficients is a tensor of size (q+1) x q representing the Butcher Tableau. Input and initial_vals are size (N)\n",
    "\n",
    "    outputs_truncated = outputs[:, :-1] #get all but last row\n",
    "\n",
    "    global N\n",
    "    global q\n",
    "    global h\n",
    "\n",
    "\n",
    "    NLO_outputs = NLO(input, outputs_truncated, device) #perform non-linear operation on each of the outputs_truncated. Shape is still (N, q)\n",
    "    \n",
    "    N_coefficients = coefficients.repeat(N, 1, 1) #stack N coefficients tensors on top of each other\n",
    "    NLO_outputs = NLO_outputs.unsqueeze(-1) #reshape NLO_outputs_reshaped into shape (N, q, 1) for matrix multiplication\n",
    "\n",
    "    coefficients_applied = torch.bmm(N_coefficients, NLO_outputs) #perform matrix multiplication. This represents applying the coefficients a_{ij} (and b_i for n+1 prediction) from the Butcher Tableau to every element in NLO_outputs and THEN recombining them to make every new value which will go on to form the \"calculated\" outputs (intermediate stage values). Has shape (N, q+1, 1), since N_coefficients has shape (N, q+1, q) and NLO_outputs has shape (N, q, 1). For each layer in N, the matrix mulitplcaion (q+1, q) x (q, 1) takes place, resulting in a vector of shape (q+1, 1). N of these makes (N, q+1, 1)\n",
    "    coefficients_applied = coefficients_applied.view(N, -1) #now shape (N, q + 1)\n",
    "\n",
    "    coefficients_applied = -h * coefficients_applied #apply the -h (-\\delta t) to each element in coefficients_applied\n",
    "    initial_vals = initial_vals.view(-1, 1) #reshape initial_vals from (N) to (N, 1)\n",
    "\n",
    "    result = coefficients_applied + initial_vals #Every element in coefficients_applied has a value added to it which is the element from initial_vals on the same layer. We can add the shapes (N, q+1) and (N, 1) due to \"broadcasting\", which effectively stretches the shape of the vector\n",
    "\n",
    "    return result #returns a result which is the same shape as \"outputs\" and represents the same intermediate values, except these are the \"calculated\" versions and not the \"direct predictions\"\n",
    "\n",
    "\n",
    "    "
   ]
  },
  {
   "cell_type": "markdown",
   "metadata": {},
   "source": [
    "Loss Functions"
   ]
  },
  {
   "cell_type": "code",
   "execution_count": 8,
   "metadata": {},
   "outputs": [],
   "source": [
    "'''\n",
    "\n",
    "'''\n",
    "\n",
    "def SSE_n(input, outputs, initial_vals, coefficients, device):\n",
    "\n",
    "    calculated_outputs = IRK(input, outputs, initial_vals, coefficients, device)\n",
    "\n",
    "    SSE_n_loss = torch.sum((calculated_outputs - outputs)**2)\n",
    "\n",
    "    return SSE_n_loss\n",
    "\n",
    "\n",
    "def SSE_b(network, device):\n",
    "    boundary_points = torch.tensor([-1, 1], dtype=torch.float32).to(device).view(-1, 1)\n",
    "    boundary_results = network(boundary_points) #get all intermediary points and the n+1 prediction for x = -1 and 1\n",
    "    return torch.sum(boundary_results**2) #square results and sum them\n",
    "\n",
    "\n",
    "\n",
    "def SSE(input, outputs, initial_vals, coefficients, network, device):\n",
    "    SSE_n_loss = SSE_n(input, outputs, initial_vals, coefficients, device)\n",
    "    SSE_b_loss = SSE_b(network, device)\n",
    "    return SSE_n_loss + SSE_b_loss, SSE_n_loss, SSE_b_loss"
   ]
  },
  {
   "cell_type": "markdown",
   "metadata": {},
   "source": [
    "Training Setup"
   ]
  },
  {
   "cell_type": "code",
   "execution_count": 9,
   "metadata": {},
   "outputs": [
    {
     "name": "stdout",
     "output_type": "stream",
     "text": [
      "Using device: CPU\n"
     ]
    }
   ],
   "source": [
    "pinn = PINN()\n",
    "\n",
    "device = torch.device(\"cuda\" if torch.cuda.is_available() else \"cpu\")\n",
    "print(\"Using device: \" + (\"GPU\" if torch.cuda.is_available() else \"CPU\"))\n",
    "pinn.to(device)\n",
    "\n",
    "\n",
    "input = torch.tensor(input.astype(np.float32), requires_grad=True).to(device).view(-1, 1)\n",
    "initial_vals = torch.tensor(initial_vals.astype(np.float32)).to(device).view(-1, 1)\n",
    "coefficients = torch.tensor(IRK_weights.astype(np.float32)).to(device)\n",
    "\n",
    "i = 0"
   ]
  },
  {
   "cell_type": "markdown",
   "metadata": {},
   "source": [
    "Optimizer"
   ]
  },
  {
   "cell_type": "code",
   "execution_count": 40,
   "metadata": {},
   "outputs": [],
   "source": [
    "optimizer = torch.optim.LBFGS(pinn.parameters(), #PARAMETERS CREDIT TO https://github.com/teeratornk/PINNs-2/blob/master/Burgers%20Equation/Burgers%20Inference%20(PyTorch).ipynb\n",
    "                              lr=1.0,\n",
    "                              max_iter=50000, \n",
    "                                max_eval=50000, \n",
    "                                history_size=50,\n",
    "                                tolerance_grad=1e-5, \n",
    "                                tolerance_change=1.0 * np.finfo(float).eps,\n",
    "                                line_search_fn=\"strong_wolfe\"\n",
    "                              )"
   ]
  },
  {
   "cell_type": "markdown",
   "metadata": {},
   "source": [
    "Training"
   ]
  },
  {
   "cell_type": "code",
   "execution_count": 45,
   "metadata": {},
   "outputs": [
    {
     "name": "stdout",
     "output_type": "stream",
     "text": [
      "STEP: 4656 | Avg Losses | SSE_n: 0.7291953563690186 | SSE_b: 0.029808009043335915 | Total: 0.7590033411979675\n",
      "STEP: 4657 | Avg Losses | SSE_n: 0.7291954755783081 | SSE_b: 0.02980799973011017 | Total: 0.7590034604072571\n",
      "STEP: 4658 | Avg Losses | SSE_n: 0.7291953563690186 | SSE_b: 0.029808009043335915 | Total: 0.7590033411979675\n"
     ]
    },
    {
     "data": {
      "text/plain": [
       "tensor(0.7590, grad_fn=<AddBackward0>)"
      ]
     },
     "execution_count": 45,
     "metadata": {},
     "output_type": "execute_result"
    }
   ],
   "source": [
    "def closure():\n",
    "    optimizer.zero_grad() #reset the gradient so that the previous iteration does not affect the current one\n",
    "    outputs = pinn(input) #run the batch through the current model\n",
    "    \n",
    "    overall_loss, SSE_n, SSE_b = SSE(input, outputs, initial_vals, coefficients, pinn, device) #calculate the loss\n",
    "    overall_loss.backward() #Using backpropagation, calculate the gradients\n",
    "    #print(f\"Avg loss: {loss.item()}\")\n",
    "\n",
    "    global i\n",
    "    #if i%100 == 0:\n",
    "    print(f\"STEP: {i} | Avg Losses | SSE_n: {SSE_n.item()} | SSE_b: {SSE_b.item()} | Total: {overall_loss.item()}\")\n",
    "    i += 1\n",
    "\n",
    "    return overall_loss\n",
    "\n",
    "optimizer.step(closure) #Using the gradients, adjust the parameters   "
   ]
  },
  {
   "cell_type": "markdown",
   "metadata": {},
   "source": [
    "Evaluation"
   ]
  },
  {
   "cell_type": "markdown",
   "metadata": {},
   "source": [
    "Graphing"
   ]
  },
  {
   "cell_type": "code",
   "execution_count": 46,
   "metadata": {},
   "outputs": [
    {
     "data": {
      "image/png": "[encoded data removed]",
      "text/plain": [
       "<Figure size 1000x600 with 1 Axes>"
      ]
     },
     "metadata": {},
     "output_type": "display_data"
    }
   ],
   "source": [
    "num_points = 1000\n",
    "\n",
    "# Generate x values\n",
    "x_vals = torch.linspace(-1, 1, num_points).view(-1, 1).to(device)\n",
    "\n",
    "# Run the model to get predictions\n",
    "with torch.no_grad():\n",
    "    model_output = pinn(x_vals)\n",
    "\n",
    "# Take the q+1th output of the model (last output)\n",
    "final_output = model_output[:, -1].cpu().numpy()\n",
    "\n",
    "# Generate the original function values\n",
    "y_vals = -np.sin(np.pi * x_vals.cpu().numpy())\n",
    "\n",
    "# Create the plot\n",
    "plt.figure(figsize=(10, 6))\n",
    "plt.plot(x_vals.cpu().numpy(), y_vals, 'r', label='-sin(pi * x)')\n",
    "plt.plot(x_vals.cpu().numpy(), final_output, 'b', label='Model Output')\n",
    "plt.legend()\n",
    "plt.xlabel('x')\n",
    "plt.ylabel('y')\n",
    "plt.title('Comparison of Model Output and -sin(pi * x)')\n",
    "plt.show()\n"
   ]
  },
  {
   "cell_type": "markdown",
   "metadata": {},
   "source": [
    "Saving"
   ]
  },
  {
   "cell_type": "code",
   "execution_count": 47,
   "metadata": {},
   "outputs": [
    {
     "name": "stdout",
     "output_type": "stream",
     "text": [
      "Model saved!\n"
     ]
    }
   ],
   "source": [
    "toSave = True\n",
    "\n",
    "if toSave:\n",
    "    base_path = \"./\"\n",
    "    base_name = \"irk_pinn\"\n",
    "    extension = \".pth\"\n",
    "\n",
    "    counter = 0\n",
    "    model_save_path = os.path.join(base_path, base_name + extension)\n",
    "\n",
    "    while os.path.exists(model_save_path):\n",
    "        counter += 1\n",
    "        model_save_path = os.path.join(base_path, f\"{base_name}_{counter}{extension}\")\n",
    "\n",
    "    torch.save(pinn.state_dict(), model_save_path)\n",
    "\n",
    "    print(\"Model saved!\")"
   ]
  }
 ],
 "metadata": {
  "kernelspec": {
   "display_name": "env-1-ai",
   "language": "python",
   "name": "python3"
  },
  "language_info": {
   "codemirror_mode": {
    "name": "ipython",
    "version": 3
   },
   "file_extension": ".py",
   "mimetype": "text/x-python",
   "name": "python",
   "nbconvert_exporter": "python",
   "pygments_lexer": "ipython3",
   "version": "3.11.4"
  },
  "orig_nbformat": 4
 },
 "nbformat": 4,
 "nbformat_minor": 2
}
